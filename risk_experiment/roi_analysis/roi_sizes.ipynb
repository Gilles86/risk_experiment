{
 "cells": [
  {
   "cell_type": "code",
   "execution_count": 1,
   "metadata": {},
   "outputs": [
    {
     "name": "stderr",
     "output_type": "stream",
     "text": [
      "/Users/gdehol/mambaforge/lib/python3.10/site-packages/nilearn/glm/__init__.py:55: FutureWarning: The nilearn.glm module is experimental. It may change in any future release of Nilearn.\n",
      "  warn('The nilearn.glm module is experimental. '\n"
     ]
    }
   ],
   "source": [
    "from nilearn import image\n",
    "import glob\n",
    "import re\n",
    "import numpy as np\n",
    "from risk_experiment.utils import get_all_subject_ids\n",
    "from tqdm.contrib.itertools import product\n",
    "import pandas as pd"
   ]
  },
  {
   "cell_type": "code",
   "execution_count": 2,
   "metadata": {},
   "outputs": [
    {
     "data": {
      "application/vnd.jupyter.widget-view+json": {
       "model_id": "87c862d11eae444f88d26d0196a73746",
       "version_major": 2,
       "version_minor": 0
      },
      "text/plain": [
       "  0%|          | 0/120 [00:00<?, ?it/s]"
      ]
     },
     "metadata": {},
     "output_type": "display_data"
    },
    {
     "ename": "NameError",
     "evalue": "name 'header' is not defined",
     "output_type": "error",
     "traceback": [
      "\u001b[0;31m---------------------------------------------------------------------------\u001b[0m",
      "\u001b[0;31mNameError\u001b[0m                                 Traceback (most recent call last)",
      "Cell \u001b[0;32mIn[2], line 11\u001b[0m\n\u001b[1;32m      8\u001b[0m \u001b[39mfor\u001b[39;00m subject, mask \u001b[39min\u001b[39;00m product(subjects, masks):\n\u001b[1;32m      9\u001b[0m     im \u001b[39m=\u001b[39m image\u001b[39m.\u001b[39mload_img(\u001b[39mf\u001b[39m\u001b[39m'\u001b[39m\u001b[39m/data/ds-risk/derivatives/masks/sub-\u001b[39m\u001b[39m{\u001b[39;00msubject\u001b[39m}\u001b[39;00m\u001b[39m/anat/sub-\u001b[39m\u001b[39m{\u001b[39;00msubject\u001b[39m}\u001b[39;00m\u001b[39m_space-T1w_desc-\u001b[39m\u001b[39m{\u001b[39;00mmask\u001b[39m}\u001b[39;00m\u001b[39m_mask.nii.gz\u001b[39m\u001b[39m'\u001b[39m)\n\u001b[0;32m---> 11\u001b[0m     voxel_volume \u001b[39m=\u001b[39m np\u001b[39m.\u001b[39mprod(np\u001b[39m.\u001b[39marray(header\u001b[39m.\u001b[39mget_zooms()))\n\u001b[1;32m     13\u001b[0m     mask_volume \u001b[39m=\u001b[39m (im\u001b[39m.\u001b[39mget_fdata() \u001b[39m>\u001b[39m \u001b[39m0.0\u001b[39m)\u001b[39m.\u001b[39msum() \u001b[39m*\u001b[39m voxel_volume\n\u001b[1;32m     15\u001b[0m     voxel_sizes\u001b[39m.\u001b[39mappend(mask_volume)\n",
      "\u001b[0;31mNameError\u001b[0m: name 'header' is not defined"
     ]
    }
   ],
   "source": [
    "subjects = get_all_subject_ids()\n",
    "mask = 'lc'\n",
    "masks = ['lc', 'vta', 'snc', 'meynert']\n",
    "\n",
    "keys = []\n",
    "voxel_sizes = []\n",
    "\n",
    "for subject, mask in product(subjects, masks):\n",
    "    im = image.load_img(f'/data/ds-risk/derivatives/masks/sub-{subject}/anat/sub-{subject}_space-T1w_desc-{mask}_mask.nii.gz')\n",
    "\n",
    "    voxel_volume = np.prod(np.array(header.get_zooms()))\n",
    "\n",
    "    mask_volume = (im.get_fdata() > 0.0).sum() * voxel_volume\n",
    "\n",
    "    voxel_sizes.append(mask_volume)\n",
    "    keys.append((subject, mask))"
   ]
  },
  {
   "cell_type": "code",
   "execution_count": null,
   "metadata": {},
   "outputs": [],
   "source": [
    "voxel_sizes = pd.Series(voxel_sizes, index=pd.MultiIndex.from_tuples(keys, names=['subject', 'mask']))"
   ]
  },
  {
   "cell_type": "code",
   "execution_count": null,
   "metadata": {},
   "outputs": [
    {
     "data": {
      "text/html": [
       "<div>\n",
       "<style scoped>\n",
       "    .dataframe tbody tr th:only-of-type {\n",
       "        vertical-align: middle;\n",
       "    }\n",
       "\n",
       "    .dataframe tbody tr th {\n",
       "        vertical-align: top;\n",
       "    }\n",
       "\n",
       "    .dataframe thead th {\n",
       "        text-align: right;\n",
       "    }\n",
       "</style>\n",
       "<table border=\"1\" class=\"dataframe\">\n",
       "  <thead>\n",
       "    <tr style=\"text-align: right;\">\n",
       "      <th></th>\n",
       "      <th>count</th>\n",
       "      <th>mean</th>\n",
       "      <th>std</th>\n",
       "      <th>min</th>\n",
       "      <th>25%</th>\n",
       "      <th>50%</th>\n",
       "      <th>75%</th>\n",
       "      <th>max</th>\n",
       "    </tr>\n",
       "    <tr>\n",
       "      <th>mask</th>\n",
       "      <th></th>\n",
       "      <th></th>\n",
       "      <th></th>\n",
       "      <th></th>\n",
       "      <th></th>\n",
       "      <th></th>\n",
       "      <th></th>\n",
       "      <th></th>\n",
       "    </tr>\n",
       "  </thead>\n",
       "  <tbody>\n",
       "    <tr>\n",
       "      <th>lc</th>\n",
       "      <td>30.0</td>\n",
       "      <td>53.520002</td>\n",
       "      <td>9.077973</td>\n",
       "      <td>37.800002</td>\n",
       "      <td>46.012502</td>\n",
       "      <td>53.100002</td>\n",
       "      <td>59.737502</td>\n",
       "      <td>70.650003</td>\n",
       "    </tr>\n",
       "    <tr>\n",
       "      <th>meynert</th>\n",
       "      <td>30.0</td>\n",
       "      <td>2726.625108</td>\n",
       "      <td>205.843105</td>\n",
       "      <td>2359.800094</td>\n",
       "      <td>2590.312603</td>\n",
       "      <td>2701.350107</td>\n",
       "      <td>2861.100114</td>\n",
       "      <td>3117.150124</td>\n",
       "    </tr>\n",
       "    <tr>\n",
       "      <th>snc</th>\n",
       "      <td>30.0</td>\n",
       "      <td>740.025029</td>\n",
       "      <td>78.682696</td>\n",
       "      <td>540.450021</td>\n",
       "      <td>700.200028</td>\n",
       "      <td>753.300030</td>\n",
       "      <td>781.425031</td>\n",
       "      <td>936.450037</td>\n",
       "    </tr>\n",
       "    <tr>\n",
       "      <th>vta</th>\n",
       "      <td>30.0</td>\n",
       "      <td>552.555022</td>\n",
       "      <td>60.319957</td>\n",
       "      <td>416.250017</td>\n",
       "      <td>507.600020</td>\n",
       "      <td>558.900022</td>\n",
       "      <td>590.062523</td>\n",
       "      <td>708.300028</td>\n",
       "    </tr>\n",
       "  </tbody>\n",
       "</table>\n",
       "</div>"
      ],
      "text/plain": [
       "         count         mean         std          min          25%  \\\n",
       "mask                                                                \n",
       "lc        30.0    53.520002    9.077973    37.800002    46.012502   \n",
       "meynert   30.0  2726.625108  205.843105  2359.800094  2590.312603   \n",
       "snc       30.0   740.025029   78.682696   540.450021   700.200028   \n",
       "vta       30.0   552.555022   60.319957   416.250017   507.600020   \n",
       "\n",
       "                 50%          75%          max  \n",
       "mask                                            \n",
       "lc         53.100002    59.737502    70.650003  \n",
       "meynert  2701.350107  2861.100114  3117.150124  \n",
       "snc       753.300030   781.425031   936.450037  \n",
       "vta       558.900022   590.062523   708.300028  "
      ]
     },
     "execution_count": 37,
     "metadata": {},
     "output_type": "execute_result"
    }
   ],
   "source": [
    "voxel_sizes.groupby('mask').describe()"
   ]
  }
 ],
 "metadata": {
  "kernelspec": {
   "display_name": "base",
   "language": "python",
   "name": "python3"
  },
  "language_info": {
   "codemirror_mode": {
    "name": "ipython",
    "version": 3
   },
   "file_extension": ".py",
   "mimetype": "text/x-python",
   "name": "python",
   "nbconvert_exporter": "python",
   "pygments_lexer": "ipython3",
   "version": "3.10.6"
  },
  "orig_nbformat": 4
 },
 "nbformat": 4,
 "nbformat_minor": 2
}
