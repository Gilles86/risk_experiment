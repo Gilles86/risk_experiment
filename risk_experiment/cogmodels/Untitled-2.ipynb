{
 "cells": [
  {
   "cell_type": "code",
   "execution_count": 1,
   "metadata": {},
   "outputs": [],
   "source": [
    "from nilearn import image"
   ]
  },
  {
   "cell_type": "markdown",
   "metadata": {},
   "source": []
  },
  {
   "cell_type": "code",
   "execution_count": 14,
   "metadata": {},
   "outputs": [
    {
     "ename": "TypeError",
     "evalue": "Data given cannot be loaded because it is not compatible with nibabel format:\n.../__init__.py'>",
     "output_type": "error",
     "traceback": [
      "\u001b[0;31m---------------------------------------------------------------------------\u001b[0m",
      "\u001b[0;31mTypeError\u001b[0m                                 Traceback (most recent call last)",
      "Cell \u001b[0;32mIn[14], line 2\u001b[0m\n\u001b[1;32m      1\u001b[0m mni_brain \u001b[39m=\u001b[39m image\u001b[39m.\u001b[39mload_img(\u001b[39m'\u001b[39m\u001b[39m/usr/local/fsl/data/standard/MNI152_T1_2mm_brain.nii.gz\u001b[39m\u001b[39m'\u001b[39m)\n\u001b[0;32m----> 2\u001b[0m mni_brain \u001b[39m=\u001b[39m image\u001b[39m.\u001b[39;49mresample_to_img(mni_brain, t)\n",
      "File \u001b[0;32m~/mambaforge/lib/python3.10/site-packages/nilearn/image/resampling.py:685\u001b[0m, in \u001b[0;36mresample_to_img\u001b[0;34m(source_img, target_img, interpolation, copy, order, clip, fill_value, force_resample)\u001b[0m\n\u001b[1;32m    630\u001b[0m \u001b[39mdef\u001b[39;00m \u001b[39mresample_to_img\u001b[39m(source_img, target_img,\n\u001b[1;32m    631\u001b[0m                     interpolation\u001b[39m=\u001b[39m\u001b[39m'\u001b[39m\u001b[39mcontinuous\u001b[39m\u001b[39m'\u001b[39m, copy\u001b[39m=\u001b[39m\u001b[39mTrue\u001b[39;00m, order\u001b[39m=\u001b[39m\u001b[39m'\u001b[39m\u001b[39mF\u001b[39m\u001b[39m'\u001b[39m,\n\u001b[1;32m    632\u001b[0m                     clip\u001b[39m=\u001b[39m\u001b[39mFalse\u001b[39;00m, fill_value\u001b[39m=\u001b[39m\u001b[39m0\u001b[39m, force_resample\u001b[39m=\u001b[39m\u001b[39mFalse\u001b[39;00m):\n\u001b[1;32m    633\u001b[0m \u001b[39m    \u001b[39m\u001b[39m\"\"\"Resample a Niimg-like source image on a target Niimg-like image\u001b[39;00m\n\u001b[1;32m    634\u001b[0m \u001b[39m    (no registration is performed: the image should already be aligned).\u001b[39;00m\n\u001b[1;32m    635\u001b[0m \n\u001b[0;32m   (...)\u001b[0m\n\u001b[1;32m    683\u001b[0m \n\u001b[1;32m    684\u001b[0m \u001b[39m    \"\"\"\u001b[39;00m\n\u001b[0;32m--> 685\u001b[0m     target \u001b[39m=\u001b[39m _utils\u001b[39m.\u001b[39;49mcheck_niimg(target_img)\n\u001b[1;32m    686\u001b[0m     target_shape \u001b[39m=\u001b[39m target\u001b[39m.\u001b[39mshape\n\u001b[1;32m    688\u001b[0m     \u001b[39m# When target shape is greater than 3, we reduce to 3, to be compatible\u001b[39;00m\n\u001b[1;32m    689\u001b[0m     \u001b[39m# with underlying call to resample_img\u001b[39;00m\n",
      "File \u001b[0;32m~/mambaforge/lib/python3.10/site-packages/nilearn/_utils/niimg_conversions.py:286\u001b[0m, in \u001b[0;36mcheck_niimg\u001b[0;34m(niimg, ensure_ndim, atleast_4d, dtype, return_iterator, wildcards)\u001b[0m\n\u001b[1;32m    283\u001b[0m     \u001b[39mreturn\u001b[39;00m concat_niimgs(niimg, ensure_ndim\u001b[39m=\u001b[39mensure_ndim, dtype\u001b[39m=\u001b[39mdtype)\n\u001b[1;32m    285\u001b[0m \u001b[39m# Otherwise, it should be a filename or a SpatialImage, we load it\u001b[39;00m\n\u001b[0;32m--> 286\u001b[0m niimg \u001b[39m=\u001b[39m load_niimg(niimg, dtype\u001b[39m=\u001b[39;49mdtype)\n\u001b[1;32m    288\u001b[0m \u001b[39mif\u001b[39;00m ensure_ndim \u001b[39m==\u001b[39m \u001b[39m3\u001b[39m \u001b[39mand\u001b[39;00m \u001b[39mlen\u001b[39m(niimg\u001b[39m.\u001b[39mshape) \u001b[39m==\u001b[39m \u001b[39m4\u001b[39m \u001b[39mand\u001b[39;00m niimg\u001b[39m.\u001b[39mshape[\u001b[39m3\u001b[39m] \u001b[39m==\u001b[39m \u001b[39m1\u001b[39m:\n\u001b[1;32m    289\u001b[0m     \u001b[39m# \"squeeze\" the image.\u001b[39;00m\n\u001b[1;32m    290\u001b[0m     data \u001b[39m=\u001b[39m _safe_get_data(niimg)\n",
      "File \u001b[0;32m~/mambaforge/lib/python3.10/site-packages/nilearn/_utils/niimg.py:133\u001b[0m, in \u001b[0;36mload_niimg\u001b[0;34m(niimg, dtype)\u001b[0m\n\u001b[1;32m    131\u001b[0m     niimg \u001b[39m=\u001b[39m nibabel\u001b[39m.\u001b[39mload(niimg)\n\u001b[1;32m    132\u001b[0m \u001b[39melif\u001b[39;00m \u001b[39mnot\u001b[39;00m \u001b[39misinstance\u001b[39m(niimg, nibabel\u001b[39m.\u001b[39mspatialimages\u001b[39m.\u001b[39mSpatialImage):\n\u001b[0;32m--> 133\u001b[0m     \u001b[39mraise\u001b[39;00m \u001b[39mTypeError\u001b[39;00m(\u001b[39m\"\u001b[39m\u001b[39mData given cannot be loaded because it is\u001b[39m\u001b[39m\"\u001b[39m\n\u001b[1;32m    134\u001b[0m                     \u001b[39m\"\u001b[39m\u001b[39m not compatible with nibabel format:\u001b[39m\u001b[39m\\n\u001b[39;00m\u001b[39m\"\u001b[39m\n\u001b[1;32m    135\u001b[0m                     \u001b[39m+\u001b[39m _repr_niimgs(niimg, shorten\u001b[39m=\u001b[39m\u001b[39mTrue\u001b[39;00m))\n\u001b[1;32m    137\u001b[0m dtype \u001b[39m=\u001b[39m _get_target_dtype(_get_data(niimg)\u001b[39m.\u001b[39mdtype, dtype)\n\u001b[1;32m    139\u001b[0m \u001b[39mif\u001b[39;00m dtype \u001b[39mis\u001b[39;00m \u001b[39mnot\u001b[39;00m \u001b[39mNone\u001b[39;00m:\n\u001b[1;32m    140\u001b[0m     \u001b[39m# Copyheader and set dtype in header if header exists\u001b[39;00m\n",
      "\u001b[0;31mTypeError\u001b[0m: Data given cannot be loaded because it is not compatible with nibabel format:\n.../__init__.py'>"
     ]
    }
   ],
   "source": [
    "mni_brain = image.load_img('/usr/local/fsl/data/standard/MNI152_T1_2mm_brain.nii.gz')\n",
    "mni_brain = image.resample_to_img(mni_brain, t)"
   ]
  },
  {
   "cell_type": "code",
   "execution_count": 15,
   "metadata": {},
   "outputs": [],
   "source": [
    "t = image.load_img('/Users/gdehol/Downloads/spmT_0001.nii')\n",
    "mni_mask = image.load_img('/usr/local/fsl/data/standard/MNI152_T1_2mm_brain_mask.nii.gz')\n",
    "\n",
    "mni_mask = image.resample_to_img(mni_mask, t, interpolation='nearest')\n",
    "mni_mask.to_filename(\"/Users/gdehol/Downloads/mask.nii.gz\")"
   ]
  },
  {
   "cell_type": "code",
   "execution_count": 19,
   "metadata": {},
   "outputs": [],
   "source": [
    "import scipy.stats as ss\n",
    "import numpy as np"
   ]
  },
  {
   "cell_type": "code",
   "execution_count": 25,
   "metadata": {},
   "outputs": [],
   "source": [
    "import seaborn as sns"
   ]
  },
  {
   "cell_type": "code",
   "execution_count": 29,
   "metadata": {},
   "outputs": [
    {
     "name": "stderr",
     "output_type": "stream",
     "text": [
      "/var/folders/d4/cpqhwlbn301clph1qk64k01nmjkty3/T/ipykernel_80180/2772316963.py:1: DeprecationWarning: get_data() is deprecated in favor of get_fdata(), which has a more predictable return type. To obtain get_data() behavior going forward, use numpy.asanyarray(img.dataobj).\n",
      "\n",
      "* deprecated from version: 3.0\n",
      "* Will raise <class 'nibabel.deprecator.ExpiredDeprecationError'> as of version: 5.0\n",
      "  x = ss.norm().ppf(ss.t(57).cdf(t.get_data()))\n",
      "/var/folders/d4/cpqhwlbn301clph1qk64k01nmjkty3/T/ipykernel_80180/2772316963.py:4: DeprecationWarning: get_data() is deprecated in favor of get_fdata(), which has a more predictable return type. To obtain get_data() behavior going forward, use numpy.asanyarray(img.dataobj).\n",
      "\n",
      "* deprecated from version: 3.0\n",
      "* Will raise <class 'nibabel.deprecator.ExpiredDeprecationError'> as of version: 5.0\n",
      "  sns.kdeplot(t.get_data().ravel())\n"
     ]
    },
    {
     "data": {
      "text/plain": [
       "<Axes: ylabel='Density'>"
      ]
     },
     "execution_count": 29,
     "metadata": {},
     "output_type": "execute_result"
    },
    {
     "data": {
      "image/png": "[encoded data removed]",
      "text/plain": [
       "<Figure size 640x480 with 1 Axes>"
      ]
     },
     "metadata": {},
     "output_type": "display_data"
    }
   ],
   "source": [
    "x = ss.norm().ppf(ss.t(57).cdf(t.get_data()))\n",
    "\n",
    "\n",
    "sns.kdeplot(t.get_data().ravel())\n",
    "sns.kdeplot(x.ravel())"
   ]
  },
  {
   "cell_type": "code",
   "execution_count": 11,
   "metadata": {},
   "outputs": [
    {
     "name": "stderr",
     "output_type": "stream",
     "text": [
      "/Users/gdehol/mambaforge/lib/python3.10/site-packages/nilearn/image/resampling.py:545: UserWarning: Casting data from int16 to float32\n",
      "  warnings.warn(\"Casting data from %s to %s\" % (data.dtype.name, aux))\n"
     ]
    }
   ],
   "source": [
    "mni_brain = image.load_img('/usr/local/fsl/data/standard/MNI152_T1_2mm_brain.nii.gz')\n",
    "mni_brain = image.resample_to_img(mni_brain, t)\n",
    "mni_brain.to_filename('/Users/gdehol/Downloads/mni_brain.nii.gz')"
   ]
  },
  {
   "cell_type": "code",
   "execution_count": 8,
   "metadata": {},
   "outputs": [],
   "source": [
    "t2_fake = image.math_img('t*2', t=t)"
   ]
  },
  {
   "cell_type": "code",
   "execution_count": 10,
   "metadata": {},
   "outputs": [],
   "source": [
    "t2_fake.to_filename('/Users/gdehol/Downloads/spm_fake.nii.gz')"
   ]
  },
  {
   "cell_type": "code",
   "execution_count": 33,
   "metadata": {},
   "outputs": [
    {
     "data": {
      "text/plain": [
       "2.8665157187919344e-07"
      ]
     },
     "execution_count": 33,
     "metadata": {},
     "output_type": "execute_result"
    }
   ],
   "source": [
    "ss.norm().cdf(-5)"
   ]
  },
  {
   "cell_type": "code",
   "execution_count": 39,
   "metadata": {},
   "outputs": [
    {
     "data": {
      "text/plain": [
       "([], [])"
      ]
     },
     "execution_count": 39,
     "metadata": {},
     "output_type": "execute_result"
    },
    {
     "data": {
      "image/png": "[encoded data removed]",
      "text/plain": [
       "<Figure size 640x480 with 1 Axes>"
      ]
     },
     "metadata": {},
     "output_type": "display_data"
    }
   ],
   "source": [
    "import matplotlib.pyplot as plt\n",
    "import seaborn as sns\n",
    "\n",
    "x = np.linspace(-5, 5)\n",
    "plt.plot(x, ss.norm().pdf(x))\n",
    "\n",
    "# Get rid of top and right axes\n",
    "sns.despine()\n",
    "\n",
    "# Get rid of yticks\n",
    "plt.yticks([])\n",
    "\n",
    "# get rid of xticks\n",
    "plt.xticks([])\n",
    "\n",
    "\n",
    "plt.xticks([0, .5, 1.])"
   ]
  },
  {
   "cell_type": "code",
   "execution_count": null,
   "metadata": {},
   "outputs": [],
   "source": []
  }
 ],
 "metadata": {
  "kernelspec": {
   "display_name": "base",
   "language": "python",
   "name": "python3"
  },
  "language_info": {
   "codemirror_mode": {
    "name": "ipython",
    "version": 3
   },
   "file_extension": ".py",
   "mimetype": "text/x-python",
   "name": "python",
   "nbconvert_exporter": "python",
   "pygments_lexer": "ipython3",
   "version": "3.10.6"
  },
  "orig_nbformat": 4,
  "vscode": {
   "interpreter": {
    "hash": "a128080c8c39cf33963eaaa0fee95f5610fd25c7c34c91613760903d9a2a0b15"
   }
  }
 },
 "nbformat": 4,
 "nbformat_minor": 2
}
