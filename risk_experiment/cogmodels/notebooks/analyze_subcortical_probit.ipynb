{
 "cells": [
  {
   "cell_type": "code",
   "execution_count": 97,
   "metadata": {},
   "outputs": [],
   "source": [
    "import arviz as az\n",
    "import os.path as op\n",
    "from tqdm.contrib.itertools import product\n",
    "import pandas as pd\n",
    "import seaborn as sns\n",
    "import matplotlib.pyplot as plt\n",
    "import numpy as np\n",
    "# Distance to RNP\n",
    "from risk_experiment.cogmodels.fit_probit import build_model, get_data\n",
    "from risk_experiment.cogmodels.utils import get_fake_data, extract_intercept_gamma\n",
    "cm = 1/2.54  # centimeters in inches\n",
    "\n",
    "palette = sns.color_palette()[6:]\n",
    "order = ['Low activation', 'High activation']\n",
    "bids_folder = '/data/ds-risk'"
   ]
  },
  {
   "cell_type": "code",
   "execution_count": 134,
   "metadata": {},
   "outputs": [],
   "source": [
    "def load(model_label, session, bids_folder='/data/ds-risk', roi=None):\n",
    "    df = get_data(model_label, session, bids_folder, roi=roi)\n",
    "    model = build_model(model_label, df, session, bids_folder, roi=roi)\n",
    "    idata = az.from_netcdf(f'/data/ds-risk/derivatives/cogmodels/model-{model_label}_ses-{session}_roi-{roi}_trace.netcdf')\n",
    "\n",
    "    return df, model, idata\n",
    "\n",
    "def get_hdi(x):\n",
    "    return tuple(az.hdi(x.values))\n",
    "\n",
    "\n",
    "rois = ['dmidbrain', 'vtav2', 'sncv2', 'meynert', 'lc'][1:]\n",
    "\n",
    "# rois = ['vtav2', 'sncv2', 'lc']"
   ]
  },
  {
   "cell_type": "markdown",
   "metadata": {},
   "source": [
    "# Simplest model"
   ]
  },
  {
   "cell_type": "code",
   "execution_count": 133,
   "metadata": {},
   "outputs": [
    {
     "name": "stderr",
     "output_type": "stream",
     "text": [
      "100%|██████████| 30/30 [00:01<00:00, 24.21it/s]\n",
      "100%|██████████| 30/30 [00:01<00:00, 26.07it/s]\n",
      "100%|██████████| 30/30 [00:01<00:00, 25.02it/s]\n",
      "100%|██████████| 30/30 [00:01<00:00, 23.28it/s]\n",
      "100%|██████████| 30/30 [00:01<00:00, 24.57it/s]\n"
     ]
    },
    {
     "ename": "FileNotFoundError",
     "evalue": "[Errno 2] No such file or directory: b'/data/ds-risk/derivatives/cogmodels/model-probit_subcortical_response1_ses-7t2_roi-dmidbrain_trace.netcdf'",
     "output_type": "error",
     "traceback": [
      "\u001b[0;31m---------------------------------------------------------------------------\u001b[0m",
      "\u001b[0;31mFileNotFoundError\u001b[0m                         Traceback (most recent call last)",
      "Cell \u001b[0;32mIn[133], line 5\u001b[0m\n\u001b[1;32m      2\u001b[0m gammas \u001b[39m=\u001b[39m []\n\u001b[1;32m      4\u001b[0m \u001b[39mfor\u001b[39;00m roi \u001b[39min\u001b[39;00m rois:\n\u001b[0;32m----> 5\u001b[0m     df, model, idata \u001b[39m=\u001b[39m load(\u001b[39m'\u001b[39;49m\u001b[39mprobit_subcortical_response1\u001b[39;49m\u001b[39m'\u001b[39;49m, \u001b[39m'\u001b[39;49m\u001b[39m7t2\u001b[39;49m\u001b[39m'\u001b[39;49m, roi\u001b[39m=\u001b[39;49mroi)\n\u001b[1;32m      6\u001b[0m     intercept, gamma \u001b[39m=\u001b[39m extract_intercept_gamma(idata, model, df, group\u001b[39m=\u001b[39m\u001b[39mTrue\u001b[39;00m)\n\u001b[1;32m      7\u001b[0m     rnp \u001b[39m=\u001b[39m np\u001b[39m.\u001b[39mexp(intercept[\u001b[39m'\u001b[39m\u001b[39mintercept\u001b[39m\u001b[39m'\u001b[39m]\u001b[39m/\u001b[39mgamma[\u001b[39m'\u001b[39m\u001b[39mgamma\u001b[39m\u001b[39m'\u001b[39m])\u001b[39m.\u001b[39mstack([\u001b[39m-\u001b[39m\u001b[39m2\u001b[39m, \u001b[39m-\u001b[39m\u001b[39m1\u001b[39m])\u001b[39m.\u001b[39mto_frame(\u001b[39m'\u001b[39m\u001b[39mrnp\u001b[39m\u001b[39m'\u001b[39m)\n",
      "Cell \u001b[0;32mIn[98], line 4\u001b[0m, in \u001b[0;36mload\u001b[0;34m(model_label, session, bids_folder, roi)\u001b[0m\n\u001b[1;32m      2\u001b[0m df \u001b[39m=\u001b[39m get_data(model_label, session, bids_folder, roi\u001b[39m=\u001b[39mroi)\n\u001b[1;32m      3\u001b[0m model \u001b[39m=\u001b[39m build_model(model_label, df, session, bids_folder, roi\u001b[39m=\u001b[39mroi)\n\u001b[0;32m----> 4\u001b[0m idata \u001b[39m=\u001b[39m az\u001b[39m.\u001b[39;49mfrom_netcdf(\u001b[39mf\u001b[39;49m\u001b[39m'\u001b[39;49m\u001b[39m/data/ds-risk/derivatives/cogmodels/model-\u001b[39;49m\u001b[39m{\u001b[39;49;00mmodel_label\u001b[39m}\u001b[39;49;00m\u001b[39m_ses-\u001b[39;49m\u001b[39m{\u001b[39;49;00msession\u001b[39m}\u001b[39;49;00m\u001b[39m_roi-\u001b[39;49m\u001b[39m{\u001b[39;49;00mroi\u001b[39m}\u001b[39;49;00m\u001b[39m_trace.netcdf\u001b[39;49m\u001b[39m'\u001b[39;49m)\n\u001b[1;32m      6\u001b[0m \u001b[39mreturn\u001b[39;00m df, model, idata\n",
      "File \u001b[0;32m~/mambaforge/lib/python3.10/site-packages/arviz/data/io_netcdf.py:34\u001b[0m, in \u001b[0;36mfrom_netcdf\u001b[0;34m(filename, group_kwargs, regex)\u001b[0m\n\u001b[1;32m     32\u001b[0m \u001b[39mif\u001b[39;00m group_kwargs \u001b[39mis\u001b[39;00m \u001b[39mNone\u001b[39;00m:\n\u001b[1;32m     33\u001b[0m     group_kwargs \u001b[39m=\u001b[39m {}\n\u001b[0;32m---> 34\u001b[0m \u001b[39mreturn\u001b[39;00m InferenceData\u001b[39m.\u001b[39;49mfrom_netcdf(filename, group_kwargs, regex)\n",
      "File \u001b[0;32m~/mambaforge/lib/python3.10/site-packages/arviz/data/inference_data.py:402\u001b[0m, in \u001b[0;36mInferenceData.from_netcdf\u001b[0;34m(filename, group_kwargs, regex)\u001b[0m\n\u001b[1;32m    391\u001b[0m \u001b[39mif\u001b[39;00m err\u001b[39m.\u001b[39merrno \u001b[39m==\u001b[39m \u001b[39m-\u001b[39m\u001b[39m101\u001b[39m:\n\u001b[1;32m    392\u001b[0m     \u001b[39mraise\u001b[39;00m \u001b[39mtype\u001b[39m(err)(\n\u001b[1;32m    393\u001b[0m         \u001b[39mstr\u001b[39m(err)\n\u001b[1;32m    394\u001b[0m         \u001b[39m+\u001b[39m (\n\u001b[0;32m   (...)\u001b[0m\n\u001b[1;32m    400\u001b[0m         )\n\u001b[1;32m    401\u001b[0m     ) \u001b[39mfrom\u001b[39;00m \u001b[39merr\u001b[39;00m\n\u001b[0;32m--> 402\u001b[0m \u001b[39mraise\u001b[39;00m err\n",
      "File \u001b[0;32m~/mambaforge/lib/python3.10/site-packages/arviz/data/inference_data.py:369\u001b[0m, in \u001b[0;36mInferenceData.from_netcdf\u001b[0;34m(filename, group_kwargs, regex)\u001b[0m\n\u001b[1;32m    366\u001b[0m attrs \u001b[39m=\u001b[39m {}\n\u001b[1;32m    368\u001b[0m \u001b[39mtry\u001b[39;00m:\n\u001b[0;32m--> 369\u001b[0m     \u001b[39mwith\u001b[39;00m nc\u001b[39m.\u001b[39;49mDataset(filename, mode\u001b[39m=\u001b[39;49m\u001b[39m\"\u001b[39;49m\u001b[39mr\u001b[39;49m\u001b[39m\"\u001b[39;49m) \u001b[39mas\u001b[39;00m data:\n\u001b[1;32m    370\u001b[0m         data_groups \u001b[39m=\u001b[39m \u001b[39mlist\u001b[39m(data\u001b[39m.\u001b[39mgroups)\n\u001b[1;32m    372\u001b[0m     \u001b[39mfor\u001b[39;00m group \u001b[39min\u001b[39;00m data_groups:\n",
      "File \u001b[0;32msrc/netCDF4/_netCDF4.pyx:2463\u001b[0m, in \u001b[0;36mnetCDF4._netCDF4.Dataset.__init__\u001b[0;34m()\u001b[0m\n",
      "File \u001b[0;32msrc/netCDF4/_netCDF4.pyx:2026\u001b[0m, in \u001b[0;36mnetCDF4._netCDF4._ensure_nc_success\u001b[0;34m()\u001b[0m\n",
      "\u001b[0;31mFileNotFoundError\u001b[0m: [Errno 2] No such file or directory: b'/data/ds-risk/derivatives/cogmodels/model-probit_subcortical_response1_ses-7t2_roi-dmidbrain_trace.netcdf'"
     ]
    }
   ],
   "source": [
    "rnps = []\n",
    "gammas = []\n",
    "\n",
    "for roi in rois:\n",
    "    df, model, idata = load('probit_subcortical_response1', '7t2', roi=roi)\n",
    "    intercept, gamma = extract_intercept_gamma(idata, model, df, group=True)\n",
    "    rnp = np.exp(intercept['intercept']/gamma['gamma']).stack([-2, -1]).to_frame('rnp')\n",
    "    rnp = rnp[(rnp['rnp'] > 0.0) & (rnp['rnp'] < 1.0)]\n",
    "    rnp.index = rnp.index.set_levels(rnp.index.levels[1].astype(int), level=1)\n",
    "\n",
    "    gamma = gamma.stack([-2, -1])\n",
    "\n",
    "    rnps.append(rnp)\n",
    "    gammas.append(gamma)"
   ]
  },
  {
   "cell_type": "code",
   "execution_count": 110,
   "metadata": {},
   "outputs": [
    {
     "data": {
      "text/html": [
       "<div><svg style=\"position: absolute; width: 0; height: 0; overflow: hidden\">\n",
       "<defs>\n",
       "<symbol id=\"icon-database\" viewBox=\"0 0 32 32\">\n",
       "<path d=\"M16 0c-8.837 0-16 2.239-16 5v4c0 2.761 7.163 5 16 5s16-2.239 16-5v-4c0-2.761-7.163-5-16-5z\"></path>\n",
       "<path d=\"M16 17c-8.837 0-16-2.239-16-5v6c0 2.761 7.163 5 16 5s16-2.239 16-5v-6c0 2.761-7.163 5-16 5z\"></path>\n",
       "<path d=\"M16 26c-8.837 0-16-2.239-16-5v6c0 2.761 7.163 5 16 5s16-2.239 16-5v-6c0 2.761-7.163 5-16 5z\"></path>\n",
       "</symbol>\n",
       "<symbol id=\"icon-file-text2\" viewBox=\"0 0 32 32\">\n",
       "<path d=\"M28.681 7.159c-0.694-0.947-1.662-2.053-2.724-3.116s-2.169-2.030-3.116-2.724c-1.612-1.182-2.393-1.319-2.841-1.319h-15.5c-1.378 0-2.5 1.121-2.5 2.5v27c0 1.378 1.122 2.5 2.5 2.5h23c1.378 0 2.5-1.122 2.5-2.5v-19.5c0-0.448-0.137-1.23-1.319-2.841zM24.543 5.457c0.959 0.959 1.712 1.825 2.268 2.543h-4.811v-4.811c0.718 0.556 1.584 1.309 2.543 2.268zM28 29.5c0 0.271-0.229 0.5-0.5 0.5h-23c-0.271 0-0.5-0.229-0.5-0.5v-27c0-0.271 0.229-0.5 0.5-0.5 0 0 15.499-0 15.5 0v7c0 0.552 0.448 1 1 1h7v19.5z\"></path>\n",
       "<path d=\"M23 26h-14c-0.552 0-1-0.448-1-1s0.448-1 1-1h14c0.552 0 1 0.448 1 1s-0.448 1-1 1z\"></path>\n",
       "<path d=\"M23 22h-14c-0.552 0-1-0.448-1-1s0.448-1 1-1h14c0.552 0 1 0.448 1 1s-0.448 1-1 1z\"></path>\n",
       "<path d=\"M23 18h-14c-0.552 0-1-0.448-1-1s0.448-1 1-1h14c0.552 0 1 0.448 1 1s-0.448 1-1 1z\"></path>\n",
       "</symbol>\n",
       "</defs>\n",
       "</svg>\n",
       "<style>/* CSS stylesheet for displaying xarray objects in jupyterlab.\n",
       " *\n",
       " */\n",
       "\n",
       ":root {\n",
       "  --xr-font-color0: var(--jp-content-font-color0, rgba(0, 0, 0, 1));\n",
       "  --xr-font-color2: var(--jp-content-font-color2, rgba(0, 0, 0, 0.54));\n",
       "  --xr-font-color3: var(--jp-content-font-color3, rgba(0, 0, 0, 0.38));\n",
       "  --xr-border-color: var(--jp-border-color2, #e0e0e0);\n",
       "  --xr-disabled-color: var(--jp-layout-color3, #bdbdbd);\n",
       "  --xr-background-color: var(--jp-layout-color0, white);\n",
       "  --xr-background-color-row-even: var(--jp-layout-color1, white);\n",
       "  --xr-background-color-row-odd: var(--jp-layout-color2, #eeeeee);\n",
       "}\n",
       "\n",
       "html[theme=dark],\n",
       "body[data-theme=dark],\n",
       "body.vscode-dark {\n",
       "  --xr-font-color0: rgba(255, 255, 255, 1);\n",
       "  --xr-font-color2: rgba(255, 255, 255, 0.54);\n",
       "  --xr-font-color3: rgba(255, 255, 255, 0.38);\n",
       "  --xr-border-color: #1F1F1F;\n",
       "  --xr-disabled-color: #515151;\n",
       "  --xr-background-color: #111111;\n",
       "  --xr-background-color-row-even: #111111;\n",
       "  --xr-background-color-row-odd: #313131;\n",
       "}\n",
       "\n",
       ".xr-wrap {\n",
       "  display: block !important;\n",
       "  min-width: 300px;\n",
       "  max-width: 700px;\n",
       "}\n",
       "\n",
       ".xr-text-repr-fallback {\n",
       "  /* fallback to plain text repr when CSS is not injected (untrusted notebook) */\n",
       "  display: none;\n",
       "}\n",
       "\n",
       ".xr-header {\n",
       "  padding-top: 6px;\n",
       "  padding-bottom: 6px;\n",
       "  margin-bottom: 4px;\n",
       "  border-bottom: solid 1px var(--xr-border-color);\n",
       "}\n",
       "\n",
       ".xr-header > div,\n",
       ".xr-header > ul {\n",
       "  display: inline;\n",
       "  margin-top: 0;\n",
       "  margin-bottom: 0;\n",
       "}\n",
       "\n",
       ".xr-obj-type,\n",
       ".xr-array-name {\n",
       "  margin-left: 2px;\n",
       "  margin-right: 10px;\n",
       "}\n",
       "\n",
       ".xr-obj-type {\n",
       "  color: var(--xr-font-color2);\n",
       "}\n",
       "\n",
       ".xr-sections {\n",
       "  padding-left: 0 !important;\n",
       "  display: grid;\n",
       "  grid-template-columns: 150px auto auto 1fr 20px 20px;\n",
       "}\n",
       "\n",
       ".xr-section-item {\n",
       "  display: contents;\n",
       "}\n",
       "\n",
       ".xr-section-item input {\n",
       "  display: none;\n",
       "}\n",
       "\n",
       ".xr-section-item input + label {\n",
       "  color: var(--xr-disabled-color);\n",
       "}\n",
       "\n",
       ".xr-section-item input:enabled + label {\n",
       "  cursor: pointer;\n",
       "  color: var(--xr-font-color2);\n",
       "}\n",
       "\n",
       ".xr-section-item input:enabled + label:hover {\n",
       "  color: var(--xr-font-color0);\n",
       "}\n",
       "\n",
       ".xr-section-summary {\n",
       "  grid-column: 1;\n",
       "  color: var(--xr-font-color2);\n",
       "  font-weight: 500;\n",
       "}\n",
       "\n",
       ".xr-section-summary > span {\n",
       "  display: inline-block;\n",
       "  padding-left: 0.5em;\n",
       "}\n",
       "\n",
       ".xr-section-summary-in:disabled + label {\n",
       "  color: var(--xr-font-color2);\n",
       "}\n",
       "\n",
       ".xr-section-summary-in + label:before {\n",
       "  display: inline-block;\n",
       "  content: '►';\n",
       "  font-size: 11px;\n",
       "  width: 15px;\n",
       "  text-align: center;\n",
       "}\n",
       "\n",
       ".xr-section-summary-in:disabled + label:before {\n",
       "  color: var(--xr-disabled-color);\n",
       "}\n",
       "\n",
       ".xr-section-summary-in:checked + label:before {\n",
       "  content: '▼';\n",
       "}\n",
       "\n",
       ".xr-section-summary-in:checked + label > span {\n",
       "  display: none;\n",
       "}\n",
       "\n",
       ".xr-section-summary,\n",
       ".xr-section-inline-details {\n",
       "  padding-top: 4px;\n",
       "  padding-bottom: 4px;\n",
       "}\n",
       "\n",
       ".xr-section-inline-details {\n",
       "  grid-column: 2 / -1;\n",
       "}\n",
       "\n",
       ".xr-section-details {\n",
       "  display: none;\n",
       "  grid-column: 1 / -1;\n",
       "  margin-bottom: 5px;\n",
       "}\n",
       "\n",
       ".xr-section-summary-in:checked ~ .xr-section-details {\n",
       "  display: contents;\n",
       "}\n",
       "\n",
       ".xr-array-wrap {\n",
       "  grid-column: 1 / -1;\n",
       "  display: grid;\n",
       "  grid-template-columns: 20px auto;\n",
       "}\n",
       "\n",
       ".xr-array-wrap > label {\n",
       "  grid-column: 1;\n",
       "  vertical-align: top;\n",
       "}\n",
       "\n",
       ".xr-preview {\n",
       "  color: var(--xr-font-color3);\n",
       "}\n",
       "\n",
       ".xr-array-preview,\n",
       ".xr-array-data {\n",
       "  padding: 0 5px !important;\n",
       "  grid-column: 2;\n",
       "}\n",
       "\n",
       ".xr-array-data,\n",
       ".xr-array-in:checked ~ .xr-array-preview {\n",
       "  display: none;\n",
       "}\n",
       "\n",
       ".xr-array-in:checked ~ .xr-array-data,\n",
       ".xr-array-preview {\n",
       "  display: inline-block;\n",
       "}\n",
       "\n",
       ".xr-dim-list {\n",
       "  display: inline-block !important;\n",
       "  list-style: none;\n",
       "  padding: 0 !important;\n",
       "  margin: 0;\n",
       "}\n",
       "\n",
       ".xr-dim-list li {\n",
       "  display: inline-block;\n",
       "  padding: 0;\n",
       "  margin: 0;\n",
       "}\n",
       "\n",
       ".xr-dim-list:before {\n",
       "  content: '(';\n",
       "}\n",
       "\n",
       ".xr-dim-list:after {\n",
       "  content: ')';\n",
       "}\n",
       "\n",
       ".xr-dim-list li:not(:last-child):after {\n",
       "  content: ',';\n",
       "  padding-right: 5px;\n",
       "}\n",
       "\n",
       ".xr-has-index {\n",
       "  font-weight: bold;\n",
       "}\n",
       "\n",
       ".xr-var-list,\n",
       ".xr-var-item {\n",
       "  display: contents;\n",
       "}\n",
       "\n",
       ".xr-var-item > div,\n",
       ".xr-var-item label,\n",
       ".xr-var-item > .xr-var-name span {\n",
       "  background-color: var(--xr-background-color-row-even);\n",
       "  margin-bottom: 0;\n",
       "}\n",
       "\n",
       ".xr-var-item > .xr-var-name:hover span {\n",
       "  padding-right: 5px;\n",
       "}\n",
       "\n",
       ".xr-var-list > li:nth-child(odd) > div,\n",
       ".xr-var-list > li:nth-child(odd) > label,\n",
       ".xr-var-list > li:nth-child(odd) > .xr-var-name span {\n",
       "  background-color: var(--xr-background-color-row-odd);\n",
       "}\n",
       "\n",
       ".xr-var-name {\n",
       "  grid-column: 1;\n",
       "}\n",
       "\n",
       ".xr-var-dims {\n",
       "  grid-column: 2;\n",
       "}\n",
       "\n",
       ".xr-var-dtype {\n",
       "  grid-column: 3;\n",
       "  text-align: right;\n",
       "  color: var(--xr-font-color2);\n",
       "}\n",
       "\n",
       ".xr-var-preview {\n",
       "  grid-column: 4;\n",
       "}\n",
       "\n",
       ".xr-index-preview {\n",
       "  grid-column: 2 / 5;\n",
       "  color: var(--xr-font-color2);\n",
       "}\n",
       "\n",
       ".xr-var-name,\n",
       ".xr-var-dims,\n",
       ".xr-var-dtype,\n",
       ".xr-preview,\n",
       ".xr-attrs dt {\n",
       "  white-space: nowrap;\n",
       "  overflow: hidden;\n",
       "  text-overflow: ellipsis;\n",
       "  padding-right: 10px;\n",
       "}\n",
       "\n",
       ".xr-var-name:hover,\n",
       ".xr-var-dims:hover,\n",
       ".xr-var-dtype:hover,\n",
       ".xr-attrs dt:hover {\n",
       "  overflow: visible;\n",
       "  width: auto;\n",
       "  z-index: 1;\n",
       "}\n",
       "\n",
       ".xr-var-attrs,\n",
       ".xr-var-data,\n",
       ".xr-index-data {\n",
       "  display: none;\n",
       "  background-color: var(--xr-background-color) !important;\n",
       "  padding-bottom: 5px !important;\n",
       "}\n",
       "\n",
       ".xr-var-attrs-in:checked ~ .xr-var-attrs,\n",
       ".xr-var-data-in:checked ~ .xr-var-data,\n",
       ".xr-index-data-in:checked ~ .xr-index-data {\n",
       "  display: block;\n",
       "}\n",
       "\n",
       ".xr-var-data > table {\n",
       "  float: right;\n",
       "}\n",
       "\n",
       ".xr-var-name span,\n",
       ".xr-var-data,\n",
       ".xr-index-name div,\n",
       ".xr-index-data,\n",
       ".xr-attrs {\n",
       "  padding-left: 25px !important;\n",
       "}\n",
       "\n",
       ".xr-attrs,\n",
       ".xr-var-attrs,\n",
       ".xr-var-data,\n",
       ".xr-index-data {\n",
       "  grid-column: 1 / -1;\n",
       "}\n",
       "\n",
       "dl.xr-attrs {\n",
       "  padding: 0;\n",
       "  margin: 0;\n",
       "  display: grid;\n",
       "  grid-template-columns: 125px auto;\n",
       "}\n",
       "\n",
       ".xr-attrs dt,\n",
       ".xr-attrs dd {\n",
       "  padding: 0;\n",
       "  margin: 0;\n",
       "  float: left;\n",
       "  padding-right: 10px;\n",
       "  width: auto;\n",
       "}\n",
       "\n",
       ".xr-attrs dt {\n",
       "  font-weight: normal;\n",
       "  grid-column: 1;\n",
       "}\n",
       "\n",
       ".xr-attrs dt:hover span {\n",
       "  display: inline-block;\n",
       "  background: var(--xr-background-color);\n",
       "  padding-right: 10px;\n",
       "}\n",
       "\n",
       ".xr-attrs dd {\n",
       "  grid-column: 2;\n",
       "  white-space: pre-wrap;\n",
       "  word-break: break-all;\n",
       "}\n",
       "\n",
       ".xr-icon-database,\n",
       ".xr-icon-file-text2,\n",
       ".xr-no-icon {\n",
       "  display: inline-block;\n",
       "  vertical-align: middle;\n",
       "  width: 1em;\n",
       "  height: 1.5em !important;\n",
       "  stroke-width: 0;\n",
       "  stroke: currentColor;\n",
       "  fill: currentColor;\n",
       "}\n",
       "</style><pre class='xr-text-repr-fallback'>&lt;xarray.DataArray &#x27;x&#x27; ()&gt;\n",
       "array(1.84708086)</pre><div class='xr-wrap' style='display:none'><div class='xr-header'><div class='xr-obj-type'>xarray.DataArray</div><div class='xr-array-name'>'x'</div></div><ul class='xr-sections'><li class='xr-section-item'><div class='xr-array-wrap'><input id='section-ccf620cc-e62d-4030-919d-3840786c6233' class='xr-array-in' type='checkbox' checked><label for='section-ccf620cc-e62d-4030-919d-3840786c6233' title='Show/hide data repr'><svg class='icon xr-icon-database'><use xlink:href='#icon-database'></use></svg></label><div class='xr-array-preview xr-preview'><span>1.847</span></div><div class='xr-array-data'><pre>array(1.84708086)</pre></div></div></li><li class='xr-section-item'><input id='section-5c68cf8e-23c8-4ed5-988f-a5244fb54b8a' class='xr-section-summary-in' type='checkbox' disabled ><label for='section-5c68cf8e-23c8-4ed5-988f-a5244fb54b8a' class='xr-section-summary'  title='Expand/collapse section'>Coordinates: <span>(0)</span></label><div class='xr-section-inline-details'></div><div class='xr-section-details'><ul class='xr-var-list'></ul></div></li><li class='xr-section-item'><input id='section-c96c1e63-a883-48a0-a09d-01943f93c5d2' class='xr-section-summary-in' type='checkbox' disabled ><label for='section-c96c1e63-a883-48a0-a09d-01943f93c5d2' class='xr-section-summary'  title='Expand/collapse section'>Indexes: <span>(0)</span></label><div class='xr-section-inline-details'></div><div class='xr-section-details'><ul class='xr-var-list'></ul></div></li><li class='xr-section-item'><input id='section-f93857d1-f857-44d2-81e3-61fc5122dc86' class='xr-section-summary-in' type='checkbox' disabled ><label for='section-f93857d1-f857-44d2-81e3-61fc5122dc86' class='xr-section-summary'  title='Expand/collapse section'>Attributes: <span>(0)</span></label><div class='xr-section-inline-details'></div><div class='xr-section-details'><dl class='xr-attrs'></dl></div></li></ul></div></div>"
      ],
      "text/plain": [
       "<xarray.DataArray 'x' ()>\n",
       "array(1.84708086)"
      ]
     },
     "execution_count": 110,
     "metadata": {},
     "output_type": "execute_result"
    }
   ],
   "source": [
    "idata.posterior['x'].mean()"
   ]
  },
  {
   "cell_type": "code",
   "execution_count": 100,
   "metadata": {},
   "outputs": [],
   "source": [
    "rnp = pd.concat(rnps, keys=rois, names=['roi'])\n",
    "gamma = pd.concat(gammas, keys=rois, names=['roi'])"
   ]
  },
  {
   "cell_type": "code",
   "execution_count": 75,
   "metadata": {},
   "outputs": [
    {
     "data": {
      "text/plain": [
       "roi\n",
       "vtav2      0.49825\n",
       "sncv2      0.13025\n",
       "meynert    0.40600\n",
       "lc         0.49325\n",
       "dtype: float64"
      ]
     },
     "execution_count": 75,
     "metadata": {},
     "output_type": "execute_result"
    }
   ],
   "source": [
    "tmp = rnp.unstack(['median_split_subcortical_response', 'roi'])['rnp']\n",
    "\n",
    "tmp =(tmp['Low activation'] > tmp['High activation']).mean()\n",
    "\n",
    "tmp.apply(lambda x: np.min((x, 1-x)))"
   ]
  },
  {
   "cell_type": "code",
   "execution_count": 76,
   "metadata": {},
   "outputs": [
    {
     "data": {
      "text/plain": [
       "roi\n",
       "vtav2      0.11250\n",
       "sncv2      0.12450\n",
       "meynert    0.23675\n",
       "lc         0.07575\n",
       "dtype: float64"
      ]
     },
     "execution_count": 76,
     "metadata": {},
     "output_type": "execute_result"
    }
   ],
   "source": [
    "tmp = gamma.unstack(['median_split_subcortical_response', 'roi'])['gamma']\n",
    "\n",
    "tmp = (tmp['Low activation'] > tmp['High activation']).mean()\n",
    "\n",
    "tmp.apply(lambda x: np.min((x, 1-x)))"
   ]
  },
  {
   "cell_type": "code",
   "execution_count": 77,
   "metadata": {},
   "outputs": [
    {
     "name": "stderr",
     "output_type": "stream",
     "text": [
      "/var/folders/d4/cpqhwlbn301clph1qk64k01nmjkty3/T/ipykernel_71512/189316050.py:9: FutureWarning: hdi currently interprets 2d data as (draw, shape) but this will change in a future release to (chain, draw) for coherence with other functions\n",
      "  return tuple(az.hdi(x.values))\n",
      "/var/folders/d4/cpqhwlbn301clph1qk64k01nmjkty3/T/ipykernel_71512/189316050.py:9: FutureWarning: hdi currently interprets 2d data as (draw, shape) but this will change in a future release to (chain, draw) for coherence with other functions\n",
      "  return tuple(az.hdi(x.values))\n",
      "/var/folders/d4/cpqhwlbn301clph1qk64k01nmjkty3/T/ipykernel_71512/189316050.py:9: FutureWarning: hdi currently interprets 2d data as (draw, shape) but this will change in a future release to (chain, draw) for coherence with other functions\n",
      "  return tuple(az.hdi(x.values))\n",
      "/var/folders/d4/cpqhwlbn301clph1qk64k01nmjkty3/T/ipykernel_71512/189316050.py:9: FutureWarning: hdi currently interprets 2d data as (draw, shape) but this will change in a future release to (chain, draw) for coherence with other functions\n",
      "  return tuple(az.hdi(x.values))\n",
      "/var/folders/d4/cpqhwlbn301clph1qk64k01nmjkty3/T/ipykernel_71512/189316050.py:9: FutureWarning: hdi currently interprets 2d data as (draw, shape) but this will change in a future release to (chain, draw) for coherence with other functions\n",
      "  return tuple(az.hdi(x.values))\n",
      "/var/folders/d4/cpqhwlbn301clph1qk64k01nmjkty3/T/ipykernel_71512/189316050.py:9: FutureWarning: hdi currently interprets 2d data as (draw, shape) but this will change in a future release to (chain, draw) for coherence with other functions\n",
      "  return tuple(az.hdi(x.values))\n",
      "/var/folders/d4/cpqhwlbn301clph1qk64k01nmjkty3/T/ipykernel_71512/189316050.py:9: FutureWarning: hdi currently interprets 2d data as (draw, shape) but this will change in a future release to (chain, draw) for coherence with other functions\n",
      "  return tuple(az.hdi(x.values))\n",
      "/var/folders/d4/cpqhwlbn301clph1qk64k01nmjkty3/T/ipykernel_71512/189316050.py:9: FutureWarning: hdi currently interprets 2d data as (draw, shape) but this will change in a future release to (chain, draw) for coherence with other functions\n",
      "  return tuple(az.hdi(x.values))\n"
     ]
    },
    {
     "data": {
      "text/html": [
       "<div>\n",
       "<style scoped>\n",
       "    .dataframe tbody tr th:only-of-type {\n",
       "        vertical-align: middle;\n",
       "    }\n",
       "\n",
       "    .dataframe tbody tr th {\n",
       "        vertical-align: top;\n",
       "    }\n",
       "\n",
       "    .dataframe thead th {\n",
       "        text-align: right;\n",
       "    }\n",
       "</style>\n",
       "<table border=\"1\" class=\"dataframe\">\n",
       "  <thead>\n",
       "    <tr style=\"text-align: right;\">\n",
       "      <th></th>\n",
       "      <th></th>\n",
       "      <th>rnp</th>\n",
       "      <th>low</th>\n",
       "      <th>up</th>\n",
       "    </tr>\n",
       "    <tr>\n",
       "      <th>roi</th>\n",
       "      <th>median_split_subcortical_response</th>\n",
       "      <th></th>\n",
       "      <th></th>\n",
       "      <th></th>\n",
       "    </tr>\n",
       "  </thead>\n",
       "  <tbody>\n",
       "    <tr>\n",
       "      <th rowspan=\"2\" valign=\"top\">lc</th>\n",
       "      <th>High activation</th>\n",
       "      <td>47.88</td>\n",
       "      <td>40.96</td>\n",
       "      <td>54.94</td>\n",
       "    </tr>\n",
       "    <tr>\n",
       "      <th>Low activation</th>\n",
       "      <td>47.92</td>\n",
       "      <td>40.08</td>\n",
       "      <td>55.38</td>\n",
       "    </tr>\n",
       "    <tr>\n",
       "      <th rowspan=\"2\" valign=\"top\">meynert</th>\n",
       "      <th>High activation</th>\n",
       "      <td>48.25</td>\n",
       "      <td>40.89</td>\n",
       "      <td>55.74</td>\n",
       "    </tr>\n",
       "    <tr>\n",
       "      <th>Low activation</th>\n",
       "      <td>47.99</td>\n",
       "      <td>40.80</td>\n",
       "      <td>55.22</td>\n",
       "    </tr>\n",
       "    <tr>\n",
       "      <th rowspan=\"2\" valign=\"top\">sncv2</th>\n",
       "      <th>High activation</th>\n",
       "      <td>48.55</td>\n",
       "      <td>41.28</td>\n",
       "      <td>55.90</td>\n",
       "    </tr>\n",
       "    <tr>\n",
       "      <th>Low activation</th>\n",
       "      <td>47.33</td>\n",
       "      <td>39.63</td>\n",
       "      <td>55.19</td>\n",
       "    </tr>\n",
       "    <tr>\n",
       "      <th rowspan=\"2\" valign=\"top\">vtav2</th>\n",
       "      <th>High activation</th>\n",
       "      <td>48.16</td>\n",
       "      <td>41.23</td>\n",
       "      <td>55.66</td>\n",
       "    </tr>\n",
       "    <tr>\n",
       "      <th>Low activation</th>\n",
       "      <td>48.17</td>\n",
       "      <td>40.46</td>\n",
       "      <td>56.01</td>\n",
       "    </tr>\n",
       "  </tbody>\n",
       "</table>\n",
       "</div>"
      ],
      "text/plain": [
       "                                             rnp    low     up\n",
       "roi     median_split_subcortical_response                     \n",
       "lc      High activation                    47.88  40.96  54.94\n",
       "        Low activation                     47.92  40.08  55.38\n",
       "meynert High activation                    48.25  40.89  55.74\n",
       "        Low activation                     47.99  40.80  55.22\n",
       "sncv2   High activation                    48.55  41.28  55.90\n",
       "        Low activation                     47.33  39.63  55.19\n",
       "vtav2   High activation                    48.16  41.23  55.66\n",
       "        Low activation                     48.17  40.46  56.01"
      ]
     },
     "execution_count": 77,
     "metadata": {},
     "output_type": "execute_result"
    }
   ],
   "source": [
    "rnp_1 = rnp.groupby(['roi', 'median_split_subcortical_response']).apply(lambda x: pd.Series(get_hdi(x)[0], index=['low', 'up'])).round(4)* 100\n",
    "rnp_2 = rnp.groupby(['roi', 'median_split_subcortical_response']).mean().round(4) * 100\n",
    "rnp_1.join(rnp_2)[['rnp', 'low', 'up']]"
   ]
  },
  {
   "cell_type": "code",
   "execution_count": 78,
   "metadata": {},
   "outputs": [
    {
     "name": "stderr",
     "output_type": "stream",
     "text": [
      "/var/folders/d4/cpqhwlbn301clph1qk64k01nmjkty3/T/ipykernel_71512/189316050.py:9: FutureWarning: hdi currently interprets 2d data as (draw, shape) but this will change in a future release to (chain, draw) for coherence with other functions\n",
      "  return tuple(az.hdi(x.values))\n",
      "/var/folders/d4/cpqhwlbn301clph1qk64k01nmjkty3/T/ipykernel_71512/189316050.py:9: FutureWarning: hdi currently interprets 2d data as (draw, shape) but this will change in a future release to (chain, draw) for coherence with other functions\n",
      "  return tuple(az.hdi(x.values))\n",
      "/var/folders/d4/cpqhwlbn301clph1qk64k01nmjkty3/T/ipykernel_71512/189316050.py:9: FutureWarning: hdi currently interprets 2d data as (draw, shape) but this will change in a future release to (chain, draw) for coherence with other functions\n",
      "  return tuple(az.hdi(x.values))\n",
      "/var/folders/d4/cpqhwlbn301clph1qk64k01nmjkty3/T/ipykernel_71512/189316050.py:9: FutureWarning: hdi currently interprets 2d data as (draw, shape) but this will change in a future release to (chain, draw) for coherence with other functions\n",
      "  return tuple(az.hdi(x.values))\n",
      "/var/folders/d4/cpqhwlbn301clph1qk64k01nmjkty3/T/ipykernel_71512/189316050.py:9: FutureWarning: hdi currently interprets 2d data as (draw, shape) but this will change in a future release to (chain, draw) for coherence with other functions\n",
      "  return tuple(az.hdi(x.values))\n",
      "/var/folders/d4/cpqhwlbn301clph1qk64k01nmjkty3/T/ipykernel_71512/189316050.py:9: FutureWarning: hdi currently interprets 2d data as (draw, shape) but this will change in a future release to (chain, draw) for coherence with other functions\n",
      "  return tuple(az.hdi(x.values))\n",
      "/var/folders/d4/cpqhwlbn301clph1qk64k01nmjkty3/T/ipykernel_71512/189316050.py:9: FutureWarning: hdi currently interprets 2d data as (draw, shape) but this will change in a future release to (chain, draw) for coherence with other functions\n",
      "  return tuple(az.hdi(x.values))\n",
      "/var/folders/d4/cpqhwlbn301clph1qk64k01nmjkty3/T/ipykernel_71512/189316050.py:9: FutureWarning: hdi currently interprets 2d data as (draw, shape) but this will change in a future release to (chain, draw) for coherence with other functions\n",
      "  return tuple(az.hdi(x.values))\n"
     ]
    },
    {
     "data": {
      "text/html": [
       "<div>\n",
       "<style scoped>\n",
       "    .dataframe tbody tr th:only-of-type {\n",
       "        vertical-align: middle;\n",
       "    }\n",
       "\n",
       "    .dataframe tbody tr th {\n",
       "        vertical-align: top;\n",
       "    }\n",
       "\n",
       "    .dataframe thead th {\n",
       "        text-align: right;\n",
       "    }\n",
       "</style>\n",
       "<table border=\"1\" class=\"dataframe\">\n",
       "  <thead>\n",
       "    <tr style=\"text-align: right;\">\n",
       "      <th></th>\n",
       "      <th></th>\n",
       "      <th>gamma</th>\n",
       "      <th>low</th>\n",
       "      <th>up</th>\n",
       "    </tr>\n",
       "    <tr>\n",
       "      <th>roi</th>\n",
       "      <th>median_split_subcortical_response</th>\n",
       "      <th></th>\n",
       "      <th></th>\n",
       "      <th></th>\n",
       "    </tr>\n",
       "  </thead>\n",
       "  <tbody>\n",
       "    <tr>\n",
       "      <th rowspan=\"2\" valign=\"top\">lc</th>\n",
       "      <th>High activation</th>\n",
       "      <td>1.97</td>\n",
       "      <td>1.64</td>\n",
       "      <td>2.30</td>\n",
       "    </tr>\n",
       "    <tr>\n",
       "      <th>Low activation</th>\n",
       "      <td>1.80</td>\n",
       "      <td>1.49</td>\n",
       "      <td>2.14</td>\n",
       "    </tr>\n",
       "    <tr>\n",
       "      <th rowspan=\"2\" valign=\"top\">meynert</th>\n",
       "      <th>High activation</th>\n",
       "      <td>1.85</td>\n",
       "      <td>1.53</td>\n",
       "      <td>2.18</td>\n",
       "    </tr>\n",
       "    <tr>\n",
       "      <th>Low activation</th>\n",
       "      <td>1.93</td>\n",
       "      <td>1.62</td>\n",
       "      <td>2.26</td>\n",
       "    </tr>\n",
       "    <tr>\n",
       "      <th rowspan=\"2\" valign=\"top\">sncv2</th>\n",
       "      <th>High activation</th>\n",
       "      <td>1.95</td>\n",
       "      <td>1.64</td>\n",
       "      <td>2.29</td>\n",
       "    </tr>\n",
       "    <tr>\n",
       "      <th>Low activation</th>\n",
       "      <td>1.82</td>\n",
       "      <td>1.48</td>\n",
       "      <td>2.14</td>\n",
       "    </tr>\n",
       "    <tr>\n",
       "      <th rowspan=\"2\" valign=\"top\">vtav2</th>\n",
       "      <th>High activation</th>\n",
       "      <td>1.96</td>\n",
       "      <td>1.64</td>\n",
       "      <td>2.28</td>\n",
       "    </tr>\n",
       "    <tr>\n",
       "      <th>Low activation</th>\n",
       "      <td>1.82</td>\n",
       "      <td>1.49</td>\n",
       "      <td>2.14</td>\n",
       "    </tr>\n",
       "  </tbody>\n",
       "</table>\n",
       "</div>"
      ],
      "text/plain": [
       "                                           gamma   low    up\n",
       "roi     median_split_subcortical_response                   \n",
       "lc      High activation                     1.97  1.64  2.30\n",
       "        Low activation                      1.80  1.49  2.14\n",
       "meynert High activation                     1.85  1.53  2.18\n",
       "        Low activation                      1.93  1.62  2.26\n",
       "sncv2   High activation                     1.95  1.64  2.29\n",
       "        Low activation                      1.82  1.48  2.14\n",
       "vtav2   High activation                     1.96  1.64  2.28\n",
       "        Low activation                      1.82  1.49  2.14"
      ]
     },
     "execution_count": 78,
     "metadata": {},
     "output_type": "execute_result"
    }
   ],
   "source": [
    "gamma_1 = gamma.groupby(['roi', 'median_split_subcortical_response']).apply(lambda x: pd.Series(get_hdi(x)[0], index=['low', 'up'])).round(2)\n",
    "gamma_2 = gamma.groupby(['roi', 'median_split_subcortical_response']).mean().round(2)\n",
    "gamma_1.join(gamma_2)[['gamma', 'low', 'up']]"
   ]
  },
  {
   "cell_type": "markdown",
   "metadata": {},
   "source": [
    "# Simple model (order x pupil split)"
   ]
  },
  {
   "cell_type": "code",
   "execution_count": 176,
   "metadata": {},
   "outputs": [],
   "source": [
    "rois = ['vtav2', 'sncv2', 'lc', 'meynert']"
   ]
  },
  {
   "cell_type": "code",
   "execution_count": 177,
   "metadata": {},
   "outputs": [
    {
     "name": "stderr",
     "output_type": "stream",
     "text": [
      "100%|██████████| 30/30 [00:02<00:00, 11.50it/s]\n"
     ]
    },
    {
     "name": "stdout",
     "output_type": "stream",
     "text": [
      "Running with PCA!\n"
     ]
    },
    {
     "name": "stderr",
     "output_type": "stream",
     "text": [
      "100%|██████████| 30/30 [00:01<00:00, 25.88it/s]\n"
     ]
    },
    {
     "name": "stdout",
     "output_type": "stream",
     "text": [
      "Running with PCA!\n"
     ]
    },
    {
     "name": "stderr",
     "output_type": "stream",
     "text": [
      "100%|██████████| 30/30 [00:01<00:00, 28.54it/s]\n"
     ]
    },
    {
     "name": "stdout",
     "output_type": "stream",
     "text": [
      "Running with PCA!\n"
     ]
    },
    {
     "name": "stderr",
     "output_type": "stream",
     "text": [
      "100%|██████████| 30/30 [00:00<00:00, 30.20it/s]\n"
     ]
    },
    {
     "name": "stdout",
     "output_type": "stream",
     "text": [
      "Running with PCA!\n"
     ]
    }
   ],
   "source": [
    "rnps = []\n",
    "gammas = []\n",
    "\n",
    "for roi in rois:\n",
    "    df, model, idata = load('probit_subcortical_response2.pca', '7t2', roi=roi)\n",
    "    intercept, gamma = extract_intercept_gamma(idata, model, df, group=True)\n",
    "    rnp = np.exp(intercept['intercept']/gamma['gamma']).stack([-2, -1]).to_frame('rnp')\n",
    "    rnp = rnp[(rnp['rnp'] > 0.0) & (rnp['rnp'] < 1.0)]\n",
    "    rnp.index = rnp.index.set_levels(rnp.index.levels[1].astype(int), level=1)\n",
    "\n",
    "    gamma = gamma.stack([-2, -1])\n",
    "\n",
    "    rnps.append(rnp)\n",
    "    gammas.append(gamma)"
   ]
  },
  {
   "cell_type": "code",
   "execution_count": 178,
   "metadata": {},
   "outputs": [],
   "source": [
    "rnp = pd.concat(rnps, keys=rois, names=['roi'])\n",
    "gamma = pd.concat(gammas, keys=rois, names=['roi'])"
   ]
  },
  {
   "cell_type": "code",
   "execution_count": 181,
   "metadata": {},
   "outputs": [
    {
     "data": {
      "text/html": [
       "<div>\n",
       "<style scoped>\n",
       "    .dataframe tbody tr th:only-of-type {\n",
       "        vertical-align: middle;\n",
       "    }\n",
       "\n",
       "    .dataframe tbody tr th {\n",
       "        vertical-align: top;\n",
       "    }\n",
       "\n",
       "    .dataframe thead th {\n",
       "        text-align: right;\n",
       "    }\n",
       "</style>\n",
       "<table border=\"1\" class=\"dataframe\">\n",
       "  <thead>\n",
       "    <tr style=\"text-align: right;\">\n",
       "      <th></th>\n",
       "      <th></th>\n",
       "      <th></th>\n",
       "      <th>rnp</th>\n",
       "    </tr>\n",
       "    <tr>\n",
       "      <th>roi</th>\n",
       "      <th>risky_first</th>\n",
       "      <th>median_split_subcortical_response</th>\n",
       "      <th></th>\n",
       "    </tr>\n",
       "  </thead>\n",
       "  <tbody>\n",
       "    <tr>\n",
       "      <th rowspan=\"4\" valign=\"top\">lc</th>\n",
       "      <th rowspan=\"2\" valign=\"top\">False</th>\n",
       "      <th>High activation</th>\n",
       "      <td>0.495432</td>\n",
       "    </tr>\n",
       "    <tr>\n",
       "      <th>Low activation</th>\n",
       "      <td>0.514748</td>\n",
       "    </tr>\n",
       "    <tr>\n",
       "      <th rowspan=\"2\" valign=\"top\">True</th>\n",
       "      <th>High activation</th>\n",
       "      <td>0.468943</td>\n",
       "    </tr>\n",
       "    <tr>\n",
       "      <th>Low activation</th>\n",
       "      <td>0.430616</td>\n",
       "    </tr>\n",
       "    <tr>\n",
       "      <th rowspan=\"4\" valign=\"top\">meynert</th>\n",
       "      <th rowspan=\"2\" valign=\"top\">False</th>\n",
       "      <th>High activation</th>\n",
       "      <td>0.511035</td>\n",
       "    </tr>\n",
       "    <tr>\n",
       "      <th>Low activation</th>\n",
       "      <td>0.503801</td>\n",
       "    </tr>\n",
       "    <tr>\n",
       "      <th rowspan=\"2\" valign=\"top\">True</th>\n",
       "      <th>High activation</th>\n",
       "      <td>0.452276</td>\n",
       "    </tr>\n",
       "    <tr>\n",
       "      <th>Low activation</th>\n",
       "      <td>0.460277</td>\n",
       "    </tr>\n",
       "    <tr>\n",
       "      <th rowspan=\"4\" valign=\"top\">sncv2</th>\n",
       "      <th rowspan=\"2\" valign=\"top\">False</th>\n",
       "      <th>High activation</th>\n",
       "      <td>0.495225</td>\n",
       "    </tr>\n",
       "    <tr>\n",
       "      <th>Low activation</th>\n",
       "      <td>0.515638</td>\n",
       "    </tr>\n",
       "    <tr>\n",
       "      <th rowspan=\"2\" valign=\"top\">True</th>\n",
       "      <th>High activation</th>\n",
       "      <td>0.455120</td>\n",
       "    </tr>\n",
       "    <tr>\n",
       "      <th>Low activation</th>\n",
       "      <td>0.451489</td>\n",
       "    </tr>\n",
       "    <tr>\n",
       "      <th rowspan=\"4\" valign=\"top\">vtav2</th>\n",
       "      <th rowspan=\"2\" valign=\"top\">False</th>\n",
       "      <th>High activation</th>\n",
       "      <td>0.499755</td>\n",
       "    </tr>\n",
       "    <tr>\n",
       "      <th>Low activation</th>\n",
       "      <td>0.508114</td>\n",
       "    </tr>\n",
       "    <tr>\n",
       "      <th rowspan=\"2\" valign=\"top\">True</th>\n",
       "      <th>High activation</th>\n",
       "      <td>0.447707</td>\n",
       "    </tr>\n",
       "    <tr>\n",
       "      <th>Low activation</th>\n",
       "      <td>0.454928</td>\n",
       "    </tr>\n",
       "  </tbody>\n",
       "</table>\n",
       "</div>"
      ],
      "text/plain": [
       "                                                            rnp\n",
       "roi     risky_first median_split_subcortical_response          \n",
       "lc      False       High activation                    0.495432\n",
       "                    Low activation                     0.514748\n",
       "        True        High activation                    0.468943\n",
       "                    Low activation                     0.430616\n",
       "meynert False       High activation                    0.511035\n",
       "                    Low activation                     0.503801\n",
       "        True        High activation                    0.452276\n",
       "                    Low activation                     0.460277\n",
       "sncv2   False       High activation                    0.495225\n",
       "                    Low activation                     0.515638\n",
       "        True        High activation                    0.455120\n",
       "                    Low activation                     0.451489\n",
       "vtav2   False       High activation                    0.499755\n",
       "                    Low activation                     0.508114\n",
       "        True        High activation                    0.447707\n",
       "                    Low activation                     0.454928"
      ]
     },
     "execution_count": 181,
     "metadata": {},
     "output_type": "execute_result"
    }
   ],
   "source": [
    "rnp.groupby(['roi', 'risky_first', 'median_split_subcortical_response']).mean()"
   ]
  },
  {
   "cell_type": "code",
   "execution_count": 194,
   "metadata": {},
   "outputs": [
    {
     "data": {
      "text/html": [
       "<div>\n",
       "<style scoped>\n",
       "    .dataframe tbody tr th:only-of-type {\n",
       "        vertical-align: middle;\n",
       "    }\n",
       "\n",
       "    .dataframe tbody tr th {\n",
       "        vertical-align: top;\n",
       "    }\n",
       "\n",
       "    .dataframe thead th {\n",
       "        text-align: right;\n",
       "    }\n",
       "</style>\n",
       "<table border=\"1\" class=\"dataframe\">\n",
       "  <thead>\n",
       "    <tr style=\"text-align: right;\">\n",
       "      <th></th>\n",
       "      <th></th>\n",
       "      <th></th>\n",
       "      <th>lower</th>\n",
       "      <th>upper</th>\n",
       "    </tr>\n",
       "    <tr>\n",
       "      <th>roi</th>\n",
       "      <th>risky_first</th>\n",
       "      <th>median_split_subcortical_response</th>\n",
       "      <th></th>\n",
       "      <th></th>\n",
       "    </tr>\n",
       "  </thead>\n",
       "  <tbody>\n",
       "    <tr>\n",
       "      <th rowspan=\"4\" valign=\"top\">lc</th>\n",
       "      <th rowspan=\"2\" valign=\"top\">False</th>\n",
       "      <th>High activation</th>\n",
       "      <td>0.423862</td>\n",
       "      <td>0.566443</td>\n",
       "    </tr>\n",
       "    <tr>\n",
       "      <th>Low activation</th>\n",
       "      <td>0.450873</td>\n",
       "      <td>0.585338</td>\n",
       "    </tr>\n",
       "    <tr>\n",
       "      <th rowspan=\"2\" valign=\"top\">True</th>\n",
       "      <th>High activation</th>\n",
       "      <td>0.389073</td>\n",
       "      <td>0.543686</td>\n",
       "    </tr>\n",
       "    <tr>\n",
       "      <th>Low activation</th>\n",
       "      <td>0.314045</td>\n",
       "      <td>0.534489</td>\n",
       "    </tr>\n",
       "    <tr>\n",
       "      <th rowspan=\"4\" valign=\"top\">meynert</th>\n",
       "      <th rowspan=\"2\" valign=\"top\">False</th>\n",
       "      <th>High activation</th>\n",
       "      <td>0.441781</td>\n",
       "      <td>0.584250</td>\n",
       "    </tr>\n",
       "    <tr>\n",
       "      <th>Low activation</th>\n",
       "      <td>0.425855</td>\n",
       "      <td>0.577582</td>\n",
       "    </tr>\n",
       "    <tr>\n",
       "      <th rowspan=\"2\" valign=\"top\">True</th>\n",
       "      <th>High activation</th>\n",
       "      <td>0.361607</td>\n",
       "      <td>0.545049</td>\n",
       "    </tr>\n",
       "    <tr>\n",
       "      <th>Low activation</th>\n",
       "      <td>0.365182</td>\n",
       "      <td>0.552968</td>\n",
       "    </tr>\n",
       "    <tr>\n",
       "      <th rowspan=\"4\" valign=\"top\">sncv2</th>\n",
       "      <th rowspan=\"2\" valign=\"top\">False</th>\n",
       "      <th>High activation</th>\n",
       "      <td>0.426183</td>\n",
       "      <td>0.559657</td>\n",
       "    </tr>\n",
       "    <tr>\n",
       "      <th>Low activation</th>\n",
       "      <td>0.434615</td>\n",
       "      <td>0.592493</td>\n",
       "    </tr>\n",
       "    <tr>\n",
       "      <th rowspan=\"2\" valign=\"top\">True</th>\n",
       "      <th>High activation</th>\n",
       "      <td>0.367004</td>\n",
       "      <td>0.544607</td>\n",
       "    </tr>\n",
       "    <tr>\n",
       "      <th>Low activation</th>\n",
       "      <td>0.360310</td>\n",
       "      <td>0.551685</td>\n",
       "    </tr>\n",
       "    <tr>\n",
       "      <th rowspan=\"4\" valign=\"top\">vtav2</th>\n",
       "      <th rowspan=\"2\" valign=\"top\">False</th>\n",
       "      <th>High activation</th>\n",
       "      <td>0.431606</td>\n",
       "      <td>0.568143</td>\n",
       "    </tr>\n",
       "    <tr>\n",
       "      <th>Low activation</th>\n",
       "      <td>0.434914</td>\n",
       "      <td>0.583059</td>\n",
       "    </tr>\n",
       "    <tr>\n",
       "      <th rowspan=\"2\" valign=\"top\">True</th>\n",
       "      <th>High activation</th>\n",
       "      <td>0.358617</td>\n",
       "      <td>0.539287</td>\n",
       "    </tr>\n",
       "    <tr>\n",
       "      <th>Low activation</th>\n",
       "      <td>0.352993</td>\n",
       "      <td>0.537173</td>\n",
       "    </tr>\n",
       "  </tbody>\n",
       "</table>\n",
       "</div>"
      ],
      "text/plain": [
       "                                                          lower     upper\n",
       "roi     risky_first median_split_subcortical_response                    \n",
       "lc      False       High activation                    0.423862  0.566443\n",
       "                    Low activation                     0.450873  0.585338\n",
       "        True        High activation                    0.389073  0.543686\n",
       "                    Low activation                     0.314045  0.534489\n",
       "meynert False       High activation                    0.441781  0.584250\n",
       "                    Low activation                     0.425855  0.577582\n",
       "        True        High activation                    0.361607  0.545049\n",
       "                    Low activation                     0.365182  0.552968\n",
       "sncv2   False       High activation                    0.426183  0.559657\n",
       "                    Low activation                     0.434615  0.592493\n",
       "        True        High activation                    0.367004  0.544607\n",
       "                    Low activation                     0.360310  0.551685\n",
       "vtav2   False       High activation                    0.431606  0.568143\n",
       "                    Low activation                     0.434914  0.583059\n",
       "        True        High activation                    0.358617  0.539287\n",
       "                    Low activation                     0.352993  0.537173"
      ]
     },
     "execution_count": 194,
     "metadata": {},
     "output_type": "execute_result"
    }
   ],
   "source": [
    "rnp.groupby(['roi', 'risky_first', 'median_split_subcortical_response'])['rnp'].apply(lambda x: pd.Series(get_hdi(x), index=pd.Index(['lower', 'upper'])).T).unstack(-1)"
   ]
  },
  {
   "cell_type": "code",
   "execution_count": 166,
   "metadata": {},
   "outputs": [
    {
     "name": "stdout",
     "output_type": "stream",
     "text": [
      "lc\n",
      "0.08825000000000005\n"
     ]
    },
    {
     "name": "stderr",
     "output_type": "stream",
     "text": [
      "/Users/gdehol/mambaforge/lib/python3.10/site-packages/seaborn/axisgrid.py:118: UserWarning: Tight layout not applied. tight_layout cannot make axes width small enough to accommodate all axes decorations\n",
      "  self._figure.tight_layout(*args, **kwargs)\n"
     ]
    },
    {
     "name": "stdout",
     "output_type": "stream",
     "text": [
      "0.051\n",
      "0.01849999999999996\n",
      "meynert\n"
     ]
    },
    {
     "name": "stderr",
     "output_type": "stream",
     "text": [
      "/Users/gdehol/mambaforge/lib/python3.10/site-packages/seaborn/axisgrid.py:118: UserWarning: Tight layout not applied. tight_layout cannot make axes width small enough to accommodate all axes decorations\n",
      "  self._figure.tight_layout(*args, **kwargs)\n"
     ]
    },
    {
     "name": "stdout",
     "output_type": "stream",
     "text": [
      "0.2915\n",
      "0.31125\n",
      "0.2375\n",
      "sncv2\n"
     ]
    },
    {
     "name": "stderr",
     "output_type": "stream",
     "text": [
      "/Users/gdehol/mambaforge/lib/python3.10/site-packages/seaborn/axisgrid.py:118: UserWarning: Tight layout not applied. tight_layout cannot make axes width small enough to accommodate all axes decorations\n",
      "  self._figure.tight_layout(*args, **kwargs)\n"
     ]
    },
    {
     "name": "stdout",
     "output_type": "stream",
     "text": [
      "0.08099999999999996\n",
      "0.41375\n",
      "0.12624999999999997\n",
      "vtav2\n"
     ]
    },
    {
     "name": "stderr",
     "output_type": "stream",
     "text": [
      "/Users/gdehol/mambaforge/lib/python3.10/site-packages/seaborn/axisgrid.py:118: UserWarning: Tight layout not applied. tight_layout cannot make axes width small enough to accommodate all axes decorations\n",
      "  self._figure.tight_layout(*args, **kwargs)\n"
     ]
    },
    {
     "name": "stdout",
     "output_type": "stream",
     "text": [
      "0.28425\n",
      "0.3355\n",
      "0.48275\n"
     ]
    },
    {
     "data": {
      "image/png": "[encoded data removed]",
      "text/plain": [
       "<Figure size 188.976x188.976 with 2 Axes>"
      ]
     },
     "metadata": {},
     "output_type": "display_data"
    },
    {
     "data": {
      "image/png": "[encoded data removed]",
      "text/plain": [
       "<Figure size 150x37.5 with 1 Axes>"
      ]
     },
     "metadata": {},
     "output_type": "display_data"
    },
    {
     "data": {
      "image/png": "[encoded data removed]",
      "text/plain": [
       "<Figure size 150x37.5 with 1 Axes>"
      ]
     },
     "metadata": {},
     "output_type": "display_data"
    },
    {
     "data": {
      "image/png": "[encoded data removed]",
      "text/plain": [
       "<Figure size 188.976x188.976 with 2 Axes>"
      ]
     },
     "metadata": {},
     "output_type": "display_data"
    },
    {
     "data": {
      "image/png": "[encoded data removed]",
      "text/plain": [
       "<Figure size 150x37.5 with 1 Axes>"
      ]
     },
     "metadata": {},
     "output_type": "display_data"
    },
    {
     "data": {
      "image/png": "[encoded data removed]",
      "text/plain": [
       "<Figure size 150x37.5 with 1 Axes>"
      ]
     },
     "metadata": {},
     "output_type": "display_data"
    },
    {
     "data": {
      "image/png": "[encoded data removed]",
      "text/plain": [
       "<Figure size 188.976x188.976 with 2 Axes>"
      ]
     },
     "metadata": {},
     "output_type": "display_data"
    },
    {
     "data": {
      "image/png": "[encoded data removed]",
      "text/plain": [
       "<Figure size 150x37.5 with 1 Axes>"
      ]
     },
     "metadata": {},
     "output_type": "display_data"
    },
    {
     "data": {
      "image/png": "[encoded data removed]",
      "text/plain": [
       "<Figure size 150x37.5 with 1 Axes>"
      ]
     },
     "metadata": {},
     "output_type": "display_data"
    },
    {
     "data": {
      "image/png": "[encoded data removed]",
      "text/plain": [
       "<Figure size 188.976x188.976 with 2 Axes>"
      ]
     },
     "metadata": {},
     "output_type": "display_data"
    },
    {
     "data": {
      "image/png": "[encoded data removed]",
      "text/plain": [
       "<Figure size 150x37.5 with 1 Axes>"
      ]
     },
     "metadata": {},
     "output_type": "display_data"
    },
    {
     "data": {
      "image/png": "[encoded data removed]",
      "text/plain": [
       "<Figure size 150x37.5 with 1 Axes>"
      ]
     },
     "metadata": {},
     "output_type": "display_data"
    }
   ],
   "source": [
    "rnp['Order'] = rnp.index.get_level_values('risky_first').map({True:'Risky first', False:'Safe first'})\n",
    "rnp['Subcortical response'] = rnp.index.get_level_values('median_split_subcortical_response')#.map({True:'Large', False:'Small'})\n",
    "\n",
    "\n",
    "for roi, r in rnp.groupby('roi'):\n",
    "\n",
    "  print(roi)\n",
    "  fac = sns.catplot(data=r.reset_index(), x='Subcortical response', y='rnp', col='Order', kind='point', palette=palette,\n",
    "                     order=['Low activation', 'High activation'],\n",
    "                    errorbar=get_hdi,\n",
    "                    col_order=['Safe first', 'Risky first'],\n",
    "                    aspect=.5, height=1.5*3.2*cm, legend=False)\n",
    "\n",
    "  fac.set(ylabel=None, xlabel=None, xticks=[], ylim=(0.3, 0.6))\n",
    "  fac.set_titles('{col_name}', y=1.25)\n",
    "  # fac.set(siptit'{col_name}')\n",
    "  # fac.fig.suptitle(roi)\n",
    "  # fac.add_legend()\n",
    "  \n",
    "  fac.map(lambda *args, **kwargs: plt.axhline(0.55, c='k', ls='--'))\n",
    "\n",
    "  diff1 = (r.xs(False, 0, 'risky_first').xs('Low activation', 0, 'median_split_subcortical_response')['rnp'] - r.xs(False, 0, 'risky_first').xs('High activation', 0, 'median_split_subcortical_response')['rnp']) \n",
    "\n",
    "  p = (diff1 > 0.0).mean()\n",
    "  print(np.min((p, 1-p)))\n",
    "\n",
    "  plt.savefig(f'/data/ds-risk/derivatives/figures/subcortical_roi-{roi}_rnp.pdf', bbox_inches='tight')\n",
    "\n",
    "  plt.figure()\n",
    "  sns.kdeplot(diff1, fill=True, color='k')\n",
    "  sns.despine()\n",
    "\n",
    "  plt.axvline(0.0, c='k', ls='--')\n",
    "  sns.despine()\n",
    "  plt.gcf().set_size_inches(1.5, .375)\n",
    "  plt.xlabel(None)\n",
    "  plt.ylabel(None)\n",
    "  plt.yticks([])\n",
    "\n",
    "  plt.savefig(f'/data/ds-risk/derivatives/figures/subcortical_roi-{roi}_rnp_safe_first_diff.pdf', bbox_inches='tight')\n",
    "\n",
    "  plt.figure()\n",
    "  diff2 = (r.xs(True, 0, 'risky_first').xs('Low activation', 0, 'median_split_subcortical_response')['rnp'] - r.xs(True, 0, 'risky_first').xs('High activation', 0, 'median_split_subcortical_response')['rnp']) \n",
    "\n",
    "  p = (diff2 > 0.0).mean()\n",
    "  print(np.min((p, 1-p)))\n",
    "\n",
    "  sns.kdeplot(diff2, fill=True, color='k')\n",
    "  sns.despine()\n",
    "\n",
    "  plt.axvline(0.0, c='k', ls='--')\n",
    "  sns.despine()\n",
    "  plt.gcf().set_size_inches(1.5, .375)\n",
    "  plt.xlabel(None)\n",
    "  plt.ylabel(None)\n",
    "  plt.yticks([])\n",
    "\n",
    "  p = ((diff1 - diff2) > 0.0).mean()\n",
    "  print(np.min((p, 1-p)))\n",
    "  plt.savefig(f'/data/ds-risk/derivatives/figures/subcortical_roi-{roi}_rnp_risky_first_diff.pdf', bbox_inches='tight')\n",
    "\n",
    "\n",
    "    # plt.savefig(op.join(bids_folder, 'derivatives', 'figures', 'pupil_n1_pre_rnp.pdf'), bbox_inches='tight')"
   ]
  },
  {
   "cell_type": "code",
   "execution_count": 167,
   "metadata": {},
   "outputs": [
    {
     "name": "stdout",
     "output_type": "stream",
     "text": [
      "lc\n",
      "0.25849999999999995\n"
     ]
    },
    {
     "name": "stderr",
     "output_type": "stream",
     "text": [
      "/Users/gdehol/mambaforge/lib/python3.10/site-packages/seaborn/axisgrid.py:118: UserWarning: Tight layout not applied. tight_layout cannot make axes width small enough to accommodate all axes decorations\n",
      "  self._figure.tight_layout(*args, **kwargs)\n"
     ]
    },
    {
     "name": "stdout",
     "output_type": "stream",
     "text": [
      "0.0005\n",
      "0.0012499999999999734\n",
      "meynert\n"
     ]
    },
    {
     "name": "stderr",
     "output_type": "stream",
     "text": [
      "/Users/gdehol/mambaforge/lib/python3.10/site-packages/seaborn/axisgrid.py:118: UserWarning: Tight layout not applied. tight_layout cannot make axes width small enough to accommodate all axes decorations\n",
      "  self._figure.tight_layout(*args, **kwargs)\n"
     ]
    },
    {
     "name": "stdout",
     "output_type": "stream",
     "text": [
      "0.22325\n",
      "0.482\n",
      "0.30375\n",
      "sncv2\n"
     ]
    },
    {
     "name": "stderr",
     "output_type": "stream",
     "text": [
      "/Users/gdehol/mambaforge/lib/python3.10/site-packages/seaborn/axisgrid.py:118: UserWarning: Tight layout not applied. tight_layout cannot make axes width small enough to accommodate all axes decorations\n",
      "  self._figure.tight_layout(*args, **kwargs)\n"
     ]
    },
    {
     "name": "stdout",
     "output_type": "stream",
     "text": [
      "0.05675\n",
      "0.28475\n",
      "0.233\n",
      "vtav2\n"
     ]
    },
    {
     "name": "stderr",
     "output_type": "stream",
     "text": [
      "/Users/gdehol/mambaforge/lib/python3.10/site-packages/seaborn/axisgrid.py:118: UserWarning: Tight layout not applied. tight_layout cannot make axes width small enough to accommodate all axes decorations\n",
      "  self._figure.tight_layout(*args, **kwargs)\n"
     ]
    },
    {
     "name": "stdout",
     "output_type": "stream",
     "text": [
      "0.17625\n",
      "0.45125000000000004\n",
      "0.21875\n"
     ]
    },
    {
     "data": {
      "image/png": "[encoded data removed]",
      "text/plain": [
       "<Figure size 188.976x188.976 with 2 Axes>"
      ]
     },
     "metadata": {},
     "output_type": "display_data"
    },
    {
     "data": {
      "image/png": "[encoded data removed]",
      "text/plain": [
       "<Figure size 150x37.5 with 1 Axes>"
      ]
     },
     "metadata": {},
     "output_type": "display_data"
    },
    {
     "data": {
      "image/png": "[encoded data removed]",
      "text/plain": [
       "<Figure size 150x37.5 with 1 Axes>"
      ]
     },
     "metadata": {},
     "output_type": "display_data"
    },
    {
     "data": {
      "image/png": "[encoded data removed]",
      "text/plain": [
       "<Figure size 188.976x188.976 with 2 Axes>"
      ]
     },
     "metadata": {},
     "output_type": "display_data"
    },
    {
     "data": {
      "image/png": "[encoded data removed]",
      "text/plain": [
       "<Figure size 150x37.5 with 1 Axes>"
      ]
     },
     "metadata": {},
     "output_type": "display_data"
    },
    {
     "data": {
      "image/png": "[encoded data removed]",
      "text/plain": [
       "<Figure size 150x37.5 with 1 Axes>"
      ]
     },
     "metadata": {},
     "output_type": "display_data"
    },
    {
     "data": {
      "image/png": "[encoded data removed]",
      "text/plain": [
       "<Figure size 188.976x188.976 with 2 Axes>"
      ]
     },
     "metadata": {},
     "output_type": "display_data"
    },
    {
     "data": {
      "image/png": "[encoded data removed]",
      "text/plain": [
       "<Figure size 150x37.5 with 1 Axes>"
      ]
     },
     "metadata": {},
     "output_type": "display_data"
    },
    {
     "data": {
      "image/png": "[encoded data removed]",
      "text/plain": [
       "<Figure size 150x37.5 with 1 Axes>"
      ]
     },
     "metadata": {},
     "output_type": "display_data"
    },
    {
     "data": {
      "image/png": "[encoded data removed]",
      "text/plain": [
       "<Figure size 188.976x188.976 with 2 Axes>"
      ]
     },
     "metadata": {},
     "output_type": "display_data"
    },
    {
     "data": {
      "image/png": "[encoded data removed]",
      "text/plain": [
       "<Figure size 150x37.5 with 1 Axes>"
      ]
     },
     "metadata": {},
     "output_type": "display_data"
    },
    {
     "data": {
      "image/png": "[encoded data removed]",
      "text/plain": [
       "<Figure size 150x37.5 with 1 Axes>"
      ]
     },
     "metadata": {},
     "output_type": "display_data"
    }
   ],
   "source": [
    "gamma['Order'] = gamma.index.get_level_values('risky_first').map({True:'Risky first', False:'Safe first'})\n",
    "gamma['Subcortical response'] = gamma.index.get_level_values('median_split_subcortical_response')#.map({True:'Large', False:'Small'})\n",
    "\n",
    "\n",
    "for roi, g in gamma.groupby('roi'):\n",
    "  print(roi)\n",
    "  fac = sns.catplot(data=g.reset_index(), x='Subcortical response', y='gamma', col='Order', kind='point', palette=palette,\n",
    "                     order=['Low activation', 'High activation'],\n",
    "                    errorbar=get_hdi,\n",
    "                    col_order=['Safe first', 'Risky first'],\n",
    "                    aspect=.5, height=1.5*3.2*cm, legend=False)\n",
    "\n",
    "  fac.set(ylabel=None, xlabel=None, xticks=[])\n",
    "  fac.set_titles('{col_name}', y=1.25)\n",
    "\n",
    "  plt.savefig(f'/data/ds-risk/derivatives/figures/subcortical_roi-{roi}_gamma.pdf', bbox_inches='tight')\n",
    "\n",
    "  diff1 = (g.xs(False, 0, 'risky_first').xs('Low activation', 0, 'median_split_subcortical_response')['gamma'] - g.xs(False, 0, 'risky_first').xs('High activation', 0, 'median_split_subcortical_response')['gamma']) \n",
    "\n",
    "  p = (diff1 > 0.0).mean()\n",
    "  print(np.min((p, 1-p)))\n",
    "\n",
    "  plt.figure()\n",
    "  sns.kdeplot(diff1, fill=True, color='k')\n",
    "  sns.despine()\n",
    "\n",
    "  plt.axvline(0.0, c='k', ls='--')\n",
    "  sns.despine()\n",
    "  plt.gcf().set_size_inches(1.5, .375)\n",
    "  plt.xlabel(None)\n",
    "  plt.ylabel(None)\n",
    "  plt.yticks([])\n",
    "\n",
    "  plt.savefig(f'/data/ds-risk/derivatives/figures/subcortical_roi-{roi}_gamma_safe_first_diff.pdf', bbox_inches='tight')\n",
    "  # plt.savefig('/data/ds-risk/derivatives/figures/pupil_n1_pre_rnp_safe_first_diff.pdf', bbox_inches='tight')\n",
    "\n",
    "  plt.figure()\n",
    "  diff2 = (g.xs(True, 0, 'risky_first').xs('Low activation', 0, 'median_split_subcortical_response')['gamma'] - g.xs(True, 0, 'risky_first').xs('High activation', 0, 'median_split_subcortical_response')['gamma']) \n",
    "\n",
    "  p = (diff2 > 0.0).mean()\n",
    "  print(np.min((p, 1-p)))\n",
    "\n",
    "  sns.kdeplot(diff2, fill=True, color='k')\n",
    "  sns.despine()\n",
    "\n",
    "  plt.axvline(0.0, c='k', ls='--')\n",
    "  sns.despine()\n",
    "  plt.gcf().set_size_inches(1.5, .375)\n",
    "  plt.xlabel(None)\n",
    "  plt.ylabel(None)\n",
    "  plt.yticks([])\n",
    "\n",
    "  p = ((diff1 - diff2) > 0.0).mean()\n",
    "  print(np.min((p, 1-p)))\n",
    "  plt.savefig(f'/data/ds-risk/derivatives/figures/subcortical_roi-{roi}_gamma_risky_first_diff.pdf', bbox_inches='tight')"
   ]
  },
  {
   "attachments": {},
   "cell_type": "markdown",
   "metadata": {},
   "source": [
    "# Complex model (n_safe x order x median split) "
   ]
  },
  {
   "cell_type": "code",
   "execution_count": 57,
   "metadata": {},
   "outputs": [],
   "source": [
    "rois = ['dmidbrain', 'vtav2', 'sncv2', 'meynert', 'lc'][1:]\n"
   ]
  },
  {
   "cell_type": "code",
   "execution_count": 58,
   "metadata": {},
   "outputs": [
    {
     "name": "stderr",
     "output_type": "stream",
     "text": [
      "100%|██████████| 30/30 [00:01<00:00, 28.31it/s]\n",
      "100%|██████████| 30/30 [00:00<00:00, 31.14it/s]\n",
      "100%|██████████| 30/30 [00:00<00:00, 33.04it/s]\n",
      "100%|██████████| 30/30 [00:00<00:00, 32.32it/s]\n"
     ]
    }
   ],
   "source": [
    "rnps = []\n",
    "gammas = []\n",
    "\n",
    "for roi in rois:\n",
    "    df, model, idata = load('probit_subcortical_response3', '7t2', roi=roi)\n",
    "    intercept, gamma = extract_intercept_gamma(idata, model, df, group=True)\n",
    "    rnp = np.exp(intercept['intercept']/gamma['gamma']).stack([-2, -1]).to_frame('rnp')\n",
    "    rnp.index = rnp.index.set_levels(rnp.index.levels[1].astype(int), level=1)\n",
    "\n",
    "    gamma = gamma.stack([-2, -1])\n",
    "\n",
    "    rnps.append(rnp)\n",
    "    gammas.append(gamma)"
   ]
  },
  {
   "cell_type": "code",
   "execution_count": 59,
   "metadata": {},
   "outputs": [],
   "source": [
    "rnp = pd.concat(rnps, keys=rois, names=['roi'])\n",
    "gamma = pd.concat(gammas, keys=rois, names=['roi'])"
   ]
  },
  {
   "cell_type": "code",
   "execution_count": 60,
   "metadata": {},
   "outputs": [
    {
     "data": {
      "image/png": "[encoded data removed]",
      "text/plain": [
       "<Figure size 755.906x251.969 with 2 Axes>"
      ]
     },
     "metadata": {},
     "output_type": "display_data"
    },
    {
     "data": {
      "image/png": "[encoded data removed]",
      "text/plain": [
       "<Figure size 755.906x251.969 with 2 Axes>"
      ]
     },
     "metadata": {},
     "output_type": "display_data"
    },
    {
     "data": {
      "image/png": "[encoded data removed]",
      "text/plain": [
       "<Figure size 755.906x251.969 with 2 Axes>"
      ]
     },
     "metadata": {},
     "output_type": "display_data"
    },
    {
     "data": {
      "image/png": "[encoded data removed]",
      "text/plain": [
       "<Figure size 755.906x251.969 with 2 Axes>"
      ]
     },
     "metadata": {},
     "output_type": "display_data"
    }
   ],
   "source": [
    "rnp['Order'] = rnp.index.get_level_values('risky_first').map({True:'Risky first', False:'Safe first'})\n",
    "rnp['Subcortical response'] = rnp.index.get_level_values('median_split_subcortical_response')#.map({True:'Large', False:'Small'})\n",
    "\n",
    "for roi, r in rnp.groupby('roi'):\n",
    "  fac = sns.catplot(data=r.reset_index(), x='n_safe', hue='Subcortical response', y='rnp', col='Order', kind='point', palette=palette,\n",
    "                    hue_order=['Low activation', 'High activation'],\n",
    "                    dodge=True,\n",
    "                    errorbar=get_hdi,\n",
    "                  #   col_order=['Safe first', 'Risky first'],\n",
    "                    aspect=1.5, height=2*3.2*cm, legend=False)\n",
    "\n",
    "  fac.set(ylabel=None, xlabel=None, xticks=[], ylim=(0.3, 0.6))\n",
    "  fac.set_titles('{col_name}')\n",
    "\n",
    "  fac.map(lambda *args, **kwargs: plt.axhline(0.55, c='k', ls='--'))\n",
    "\n",
    "\n",
    "  # plt.savefig(op.join(bids_folder, 'derivatives', 'figures', 'pupil_complex_n1_prepost_rnp.pdf'), bbox_inches='tight')"
   ]
  },
  {
   "attachments": {},
   "cell_type": "markdown",
   "metadata": {},
   "source": [
    "## Subjectwise"
   ]
  },
  {
   "cell_type": "code",
   "execution_count": 71,
   "metadata": {},
   "outputs": [
    {
     "name": "stderr",
     "output_type": "stream",
     "text": [
      "100%|██████████| 30/30 [00:01<00:00, 28.00it/s]\n",
      "/Users/gdehol/mambaforge/lib/python3.10/site-packages/pandas/core/internals/blocks.py:352: RuntimeWarning: overflow encountered in exp\n",
      "  result = func(self.values, **kwargs)\n",
      "100%|██████████| 30/30 [00:00<00:00, 32.56it/s]\n",
      "/Users/gdehol/mambaforge/lib/python3.10/site-packages/pandas/core/internals/blocks.py:352: RuntimeWarning: overflow encountered in exp\n",
      "  result = func(self.values, **kwargs)\n",
      "100%|██████████| 30/30 [00:00<00:00, 32.18it/s]\n",
      "/Users/gdehol/mambaforge/lib/python3.10/site-packages/pandas/core/internals/blocks.py:352: RuntimeWarning: overflow encountered in exp\n",
      "  result = func(self.values, **kwargs)\n",
      "100%|██████████| 30/30 [00:00<00:00, 31.18it/s]\n",
      "/Users/gdehol/mambaforge/lib/python3.10/site-packages/pandas/core/internals/blocks.py:352: RuntimeWarning: overflow encountered in exp\n",
      "  result = func(self.values, **kwargs)\n"
     ]
    }
   ],
   "source": [
    "rnps = []\n",
    "gammas = []\n",
    "\n",
    "for roi in rois:\n",
    "    df, model, idata = load('probit_subcortical_response3', '7t2', roi=roi)\n",
    "    intercept, gamma = extract_intercept_gamma(idata, model, df, group=False)\n",
    "    rnp = np.exp(intercept['intercept']/gamma['gamma']).stack([-2, -1]).to_frame('rnp')\n",
    "    rnp.index = rnp.index.set_levels(rnp.index.levels[1].astype(int), level=1)\n",
    "    rnp = rnp[(rnp['rnp'] > 0.0) & (rnp['rnp'] < 1.0)]\n",
    "\n",
    "    gamma = gamma.stack([-2, -1])\n",
    "\n",
    "    rnps.append(rnp)\n",
    "    gammas.append(gamma)\n",
    "\n",
    "\n",
    "rnp = pd.concat(rnps, keys=rois, names=['roi'])\n",
    "gamma = pd.concat(gammas, keys=rois, names=['roi'])\n",
    "\n",
    "rnp['Order'] = rnp.index.get_level_values('risky_first').map({True:'Risky first', False:'Safe first'})\n",
    "rnp['Subcortical response'] = rnp.index.get_level_values('median_split_subcortical_response')#.map({True:'Large', False:'Small'})\n",
    "rnp['distance_to_risk_neutral'] = (rnp['rnp'] - .55).abs()"
   ]
  },
  {
   "cell_type": "code",
   "execution_count": 78,
   "metadata": {},
   "outputs": [
    {
     "name": "stderr",
     "output_type": "stream",
     "text": [
      "/var/folders/d4/cpqhwlbn301clph1qk64k01nmjkty3/T/ipykernel_4077/519300716.py:3: FutureWarning: The default value of numeric_only in DataFrameGroupBy.mean is deprecated. In a future version, numeric_only will default to False. Either specify numeric_only or select only columns which should be valid for the function.\n",
      "  tmp = r.groupby(['chain', 'draw', 'Subcortical response']).mean()\n"
     ]
    },
    {
     "name": "stdout",
     "output_type": "stream",
     "text": [
      "lc 0.1445\n"
     ]
    },
    {
     "name": "stderr",
     "output_type": "stream",
     "text": [
      "/var/folders/d4/cpqhwlbn301clph1qk64k01nmjkty3/T/ipykernel_4077/519300716.py:3: FutureWarning: The default value of numeric_only in DataFrameGroupBy.mean is deprecated. In a future version, numeric_only will default to False. Either specify numeric_only or select only columns which should be valid for the function.\n",
      "  tmp = r.groupby(['chain', 'draw', 'Subcortical response']).mean()\n"
     ]
    },
    {
     "name": "stdout",
     "output_type": "stream",
     "text": [
      "meynert 0.4705\n"
     ]
    },
    {
     "name": "stderr",
     "output_type": "stream",
     "text": [
      "/var/folders/d4/cpqhwlbn301clph1qk64k01nmjkty3/T/ipykernel_4077/519300716.py:3: FutureWarning: The default value of numeric_only in DataFrameGroupBy.mean is deprecated. In a future version, numeric_only will default to False. Either specify numeric_only or select only columns which should be valid for the function.\n",
      "  tmp = r.groupby(['chain', 'draw', 'Subcortical response']).mean()\n"
     ]
    },
    {
     "name": "stdout",
     "output_type": "stream",
     "text": [
      "sncv2 0.13125\n",
      "vtav2 0.05325\n"
     ]
    },
    {
     "name": "stderr",
     "output_type": "stream",
     "text": [
      "/var/folders/d4/cpqhwlbn301clph1qk64k01nmjkty3/T/ipykernel_4077/519300716.py:3: FutureWarning: The default value of numeric_only in DataFrameGroupBy.mean is deprecated. In a future version, numeric_only will default to False. Either specify numeric_only or select only columns which should be valid for the function.\n",
      "  tmp = r.groupby(['chain', 'draw', 'Subcortical response']).mean()\n"
     ]
    },
    {
     "data": {
      "image/png": "[encoded data removed]",
      "text/plain": [
       "<Figure size 188.976x188.976 with 1 Axes>"
      ]
     },
     "metadata": {},
     "output_type": "display_data"
    },
    {
     "data": {
      "image/png": "[encoded data removed]",
      "text/plain": [
       "<Figure size 188.976x188.976 with 1 Axes>"
      ]
     },
     "metadata": {},
     "output_type": "display_data"
    },
    {
     "data": {
      "image/png": "[encoded data removed]",
      "text/plain": [
       "<Figure size 188.976x188.976 with 1 Axes>"
      ]
     },
     "metadata": {},
     "output_type": "display_data"
    },
    {
     "data": {
      "image/png": "[encoded data removed]",
      "text/plain": [
       "<Figure size 188.976x188.976 with 1 Axes>"
      ]
     },
     "metadata": {},
     "output_type": "display_data"
    }
   ],
   "source": [
    "for roi, r in rnp.groupby('roi'):\n",
    "\n",
    "    tmp = r.groupby(['chain', 'draw', 'Subcortical response']).mean()\n",
    "\n",
    "    fac = sns.FacetGrid(tmp.reset_index(), hue='Subcortical response', palette=palette,\n",
    "                       height=1.5*3.2*cm,\n",
    "                       hue_order=order)\n",
    "    \n",
    "    fac.map(sns.kdeplot, 'distance_to_risk_neutral', fill=True)\n",
    "\n",
    "    fac.set(xlabel=None, ylabel=None, yticks=[])\n",
    "    split = tmp['distance_to_risk_neutral'].unstack('Subcortical response')\n",
    "    print(roi, (split[order[0]] < split[order[1]]).mean())\n",
    "    plt.savefig(op.join(bids_folder, 'derivatives', 'figures', f'model-rnp_subcortical_roi-{roi}_rnp_distance.pdf'), bbox_inches='tight')"
   ]
  },
  {
   "cell_type": "code",
   "execution_count": null,
   "metadata": {},
   "outputs": [
    {
     "data": {
      "text/plain": [
       "0.05325000000000002"
      ]
     },
     "execution_count": 63,
     "metadata": {},
     "output_type": "execute_result"
    }
   ],
   "source": [
    "1-0.94675"
   ]
  },
  {
   "cell_type": "code",
   "execution_count": null,
   "metadata": {},
   "outputs": [
    {
     "name": "stderr",
     "output_type": "stream",
     "text": [
      "/var/folders/d4/cpqhwlbn301clph1qk64k01nmjkty3/T/ipykernel_4077/2787047461.py:1: FutureWarning: The default value of numeric_only in DataFrameGroupBy.mean is deprecated. In a future version, numeric_only will default to False. Either specify numeric_only or select only columns which should be valid for the function.\n",
      "  rnp.groupby(['roi', 'median_split_subcortical_response']).mean()\n"
     ]
    },
    {
     "data": {
      "text/html": [
       "<div>\n",
       "<style scoped>\n",
       "    .dataframe tbody tr th:only-of-type {\n",
       "        vertical-align: middle;\n",
       "    }\n",
       "\n",
       "    .dataframe tbody tr th {\n",
       "        vertical-align: top;\n",
       "    }\n",
       "\n",
       "    .dataframe thead th {\n",
       "        text-align: right;\n",
       "    }\n",
       "</style>\n",
       "<table border=\"1\" class=\"dataframe\">\n",
       "  <thead>\n",
       "    <tr style=\"text-align: right;\">\n",
       "      <th></th>\n",
       "      <th></th>\n",
       "      <th>rnp</th>\n",
       "      <th>distance_to_risk_neutral</th>\n",
       "    </tr>\n",
       "    <tr>\n",
       "      <th>roi</th>\n",
       "      <th>median_split_subcortical_response</th>\n",
       "      <th></th>\n",
       "      <th></th>\n",
       "    </tr>\n",
       "  </thead>\n",
       "  <tbody>\n",
       "    <tr>\n",
       "      <th rowspan=\"2\" valign=\"top\">lc</th>\n",
       "      <th>High activation</th>\n",
       "      <td>0.479019</td>\n",
       "      <td>0.164214</td>\n",
       "    </tr>\n",
       "    <tr>\n",
       "      <th>Low activation</th>\n",
       "      <td>0.478053</td>\n",
       "      <td>0.172048</td>\n",
       "    </tr>\n",
       "    <tr>\n",
       "      <th rowspan=\"2\" valign=\"top\">meynert</th>\n",
       "      <th>High activation</th>\n",
       "      <td>0.479184</td>\n",
       "      <td>0.168905</td>\n",
       "    </tr>\n",
       "    <tr>\n",
       "      <th>Low activation</th>\n",
       "      <td>0.479358</td>\n",
       "      <td>0.169425</td>\n",
       "    </tr>\n",
       "    <tr>\n",
       "      <th rowspan=\"2\" valign=\"top\">sncv2</th>\n",
       "      <th>High activation</th>\n",
       "      <td>0.482926</td>\n",
       "      <td>0.165006</td>\n",
       "    </tr>\n",
       "    <tr>\n",
       "      <th>Low activation</th>\n",
       "      <td>0.475330</td>\n",
       "      <td>0.173317</td>\n",
       "    </tr>\n",
       "    <tr>\n",
       "      <th rowspan=\"2\" valign=\"top\">vtav2</th>\n",
       "      <th>High activation</th>\n",
       "      <td>0.477159</td>\n",
       "      <td>0.163132</td>\n",
       "    </tr>\n",
       "    <tr>\n",
       "      <th>Low activation</th>\n",
       "      <td>0.479438</td>\n",
       "      <td>0.174942</td>\n",
       "    </tr>\n",
       "  </tbody>\n",
       "</table>\n",
       "</div>"
      ],
      "text/plain": [
       "                                                rnp  distance_to_risk_neutral\n",
       "roi     median_split_subcortical_response                                    \n",
       "lc      High activation                    0.479019                  0.164214\n",
       "        Low activation                     0.478053                  0.172048\n",
       "meynert High activation                    0.479184                  0.168905\n",
       "        Low activation                     0.479358                  0.169425\n",
       "sncv2   High activation                    0.482926                  0.165006\n",
       "        Low activation                     0.475330                  0.173317\n",
       "vtav2   High activation                    0.477159                  0.163132\n",
       "        Low activation                     0.479438                  0.174942"
      ]
     },
     "execution_count": 67,
     "metadata": {},
     "output_type": "execute_result"
    }
   ],
   "source": [
    "rnp.groupby(['roi', 'median_split_subcortical_response']).mean()"
   ]
  },
  {
   "cell_type": "code",
   "execution_count": 12,
   "metadata": {},
   "outputs": [
    {
     "data": {
      "image/png": "[encoded data removed]",
      "text/plain": [
       "<Figure size 640x480 with 1 Axes>"
      ]
     },
     "metadata": {},
     "output_type": "display_data"
    }
   ],
   "source": [
    "from matplotlib.lines import Line2D\n",
    "from matplotlib.patches import Patch\n",
    "\n",
    "\n",
    "fig = plt.gcf()\n",
    "\n",
    "legend_elements = [Patch(facecolor=palette[0], label='Low stimulus-related activation'),\n",
    "                   Patch(facecolor=palette[1], label='High stimulus-related activation') ]\n",
    "\n",
    "\n",
    "legend = plt.legend(handles=legend_elements, loc='center')\n",
    "plt.axis('off')\n",
    "\n",
    "bbox  = legend.get_window_extent().transformed(fig.dpi_scale_trans.inverted())\n",
    "# fig.savefig(filename, dpi=\"figure\", bbox_inches=bbox)\n",
    "\n",
    "plt.savefig('/data/ds-risk/derivatives/figures/subcortical_legend.pdf', bbox_inches=bbox)"
   ]
  },
  {
   "cell_type": "markdown",
   "metadata": {},
   "source": [
    "# Prestim model"
   ]
  },
  {
   "cell_type": "markdown",
   "metadata": {},
   "source": [
    "## median split"
   ]
  },
  {
   "cell_type": "code",
   "execution_count": 168,
   "metadata": {},
   "outputs": [
    {
     "name": "stderr",
     "output_type": "stream",
     "text": [
      "100%|██████████| 30/30 [00:01<00:00, 19.76it/s]\n"
     ]
    },
    {
     "name": "stdout",
     "output_type": "stream",
     "text": [
      "Running with PCA!\n",
      "                                    rt  uncertainty  z_uncertainty  \\\n",
      "subject session run trial_nr                                         \n",
      "02      7t2     1   1         1.544193          3.0       1.190537   \n",
      "                    2         0.890433          3.0       1.190537   \n",
      "                    3         1.707715          3.0       1.190537   \n",
      "                    4         0.689762          2.0      -0.101466   \n",
      "                    5         1.306945          2.0      -0.101466   \n",
      "...                                ...          ...            ...   \n",
      "32      7t2     8   188       0.574373          1.0      -0.535805   \n",
      "                    189       0.424887          2.0       1.856628   \n",
      "                    190       0.508297          1.0      -0.535805   \n",
      "                    191       0.508506          1.0      -0.535805   \n",
      "                    192       0.542275          2.0       1.856628   \n",
      "\n",
      "                             median_split_uncertainty    n1    n2  prob1  \\\n",
      "subject session run trial_nr                                               \n",
      "02      7t2     1   1                high uncertainty  19.0  10.0   0.55   \n",
      "                    2                high uncertainty  98.0  28.0   0.55   \n",
      "                    3                high uncertainty  52.0  20.0   0.55   \n",
      "                    4                 low uncertainty  66.0  28.0   0.55   \n",
      "                    5                 low uncertainty  17.0  10.0   0.55   \n",
      "...                                               ...   ...   ...    ...   \n",
      "32      7t2     8   188               low uncertainty  26.0  10.0   0.55   \n",
      "                    189              high uncertainty  15.0   7.0   0.55   \n",
      "                    190               low uncertainty  34.0  28.0   0.55   \n",
      "                    191               low uncertainty  34.0  28.0   0.55   \n",
      "                    192              high uncertainty  28.0   7.0   0.55   \n",
      "\n",
      "                              prob2    p1   p2  ...  risky_first  chose_risky  \\\n",
      "subject session run trial_nr                    ...                             \n",
      "02      7t2     1   1           1.0  0.55  1.0  ...         True        False   \n",
      "                    2           1.0  0.55  1.0  ...         True         True   \n",
      "                    3           1.0  0.55  1.0  ...         True         True   \n",
      "                    4           1.0  0.55  1.0  ...         True         True   \n",
      "                    5           1.0  0.55  1.0  ...         True         True   \n",
      "...                             ...   ...  ...  ...          ...          ...   \n",
      "32      7t2     8   188         1.0  0.55  1.0  ...         True        False   \n",
      "                    189         1.0  0.55  1.0  ...         True        False   \n",
      "                    190         1.0  0.55  1.0  ...         True        False   \n",
      "                    191         1.0  0.55  1.0  ...         True        False   \n",
      "                    192         1.0  0.55  1.0  ...         True        False   \n",
      "\n",
      "                                    Order  n_risky  n_safe      frac  \\\n",
      "subject session run trial_nr                                           \n",
      "02      7t2     1   1         Risky first     19.0    10.0  1.900000   \n",
      "                    2         Risky first     98.0    28.0  3.500000   \n",
      "                    3         Risky first     52.0    20.0  2.600000   \n",
      "                    4         Risky first     66.0    28.0  2.357143   \n",
      "                    5         Risky first     17.0    10.0  1.700000   \n",
      "...                                   ...      ...     ...       ...   \n",
      "32      7t2     8   188       Risky first     26.0    10.0  2.600000   \n",
      "                    189       Risky first     15.0     7.0  2.142857   \n",
      "                    190       Risky first     34.0    28.0  1.214286   \n",
      "                    191       Risky first     34.0    28.0  1.214286   \n",
      "                    192       Risky first     28.0     7.0  4.000000   \n",
      "\n",
      "                             log(risky/safe)  bin(risky/safe)   log(n1)  \\\n",
      "subject session run trial_nr                                              \n",
      "02      7t2     1   1               0.641854              2.0  2.944439   \n",
      "                    2               1.252763              6.0  4.584967   \n",
      "                    3               0.955511              4.0  3.951244   \n",
      "                    4               0.857450              3.0  4.189655   \n",
      "                    5               0.530628              1.0  2.833213   \n",
      "...                                      ...              ...       ...   \n",
      "32      7t2     8   188             0.955511              4.0  3.258097   \n",
      "                    189             0.762140              4.0  2.708050   \n",
      "                    190             0.194156              2.0  3.526361   \n",
      "                    191             0.194156              2.0  3.526361   \n",
      "                    192             1.386294              6.0  3.332205   \n",
      "\n",
      "                                     x  \n",
      "subject session run trial_nr            \n",
      "02      7t2     1   1         0.641854  \n",
      "                    2         1.252763  \n",
      "                    3         0.955511  \n",
      "                    4         0.857450  \n",
      "                    5         0.530628  \n",
      "...                                ...  \n",
      "32      7t2     8   188       0.955511  \n",
      "                    189       0.762140  \n",
      "                    190       0.194156  \n",
      "                    191       0.194156  \n",
      "                    192       1.386294  \n",
      "\n",
      "[5760 rows x 24 columns]\n",
      "                      dmidbrain\n",
      "subject run trial_nr           \n",
      "02      1   1         -0.392558\n",
      "            2         -2.355602\n",
      "            3          2.374544\n",
      "            4          0.917844\n",
      "            5         -1.116782\n",
      "...                         ...\n",
      "32      8   188        0.619712\n",
      "            189        0.497588\n",
      "            190       -0.884158\n",
      "            191        0.836073\n",
      "            192        0.759156\n",
      "\n",
      "[5760 rows x 1 columns]\n"
     ]
    },
    {
     "name": "stderr",
     "output_type": "stream",
     "text": [
      "100%|██████████| 30/30 [00:01<00:00, 24.82it/s]\n"
     ]
    },
    {
     "name": "stdout",
     "output_type": "stream",
     "text": [
      "Running with PCA!\n",
      "                                    rt  uncertainty  z_uncertainty  \\\n",
      "subject session run trial_nr                                         \n",
      "02      7t2     1   1         1.544193          3.0       1.190537   \n",
      "                    2         0.890433          3.0       1.190537   \n",
      "                    3         1.707715          3.0       1.190537   \n",
      "                    4         0.689762          2.0      -0.101466   \n",
      "                    5         1.306945          2.0      -0.101466   \n",
      "...                                ...          ...            ...   \n",
      "32      7t2     8   188       0.574373          1.0      -0.535805   \n",
      "                    189       0.424887          2.0       1.856628   \n",
      "                    190       0.508297          1.0      -0.535805   \n",
      "                    191       0.508506          1.0      -0.535805   \n",
      "                    192       0.542275          2.0       1.856628   \n",
      "\n",
      "                             median_split_uncertainty    n1    n2  prob1  \\\n",
      "subject session run trial_nr                                               \n",
      "02      7t2     1   1                high uncertainty  19.0  10.0   0.55   \n",
      "                    2                high uncertainty  98.0  28.0   0.55   \n",
      "                    3                high uncertainty  52.0  20.0   0.55   \n",
      "                    4                 low uncertainty  66.0  28.0   0.55   \n",
      "                    5                 low uncertainty  17.0  10.0   0.55   \n",
      "...                                               ...   ...   ...    ...   \n",
      "32      7t2     8   188               low uncertainty  26.0  10.0   0.55   \n",
      "                    189              high uncertainty  15.0   7.0   0.55   \n",
      "                    190               low uncertainty  34.0  28.0   0.55   \n",
      "                    191               low uncertainty  34.0  28.0   0.55   \n",
      "                    192              high uncertainty  28.0   7.0   0.55   \n",
      "\n",
      "                              prob2    p1   p2  ...  risky_first  chose_risky  \\\n",
      "subject session run trial_nr                    ...                             \n",
      "02      7t2     1   1           1.0  0.55  1.0  ...         True        False   \n",
      "                    2           1.0  0.55  1.0  ...         True         True   \n",
      "                    3           1.0  0.55  1.0  ...         True         True   \n",
      "                    4           1.0  0.55  1.0  ...         True         True   \n",
      "                    5           1.0  0.55  1.0  ...         True         True   \n",
      "...                             ...   ...  ...  ...          ...          ...   \n",
      "32      7t2     8   188         1.0  0.55  1.0  ...         True        False   \n",
      "                    189         1.0  0.55  1.0  ...         True        False   \n",
      "                    190         1.0  0.55  1.0  ...         True        False   \n",
      "                    191         1.0  0.55  1.0  ...         True        False   \n",
      "                    192         1.0  0.55  1.0  ...         True        False   \n",
      "\n",
      "                                    Order  n_risky  n_safe      frac  \\\n",
      "subject session run trial_nr                                           \n",
      "02      7t2     1   1         Risky first     19.0    10.0  1.900000   \n",
      "                    2         Risky first     98.0    28.0  3.500000   \n",
      "                    3         Risky first     52.0    20.0  2.600000   \n",
      "                    4         Risky first     66.0    28.0  2.357143   \n",
      "                    5         Risky first     17.0    10.0  1.700000   \n",
      "...                                   ...      ...     ...       ...   \n",
      "32      7t2     8   188       Risky first     26.0    10.0  2.600000   \n",
      "                    189       Risky first     15.0     7.0  2.142857   \n",
      "                    190       Risky first     34.0    28.0  1.214286   \n",
      "                    191       Risky first     34.0    28.0  1.214286   \n",
      "                    192       Risky first     28.0     7.0  4.000000   \n",
      "\n",
      "                             log(risky/safe)  bin(risky/safe)   log(n1)  \\\n",
      "subject session run trial_nr                                              \n",
      "02      7t2     1   1               0.641854              2.0  2.944439   \n",
      "                    2               1.252763              6.0  4.584967   \n",
      "                    3               0.955511              4.0  3.951244   \n",
      "                    4               0.857450              3.0  4.189655   \n",
      "                    5               0.530628              1.0  2.833213   \n",
      "...                                      ...              ...       ...   \n",
      "32      7t2     8   188             0.955511              4.0  3.258097   \n",
      "                    189             0.762140              4.0  2.708050   \n",
      "                    190             0.194156              2.0  3.526361   \n",
      "                    191             0.194156              2.0  3.526361   \n",
      "                    192             1.386294              6.0  3.332205   \n",
      "\n",
      "                                     x  \n",
      "subject session run trial_nr            \n",
      "02      7t2     1   1         0.641854  \n",
      "                    2         1.252763  \n",
      "                    3         0.955511  \n",
      "                    4         0.857450  \n",
      "                    5         0.530628  \n",
      "...                                ...  \n",
      "32      7t2     8   188       0.955511  \n",
      "                    189       0.762140  \n",
      "                    190       0.194156  \n",
      "                    191       0.194156  \n",
      "                    192       1.386294  \n",
      "\n",
      "[5760 rows x 24 columns]\n",
      "                         sncv2\n",
      "subject run trial_nr          \n",
      "02      1   1         0.094933\n",
      "            2        -2.981389\n",
      "            3         0.899968\n",
      "            4         0.495779\n",
      "            5        -1.516173\n",
      "...                        ...\n",
      "32      8   188      -0.005574\n",
      "            189      -0.002429\n",
      "            190       0.014627\n",
      "            191      -0.009825\n",
      "            192      -0.004737\n",
      "\n",
      "[5760 rows x 1 columns]\n"
     ]
    },
    {
     "name": "stderr",
     "output_type": "stream",
     "text": [
      "100%|██████████| 30/30 [00:01<00:00, 28.96it/s]\n"
     ]
    },
    {
     "name": "stdout",
     "output_type": "stream",
     "text": [
      "Running with PCA!\n",
      "                                    rt  uncertainty  z_uncertainty  \\\n",
      "subject session run trial_nr                                         \n",
      "02      7t2     1   1         1.544193          3.0       1.190537   \n",
      "                    2         0.890433          3.0       1.190537   \n",
      "                    3         1.707715          3.0       1.190537   \n",
      "                    4         0.689762          2.0      -0.101466   \n",
      "                    5         1.306945          2.0      -0.101466   \n",
      "...                                ...          ...            ...   \n",
      "32      7t2     8   188       0.574373          1.0      -0.535805   \n",
      "                    189       0.424887          2.0       1.856628   \n",
      "                    190       0.508297          1.0      -0.535805   \n",
      "                    191       0.508506          1.0      -0.535805   \n",
      "                    192       0.542275          2.0       1.856628   \n",
      "\n",
      "                             median_split_uncertainty    n1    n2  prob1  \\\n",
      "subject session run trial_nr                                               \n",
      "02      7t2     1   1                high uncertainty  19.0  10.0   0.55   \n",
      "                    2                high uncertainty  98.0  28.0   0.55   \n",
      "                    3                high uncertainty  52.0  20.0   0.55   \n",
      "                    4                 low uncertainty  66.0  28.0   0.55   \n",
      "                    5                 low uncertainty  17.0  10.0   0.55   \n",
      "...                                               ...   ...   ...    ...   \n",
      "32      7t2     8   188               low uncertainty  26.0  10.0   0.55   \n",
      "                    189              high uncertainty  15.0   7.0   0.55   \n",
      "                    190               low uncertainty  34.0  28.0   0.55   \n",
      "                    191               low uncertainty  34.0  28.0   0.55   \n",
      "                    192              high uncertainty  28.0   7.0   0.55   \n",
      "\n",
      "                              prob2    p1   p2  ...  risky_first  chose_risky  \\\n",
      "subject session run trial_nr                    ...                             \n",
      "02      7t2     1   1           1.0  0.55  1.0  ...         True        False   \n",
      "                    2           1.0  0.55  1.0  ...         True         True   \n",
      "                    3           1.0  0.55  1.0  ...         True         True   \n",
      "                    4           1.0  0.55  1.0  ...         True         True   \n",
      "                    5           1.0  0.55  1.0  ...         True         True   \n",
      "...                             ...   ...  ...  ...          ...          ...   \n",
      "32      7t2     8   188         1.0  0.55  1.0  ...         True        False   \n",
      "                    189         1.0  0.55  1.0  ...         True        False   \n",
      "                    190         1.0  0.55  1.0  ...         True        False   \n",
      "                    191         1.0  0.55  1.0  ...         True        False   \n",
      "                    192         1.0  0.55  1.0  ...         True        False   \n",
      "\n",
      "                                    Order  n_risky  n_safe      frac  \\\n",
      "subject session run trial_nr                                           \n",
      "02      7t2     1   1         Risky first     19.0    10.0  1.900000   \n",
      "                    2         Risky first     98.0    28.0  3.500000   \n",
      "                    3         Risky first     52.0    20.0  2.600000   \n",
      "                    4         Risky first     66.0    28.0  2.357143   \n",
      "                    5         Risky first     17.0    10.0  1.700000   \n",
      "...                                   ...      ...     ...       ...   \n",
      "32      7t2     8   188       Risky first     26.0    10.0  2.600000   \n",
      "                    189       Risky first     15.0     7.0  2.142857   \n",
      "                    190       Risky first     34.0    28.0  1.214286   \n",
      "                    191       Risky first     34.0    28.0  1.214286   \n",
      "                    192       Risky first     28.0     7.0  4.000000   \n",
      "\n",
      "                             log(risky/safe)  bin(risky/safe)   log(n1)  \\\n",
      "subject session run trial_nr                                              \n",
      "02      7t2     1   1               0.641854              2.0  2.944439   \n",
      "                    2               1.252763              6.0  4.584967   \n",
      "                    3               0.955511              4.0  3.951244   \n",
      "                    4               0.857450              3.0  4.189655   \n",
      "                    5               0.530628              1.0  2.833213   \n",
      "...                                      ...              ...       ...   \n",
      "32      7t2     8   188             0.955511              4.0  3.258097   \n",
      "                    189             0.762140              4.0  2.708050   \n",
      "                    190             0.194156              2.0  3.526361   \n",
      "                    191             0.194156              2.0  3.526361   \n",
      "                    192             1.386294              6.0  3.332205   \n",
      "\n",
      "                                     x  \n",
      "subject session run trial_nr            \n",
      "02      7t2     1   1         0.641854  \n",
      "                    2         1.252763  \n",
      "                    3         0.955511  \n",
      "                    4         0.857450  \n",
      "                    5         0.530628  \n",
      "...                                ...  \n",
      "32      7t2     8   188       0.955511  \n",
      "                    189       0.762140  \n",
      "                    190       0.194156  \n",
      "                    191       0.194156  \n",
      "                    192       1.386294  \n",
      "\n",
      "[5760 rows x 24 columns]\n",
      "                         vtav2\n",
      "subject run trial_nr          \n",
      "02      1   1        -0.150865\n",
      "            2        -1.462667\n",
      "            3         2.866468\n",
      "            4         0.697120\n",
      "            5        -0.842703\n",
      "...                        ...\n",
      "32      8   188       0.038531\n",
      "            189       0.036100\n",
      "            190      -0.021192\n",
      "            191       0.038517\n",
      "            192       0.035251\n",
      "\n",
      "[5760 rows x 1 columns]\n"
     ]
    },
    {
     "name": "stderr",
     "output_type": "stream",
     "text": [
      "100%|██████████| 30/30 [00:00<00:00, 31.10it/s]\n"
     ]
    },
    {
     "name": "stdout",
     "output_type": "stream",
     "text": [
      "Running with PCA!\n",
      "                                    rt  uncertainty  z_uncertainty  \\\n",
      "subject session run trial_nr                                         \n",
      "02      7t2     1   1         1.544193          3.0       1.190537   \n",
      "                    2         0.890433          3.0       1.190537   \n",
      "                    3         1.707715          3.0       1.190537   \n",
      "                    4         0.689762          2.0      -0.101466   \n",
      "                    5         1.306945          2.0      -0.101466   \n",
      "...                                ...          ...            ...   \n",
      "32      7t2     8   188       0.574373          1.0      -0.535805   \n",
      "                    189       0.424887          2.0       1.856628   \n",
      "                    190       0.508297          1.0      -0.535805   \n",
      "                    191       0.508506          1.0      -0.535805   \n",
      "                    192       0.542275          2.0       1.856628   \n",
      "\n",
      "                             median_split_uncertainty    n1    n2  prob1  \\\n",
      "subject session run trial_nr                                               \n",
      "02      7t2     1   1                high uncertainty  19.0  10.0   0.55   \n",
      "                    2                high uncertainty  98.0  28.0   0.55   \n",
      "                    3                high uncertainty  52.0  20.0   0.55   \n",
      "                    4                 low uncertainty  66.0  28.0   0.55   \n",
      "                    5                 low uncertainty  17.0  10.0   0.55   \n",
      "...                                               ...   ...   ...    ...   \n",
      "32      7t2     8   188               low uncertainty  26.0  10.0   0.55   \n",
      "                    189              high uncertainty  15.0   7.0   0.55   \n",
      "                    190               low uncertainty  34.0  28.0   0.55   \n",
      "                    191               low uncertainty  34.0  28.0   0.55   \n",
      "                    192              high uncertainty  28.0   7.0   0.55   \n",
      "\n",
      "                              prob2    p1   p2  ...  risky_first  chose_risky  \\\n",
      "subject session run trial_nr                    ...                             \n",
      "02      7t2     1   1           1.0  0.55  1.0  ...         True        False   \n",
      "                    2           1.0  0.55  1.0  ...         True         True   \n",
      "                    3           1.0  0.55  1.0  ...         True         True   \n",
      "                    4           1.0  0.55  1.0  ...         True         True   \n",
      "                    5           1.0  0.55  1.0  ...         True         True   \n",
      "...                             ...   ...  ...  ...          ...          ...   \n",
      "32      7t2     8   188         1.0  0.55  1.0  ...         True        False   \n",
      "                    189         1.0  0.55  1.0  ...         True        False   \n",
      "                    190         1.0  0.55  1.0  ...         True        False   \n",
      "                    191         1.0  0.55  1.0  ...         True        False   \n",
      "                    192         1.0  0.55  1.0  ...         True        False   \n",
      "\n",
      "                                    Order  n_risky  n_safe      frac  \\\n",
      "subject session run trial_nr                                           \n",
      "02      7t2     1   1         Risky first     19.0    10.0  1.900000   \n",
      "                    2         Risky first     98.0    28.0  3.500000   \n",
      "                    3         Risky first     52.0    20.0  2.600000   \n",
      "                    4         Risky first     66.0    28.0  2.357143   \n",
      "                    5         Risky first     17.0    10.0  1.700000   \n",
      "...                                   ...      ...     ...       ...   \n",
      "32      7t2     8   188       Risky first     26.0    10.0  2.600000   \n",
      "                    189       Risky first     15.0     7.0  2.142857   \n",
      "                    190       Risky first     34.0    28.0  1.214286   \n",
      "                    191       Risky first     34.0    28.0  1.214286   \n",
      "                    192       Risky first     28.0     7.0  4.000000   \n",
      "\n",
      "                             log(risky/safe)  bin(risky/safe)   log(n1)  \\\n",
      "subject session run trial_nr                                              \n",
      "02      7t2     1   1               0.641854              2.0  2.944439   \n",
      "                    2               1.252763              6.0  4.584967   \n",
      "                    3               0.955511              4.0  3.951244   \n",
      "                    4               0.857450              3.0  4.189655   \n",
      "                    5               0.530628              1.0  2.833213   \n",
      "...                                      ...              ...       ...   \n",
      "32      7t2     8   188             0.955511              4.0  3.258097   \n",
      "                    189             0.762140              4.0  2.708050   \n",
      "                    190             0.194156              2.0  3.526361   \n",
      "                    191             0.194156              2.0  3.526361   \n",
      "                    192             1.386294              6.0  3.332205   \n",
      "\n",
      "                                     x  \n",
      "subject session run trial_nr            \n",
      "02      7t2     1   1         0.641854  \n",
      "                    2         1.252763  \n",
      "                    3         0.955511  \n",
      "                    4         0.857450  \n",
      "                    5         0.530628  \n",
      "...                                ...  \n",
      "32      7t2     8   188       0.955511  \n",
      "                    189       0.762140  \n",
      "                    190       0.194156  \n",
      "                    191       0.194156  \n",
      "                    192       1.386294  \n",
      "\n",
      "[5760 rows x 24 columns]\n",
      "                            lc\n",
      "subject run trial_nr          \n",
      "02      1   1         0.657931\n",
      "            2         0.979357\n",
      "            3        -0.685843\n",
      "            4         0.300332\n",
      "            5         0.724014\n",
      "...                        ...\n",
      "32      8   188       0.199783\n",
      "            189       0.320220\n",
      "            190      -0.399029\n",
      "            191       0.679334\n",
      "            192       0.363609\n",
      "\n",
      "[5760 rows x 1 columns]\n"
     ]
    },
    {
     "name": "stderr",
     "output_type": "stream",
     "text": [
      "100%|██████████| 30/30 [00:01<00:00, 24.85it/s]\n"
     ]
    },
    {
     "name": "stdout",
     "output_type": "stream",
     "text": [
      "Running with PCA!\n",
      "                                    rt  uncertainty  z_uncertainty  \\\n",
      "subject session run trial_nr                                         \n",
      "02      7t2     1   1         1.544193          3.0       1.190537   \n",
      "                    2         0.890433          3.0       1.190537   \n",
      "                    3         1.707715          3.0       1.190537   \n",
      "                    4         0.689762          2.0      -0.101466   \n",
      "                    5         1.306945          2.0      -0.101466   \n",
      "...                                ...          ...            ...   \n",
      "32      7t2     8   188       0.574373          1.0      -0.535805   \n",
      "                    189       0.424887          2.0       1.856628   \n",
      "                    190       0.508297          1.0      -0.535805   \n",
      "                    191       0.508506          1.0      -0.535805   \n",
      "                    192       0.542275          2.0       1.856628   \n",
      "\n",
      "                             median_split_uncertainty    n1    n2  prob1  \\\n",
      "subject session run trial_nr                                               \n",
      "02      7t2     1   1                high uncertainty  19.0  10.0   0.55   \n",
      "                    2                high uncertainty  98.0  28.0   0.55   \n",
      "                    3                high uncertainty  52.0  20.0   0.55   \n",
      "                    4                 low uncertainty  66.0  28.0   0.55   \n",
      "                    5                 low uncertainty  17.0  10.0   0.55   \n",
      "...                                               ...   ...   ...    ...   \n",
      "32      7t2     8   188               low uncertainty  26.0  10.0   0.55   \n",
      "                    189              high uncertainty  15.0   7.0   0.55   \n",
      "                    190               low uncertainty  34.0  28.0   0.55   \n",
      "                    191               low uncertainty  34.0  28.0   0.55   \n",
      "                    192              high uncertainty  28.0   7.0   0.55   \n",
      "\n",
      "                              prob2    p1   p2  ...  risky_first  chose_risky  \\\n",
      "subject session run trial_nr                    ...                             \n",
      "02      7t2     1   1           1.0  0.55  1.0  ...         True        False   \n",
      "                    2           1.0  0.55  1.0  ...         True         True   \n",
      "                    3           1.0  0.55  1.0  ...         True         True   \n",
      "                    4           1.0  0.55  1.0  ...         True         True   \n",
      "                    5           1.0  0.55  1.0  ...         True         True   \n",
      "...                             ...   ...  ...  ...          ...          ...   \n",
      "32      7t2     8   188         1.0  0.55  1.0  ...         True        False   \n",
      "                    189         1.0  0.55  1.0  ...         True        False   \n",
      "                    190         1.0  0.55  1.0  ...         True        False   \n",
      "                    191         1.0  0.55  1.0  ...         True        False   \n",
      "                    192         1.0  0.55  1.0  ...         True        False   \n",
      "\n",
      "                                    Order  n_risky  n_safe      frac  \\\n",
      "subject session run trial_nr                                           \n",
      "02      7t2     1   1         Risky first     19.0    10.0  1.900000   \n",
      "                    2         Risky first     98.0    28.0  3.500000   \n",
      "                    3         Risky first     52.0    20.0  2.600000   \n",
      "                    4         Risky first     66.0    28.0  2.357143   \n",
      "                    5         Risky first     17.0    10.0  1.700000   \n",
      "...                                   ...      ...     ...       ...   \n",
      "32      7t2     8   188       Risky first     26.0    10.0  2.600000   \n",
      "                    189       Risky first     15.0     7.0  2.142857   \n",
      "                    190       Risky first     34.0    28.0  1.214286   \n",
      "                    191       Risky first     34.0    28.0  1.214286   \n",
      "                    192       Risky first     28.0     7.0  4.000000   \n",
      "\n",
      "                             log(risky/safe)  bin(risky/safe)   log(n1)  \\\n",
      "subject session run trial_nr                                              \n",
      "02      7t2     1   1               0.641854              2.0  2.944439   \n",
      "                    2               1.252763              6.0  4.584967   \n",
      "                    3               0.955511              4.0  3.951244   \n",
      "                    4               0.857450              3.0  4.189655   \n",
      "                    5               0.530628              1.0  2.833213   \n",
      "...                                      ...              ...       ...   \n",
      "32      7t2     8   188             0.955511              4.0  3.258097   \n",
      "                    189             0.762140              4.0  2.708050   \n",
      "                    190             0.194156              2.0  3.526361   \n",
      "                    191             0.194156              2.0  3.526361   \n",
      "                    192             1.386294              6.0  3.332205   \n",
      "\n",
      "                                     x  \n",
      "subject session run trial_nr            \n",
      "02      7t2     1   1         0.641854  \n",
      "                    2         1.252763  \n",
      "                    3         0.955511  \n",
      "                    4         0.857450  \n",
      "                    5         0.530628  \n",
      "...                                ...  \n",
      "32      7t2     8   188       0.955511  \n",
      "                    189       0.762140  \n",
      "                    190       0.194156  \n",
      "                    191       0.194156  \n",
      "                    192       1.386294  \n",
      "\n",
      "[5760 rows x 24 columns]\n",
      "                       meynert\n",
      "subject run trial_nr          \n",
      "02      1   1        -2.490014\n",
      "            2        -2.268312\n",
      "            3         2.140565\n",
      "            4         0.394223\n",
      "            5        -0.640652\n",
      "...                        ...\n",
      "32      8   188       0.433927\n",
      "            189       0.023681\n",
      "            190      -0.594520\n",
      "            191       0.277992\n",
      "            192       0.528000\n",
      "\n",
      "[5760 rows x 1 columns]\n"
     ]
    }
   ],
   "source": [
    "rois = ['dmidbrain', 'sncv2', 'vtav2', 'lc', 'meynert']\n",
    "# rois = ['sncv2', 'vtav2', 'meynert', ][:4]\n",
    "\n",
    "rnps = []\n",
    "gammas = []\n",
    "\n",
    "for roi in rois:\n",
    "    df, model, idata = load('probit_subcortical_prestim_simple.pca', '7t2', roi=roi)\n",
    "    intercept, gamma = extract_intercept_gamma(idata, model, df, group=True)\n",
    "    rnp = np.exp(intercept['intercept']/gamma['gamma']).stack([-2, -1]).to_frame('rnp')\n",
    "    rnp = rnp[(rnp['rnp'] > 0.0) & (rnp['rnp'] < 1.0)]\n",
    "    rnp.index = rnp.index.set_levels(rnp.index.levels[1].astype(int), level=1)\n",
    "\n",
    "    gamma = gamma.stack([-2, -1])\n",
    "\n",
    "    rnps.append(rnp)\n",
    "    gammas.append(gamma)"
   ]
  },
  {
   "cell_type": "code",
   "execution_count": 169,
   "metadata": {},
   "outputs": [],
   "source": [
    "rnp = pd.concat(rnps, keys=rois, names=['roi'])\n",
    "gamma = pd.concat(gammas, keys=rois, names=['roi'])"
   ]
  },
  {
   "cell_type": "code",
   "execution_count": 170,
   "metadata": {},
   "outputs": [
    {
     "name": "stderr",
     "output_type": "stream",
     "text": [
      "/var/folders/d4/cpqhwlbn301clph1qk64k01nmjkty3/T/ipykernel_71512/189316050.py:9: FutureWarning: hdi currently interprets 2d data as (draw, shape) but this will change in a future release to (chain, draw) for coherence with other functions\n",
      "  return tuple(az.hdi(x.values))\n",
      "/var/folders/d4/cpqhwlbn301clph1qk64k01nmjkty3/T/ipykernel_71512/189316050.py:9: FutureWarning: hdi currently interprets 2d data as (draw, shape) but this will change in a future release to (chain, draw) for coherence with other functions\n",
      "  return tuple(az.hdi(x.values))\n",
      "/var/folders/d4/cpqhwlbn301clph1qk64k01nmjkty3/T/ipykernel_71512/189316050.py:9: FutureWarning: hdi currently interprets 2d data as (draw, shape) but this will change in a future release to (chain, draw) for coherence with other functions\n",
      "  return tuple(az.hdi(x.values))\n",
      "/var/folders/d4/cpqhwlbn301clph1qk64k01nmjkty3/T/ipykernel_71512/189316050.py:9: FutureWarning: hdi currently interprets 2d data as (draw, shape) but this will change in a future release to (chain, draw) for coherence with other functions\n",
      "  return tuple(az.hdi(x.values))\n",
      "/var/folders/d4/cpqhwlbn301clph1qk64k01nmjkty3/T/ipykernel_71512/189316050.py:9: FutureWarning: hdi currently interprets 2d data as (draw, shape) but this will change in a future release to (chain, draw) for coherence with other functions\n",
      "  return tuple(az.hdi(x.values))\n",
      "/var/folders/d4/cpqhwlbn301clph1qk64k01nmjkty3/T/ipykernel_71512/189316050.py:9: FutureWarning: hdi currently interprets 2d data as (draw, shape) but this will change in a future release to (chain, draw) for coherence with other functions\n",
      "  return tuple(az.hdi(x.values))\n",
      "/var/folders/d4/cpqhwlbn301clph1qk64k01nmjkty3/T/ipykernel_71512/189316050.py:9: FutureWarning: hdi currently interprets 2d data as (draw, shape) but this will change in a future release to (chain, draw) for coherence with other functions\n",
      "  return tuple(az.hdi(x.values))\n",
      "/var/folders/d4/cpqhwlbn301clph1qk64k01nmjkty3/T/ipykernel_71512/189316050.py:9: FutureWarning: hdi currently interprets 2d data as (draw, shape) but this will change in a future release to (chain, draw) for coherence with other functions\n",
      "  return tuple(az.hdi(x.values))\n",
      "/var/folders/d4/cpqhwlbn301clph1qk64k01nmjkty3/T/ipykernel_71512/189316050.py:9: FutureWarning: hdi currently interprets 2d data as (draw, shape) but this will change in a future release to (chain, draw) for coherence with other functions\n",
      "  return tuple(az.hdi(x.values))\n",
      "/var/folders/d4/cpqhwlbn301clph1qk64k01nmjkty3/T/ipykernel_71512/189316050.py:9: FutureWarning: hdi currently interprets 2d data as (draw, shape) but this will change in a future release to (chain, draw) for coherence with other functions\n",
      "  return tuple(az.hdi(x.values))\n"
     ]
    },
    {
     "data": {
      "text/html": [
       "<div>\n",
       "<style scoped>\n",
       "    .dataframe tbody tr th:only-of-type {\n",
       "        vertical-align: middle;\n",
       "    }\n",
       "\n",
       "    .dataframe tbody tr th {\n",
       "        vertical-align: top;\n",
       "    }\n",
       "\n",
       "    .dataframe thead th {\n",
       "        text-align: right;\n",
       "    }\n",
       "</style>\n",
       "<table border=\"1\" class=\"dataframe\">\n",
       "  <thead>\n",
       "    <tr style=\"text-align: right;\">\n",
       "      <th></th>\n",
       "      <th></th>\n",
       "      <th>gamma</th>\n",
       "      <th>low</th>\n",
       "      <th>up</th>\n",
       "    </tr>\n",
       "    <tr>\n",
       "      <th>roi</th>\n",
       "      <th>median_split_subcortical_baseline</th>\n",
       "      <th></th>\n",
       "      <th></th>\n",
       "      <th></th>\n",
       "    </tr>\n",
       "  </thead>\n",
       "  <tbody>\n",
       "    <tr>\n",
       "      <th rowspan=\"2\" valign=\"top\">dmidbrain</th>\n",
       "      <th>High subcortical activation</th>\n",
       "      <td>1.89</td>\n",
       "      <td>1.57</td>\n",
       "      <td>2.20</td>\n",
       "    </tr>\n",
       "    <tr>\n",
       "      <th>Low subcortical activation</th>\n",
       "      <td>1.87</td>\n",
       "      <td>1.54</td>\n",
       "      <td>2.18</td>\n",
       "    </tr>\n",
       "    <tr>\n",
       "      <th rowspan=\"2\" valign=\"top\">lc</th>\n",
       "      <th>High subcortical activation</th>\n",
       "      <td>1.95</td>\n",
       "      <td>1.65</td>\n",
       "      <td>2.28</td>\n",
       "    </tr>\n",
       "    <tr>\n",
       "      <th>Low subcortical activation</th>\n",
       "      <td>1.81</td>\n",
       "      <td>1.50</td>\n",
       "      <td>2.13</td>\n",
       "    </tr>\n",
       "    <tr>\n",
       "      <th rowspan=\"2\" valign=\"top\">meynert</th>\n",
       "      <th>High subcortical activation</th>\n",
       "      <td>1.81</td>\n",
       "      <td>1.50</td>\n",
       "      <td>2.16</td>\n",
       "    </tr>\n",
       "    <tr>\n",
       "      <th>Low subcortical activation</th>\n",
       "      <td>1.96</td>\n",
       "      <td>1.64</td>\n",
       "      <td>2.28</td>\n",
       "    </tr>\n",
       "    <tr>\n",
       "      <th rowspan=\"2\" valign=\"top\">sncv2</th>\n",
       "      <th>High subcortical activation</th>\n",
       "      <td>1.91</td>\n",
       "      <td>1.60</td>\n",
       "      <td>2.22</td>\n",
       "    </tr>\n",
       "    <tr>\n",
       "      <th>Low subcortical activation</th>\n",
       "      <td>1.87</td>\n",
       "      <td>1.55</td>\n",
       "      <td>2.19</td>\n",
       "    </tr>\n",
       "    <tr>\n",
       "      <th rowspan=\"2\" valign=\"top\">vtav2</th>\n",
       "      <th>High subcortical activation</th>\n",
       "      <td>1.88</td>\n",
       "      <td>1.55</td>\n",
       "      <td>2.19</td>\n",
       "    </tr>\n",
       "    <tr>\n",
       "      <th>Low subcortical activation</th>\n",
       "      <td>1.88</td>\n",
       "      <td>1.55</td>\n",
       "      <td>2.20</td>\n",
       "    </tr>\n",
       "  </tbody>\n",
       "</table>\n",
       "</div>"
      ],
      "text/plain": [
       "                                             gamma   low    up\n",
       "roi       median_split_subcortical_baseline                   \n",
       "dmidbrain High subcortical activation         1.89  1.57  2.20\n",
       "          Low subcortical activation          1.87  1.54  2.18\n",
       "lc        High subcortical activation         1.95  1.65  2.28\n",
       "          Low subcortical activation          1.81  1.50  2.13\n",
       "meynert   High subcortical activation         1.81  1.50  2.16\n",
       "          Low subcortical activation          1.96  1.64  2.28\n",
       "sncv2     High subcortical activation         1.91  1.60  2.22\n",
       "          Low subcortical activation          1.87  1.55  2.19\n",
       "vtav2     High subcortical activation         1.88  1.55  2.19\n",
       "          Low subcortical activation          1.88  1.55  2.20"
      ]
     },
     "execution_count": 170,
     "metadata": {},
     "output_type": "execute_result"
    }
   ],
   "source": [
    "gamma_1 = gamma.groupby(['roi', 'median_split_subcortical_baseline']).apply(lambda x: pd.Series(get_hdi(x)[0], index=['low', 'up'])).round(2)\n",
    "gamma_2 = gamma.groupby(['roi', 'median_split_subcortical_baseline']).mean().round(2)\n",
    "gamma_1.join(gamma_2)[['gamma', 'low', 'up']]"
   ]
  },
  {
   "cell_type": "code",
   "execution_count": 175,
   "metadata": {},
   "outputs": [
    {
     "name": "stdout",
     "output_type": "stream",
     "text": [
      "dmidbrain rnp    0.181\n",
      "dtype: float64\n",
      "lc rnp    0.2295\n",
      "dtype: float64\n",
      "meynert rnp    0.76425\n",
      "dtype: float64\n",
      "sncv2 rnp    0.399\n",
      "dtype: float64\n",
      "vtav2 rnp    0.08725\n",
      "dtype: float64\n"
     ]
    },
    {
     "data": {
      "image/png": "[encoded data removed]",
      "text/plain": [
       "<Figure size 500x500 with 1 Axes>"
      ]
     },
     "metadata": {},
     "output_type": "display_data"
    },
    {
     "data": {
      "image/png": "[encoded data removed]",
      "text/plain": [
       "<Figure size 500x500 with 1 Axes>"
      ]
     },
     "metadata": {},
     "output_type": "display_data"
    },
    {
     "data": {
      "image/png": "[encoded data removed]",
      "text/plain": [
       "<Figure size 500x500 with 1 Axes>"
      ]
     },
     "metadata": {},
     "output_type": "display_data"
    },
    {
     "data": {
      "image/png": "[encoded data removed]",
      "text/plain": [
       "<Figure size 500x500 with 1 Axes>"
      ]
     },
     "metadata": {},
     "output_type": "display_data"
    },
    {
     "data": {
      "image/png": "[encoded data removed]",
      "text/plain": [
       "<Figure size 500x500 with 1 Axes>"
      ]
     },
     "metadata": {},
     "output_type": "display_data"
    }
   ],
   "source": [
    "for roi, r in rnp.groupby('roi'):\n",
    "\n",
    "    sns.catplot(rnp.reset_index(), x='median_split_subcortical_baseline', y='rnp', errorbar=get_hdi, kind='point')\n",
    "\n",
    "    #   diff2 = (g.xs(True, 0, 'risky_first').xs('Low subcortical activation', 0, 'median_split_subcortical_baseline')['gamma'] - g.xs(True, 0, 'risky_first').xs('High subcortical activation', 0, 'median_split_subcortical_baseline')['gamma']) \n",
    "    p = ((r.xs('High subcortical activation', 0, 'median_split_subcortical_baseline') - r.xs('Low subcortical activation', 0, 'median_split_subcortical_baseline') ) > 0.0).mean()\n",
    "\n",
    "    print(roi, p)"
   ]
  },
  {
   "cell_type": "code",
   "execution_count": 172,
   "metadata": {},
   "outputs": [
    {
     "name": "stderr",
     "output_type": "stream",
     "text": [
      "/var/folders/d4/cpqhwlbn301clph1qk64k01nmjkty3/T/ipykernel_71512/189316050.py:9: FutureWarning: hdi currently interprets 2d data as (draw, shape) but this will change in a future release to (chain, draw) for coherence with other functions\n",
      "  return tuple(az.hdi(x.values))\n",
      "/var/folders/d4/cpqhwlbn301clph1qk64k01nmjkty3/T/ipykernel_71512/189316050.py:9: FutureWarning: hdi currently interprets 2d data as (draw, shape) but this will change in a future release to (chain, draw) for coherence with other functions\n",
      "  return tuple(az.hdi(x.values))\n",
      "/var/folders/d4/cpqhwlbn301clph1qk64k01nmjkty3/T/ipykernel_71512/189316050.py:9: FutureWarning: hdi currently interprets 2d data as (draw, shape) but this will change in a future release to (chain, draw) for coherence with other functions\n",
      "  return tuple(az.hdi(x.values))\n",
      "/var/folders/d4/cpqhwlbn301clph1qk64k01nmjkty3/T/ipykernel_71512/189316050.py:9: FutureWarning: hdi currently interprets 2d data as (draw, shape) but this will change in a future release to (chain, draw) for coherence with other functions\n",
      "  return tuple(az.hdi(x.values))\n",
      "/var/folders/d4/cpqhwlbn301clph1qk64k01nmjkty3/T/ipykernel_71512/189316050.py:9: FutureWarning: hdi currently interprets 2d data as (draw, shape) but this will change in a future release to (chain, draw) for coherence with other functions\n",
      "  return tuple(az.hdi(x.values))\n",
      "/var/folders/d4/cpqhwlbn301clph1qk64k01nmjkty3/T/ipykernel_71512/189316050.py:9: FutureWarning: hdi currently interprets 2d data as (draw, shape) but this will change in a future release to (chain, draw) for coherence with other functions\n",
      "  return tuple(az.hdi(x.values))\n",
      "/var/folders/d4/cpqhwlbn301clph1qk64k01nmjkty3/T/ipykernel_71512/189316050.py:9: FutureWarning: hdi currently interprets 2d data as (draw, shape) but this will change in a future release to (chain, draw) for coherence with other functions\n",
      "  return tuple(az.hdi(x.values))\n",
      "/var/folders/d4/cpqhwlbn301clph1qk64k01nmjkty3/T/ipykernel_71512/189316050.py:9: FutureWarning: hdi currently interprets 2d data as (draw, shape) but this will change in a future release to (chain, draw) for coherence with other functions\n",
      "  return tuple(az.hdi(x.values))\n",
      "/var/folders/d4/cpqhwlbn301clph1qk64k01nmjkty3/T/ipykernel_71512/189316050.py:9: FutureWarning: hdi currently interprets 2d data as (draw, shape) but this will change in a future release to (chain, draw) for coherence with other functions\n",
      "  return tuple(az.hdi(x.values))\n",
      "/var/folders/d4/cpqhwlbn301clph1qk64k01nmjkty3/T/ipykernel_71512/189316050.py:9: FutureWarning: hdi currently interprets 2d data as (draw, shape) but this will change in a future release to (chain, draw) for coherence with other functions\n",
      "  return tuple(az.hdi(x.values))\n"
     ]
    },
    {
     "data": {
      "text/html": [
       "<div>\n",
       "<style scoped>\n",
       "    .dataframe tbody tr th:only-of-type {\n",
       "        vertical-align: middle;\n",
       "    }\n",
       "\n",
       "    .dataframe tbody tr th {\n",
       "        vertical-align: top;\n",
       "    }\n",
       "\n",
       "    .dataframe thead th {\n",
       "        text-align: right;\n",
       "    }\n",
       "</style>\n",
       "<table border=\"1\" class=\"dataframe\">\n",
       "  <thead>\n",
       "    <tr style=\"text-align: right;\">\n",
       "      <th></th>\n",
       "      <th></th>\n",
       "      <th>rnp</th>\n",
       "      <th>low</th>\n",
       "      <th>up</th>\n",
       "    </tr>\n",
       "    <tr>\n",
       "      <th>roi</th>\n",
       "      <th>median_split_subcortical_baseline</th>\n",
       "      <th></th>\n",
       "      <th></th>\n",
       "      <th></th>\n",
       "    </tr>\n",
       "  </thead>\n",
       "  <tbody>\n",
       "    <tr>\n",
       "      <th rowspan=\"2\" valign=\"top\">dmidbrain</th>\n",
       "      <th>High subcortical activation</th>\n",
       "      <td>47.44</td>\n",
       "      <td>40.09</td>\n",
       "      <td>54.63</td>\n",
       "    </tr>\n",
       "    <tr>\n",
       "      <th>Low subcortical activation</th>\n",
       "      <td>48.36</td>\n",
       "      <td>40.79</td>\n",
       "      <td>55.71</td>\n",
       "    </tr>\n",
       "    <tr>\n",
       "      <th rowspan=\"2\" valign=\"top\">lc</th>\n",
       "      <th>High subcortical activation</th>\n",
       "      <td>47.52</td>\n",
       "      <td>40.58</td>\n",
       "      <td>55.42</td>\n",
       "    </tr>\n",
       "    <tr>\n",
       "      <th>Low subcortical activation</th>\n",
       "      <td>48.34</td>\n",
       "      <td>40.58</td>\n",
       "      <td>56.83</td>\n",
       "    </tr>\n",
       "    <tr>\n",
       "      <th rowspan=\"2\" valign=\"top\">meynert</th>\n",
       "      <th>High subcortical activation</th>\n",
       "      <td>48.43</td>\n",
       "      <td>40.99</td>\n",
       "      <td>56.65</td>\n",
       "    </tr>\n",
       "    <tr>\n",
       "      <th>Low subcortical activation</th>\n",
       "      <td>47.63</td>\n",
       "      <td>40.50</td>\n",
       "      <td>54.99</td>\n",
       "    </tr>\n",
       "    <tr>\n",
       "      <th rowspan=\"2\" valign=\"top\">sncv2</th>\n",
       "      <th>High subcortical activation</th>\n",
       "      <td>47.97</td>\n",
       "      <td>40.42</td>\n",
       "      <td>55.63</td>\n",
       "    </tr>\n",
       "    <tr>\n",
       "      <th>Low subcortical activation</th>\n",
       "      <td>48.24</td>\n",
       "      <td>40.57</td>\n",
       "      <td>55.96</td>\n",
       "    </tr>\n",
       "    <tr>\n",
       "      <th rowspan=\"2\" valign=\"top\">vtav2</th>\n",
       "      <th>High subcortical activation</th>\n",
       "      <td>47.24</td>\n",
       "      <td>40.06</td>\n",
       "      <td>54.74</td>\n",
       "    </tr>\n",
       "    <tr>\n",
       "      <th>Low subcortical activation</th>\n",
       "      <td>48.65</td>\n",
       "      <td>40.78</td>\n",
       "      <td>55.83</td>\n",
       "    </tr>\n",
       "  </tbody>\n",
       "</table>\n",
       "</div>"
      ],
      "text/plain": [
       "                                               rnp    low     up\n",
       "roi       median_split_subcortical_baseline                     \n",
       "dmidbrain High subcortical activation        47.44  40.09  54.63\n",
       "          Low subcortical activation         48.36  40.79  55.71\n",
       "lc        High subcortical activation        47.52  40.58  55.42\n",
       "          Low subcortical activation         48.34  40.58  56.83\n",
       "meynert   High subcortical activation        48.43  40.99  56.65\n",
       "          Low subcortical activation         47.63  40.50  54.99\n",
       "sncv2     High subcortical activation        47.97  40.42  55.63\n",
       "          Low subcortical activation         48.24  40.57  55.96\n",
       "vtav2     High subcortical activation        47.24  40.06  54.74\n",
       "          Low subcortical activation         48.65  40.78  55.83"
      ]
     },
     "execution_count": 172,
     "metadata": {},
     "output_type": "execute_result"
    }
   ],
   "source": [
    "rnp_1 = rnp.groupby(['roi', 'median_split_subcortical_baseline']).apply(lambda x: pd.Series(get_hdi(x)[0], index=['low', 'up'])).round(4)* 100\n",
    "rnp_2 = rnp.groupby(['roi', 'median_split_subcortical_baseline']).mean().round(4) * 100\n",
    "\n",
    "rnp_1.join(rnp_2)[['rnp', 'low', 'up']]"
   ]
  },
  {
   "cell_type": "code",
   "execution_count": 173,
   "metadata": {},
   "outputs": [
    {
     "name": "stdout",
     "output_type": "stream",
     "text": [
      "dmidbrain gamma    0.5875\n",
      "dtype: float64\n",
      "lc gamma    0.89725\n",
      "dtype: float64\n",
      "meynert gamma    0.10025\n",
      "dtype: float64\n",
      "sncv2 gamma    0.63475\n",
      "dtype: float64\n",
      "vtav2 gamma    0.49575\n",
      "dtype: float64\n"
     ]
    },
    {
     "data": {
      "image/png": "[encoded data removed]",
      "text/plain": [
       "<Figure size 500x500 with 1 Axes>"
      ]
     },
     "metadata": {},
     "output_type": "display_data"
    },
    {
     "data": {
      "image/png": "[encoded data removed]",
      "text/plain": [
       "<Figure size 500x500 with 1 Axes>"
      ]
     },
     "metadata": {},
     "output_type": "display_data"
    },
    {
     "data": {
      "image/png": "[encoded data removed]",
      "text/plain": [
       "<Figure size 500x500 with 1 Axes>"
      ]
     },
     "metadata": {},
     "output_type": "display_data"
    },
    {
     "data": {
      "image/png": "[encoded data removed]",
      "text/plain": [
       "<Figure size 500x500 with 1 Axes>"
      ]
     },
     "metadata": {},
     "output_type": "display_data"
    },
    {
     "data": {
      "image/png": "[encoded data removed]",
      "text/plain": [
       "<Figure size 500x500 with 1 Axes>"
      ]
     },
     "metadata": {},
     "output_type": "display_data"
    }
   ],
   "source": [
    "for roi, g in gamma.groupby('roi'):\n",
    "\n",
    "    sns.catplot(g.reset_index(), x='median_split_subcortical_baseline', y='gamma', errorbar=get_hdi, kind='point')\n",
    "\n",
    "    #   diff2 = (g.xs(True, 0, 'risky_first').xs('Low subcortical activation', 0, 'median_split_subcortical_baseline')['gamma'] - g.xs(True, 0, 'risky_first').xs('High subcortical activation', 0, 'median_split_subcortical_baseline')['gamma']) \n",
    "    p = ((g.xs('High subcortical activation', 0, 'median_split_subcortical_baseline') - g.xs('Low subcortical activation', 0, 'median_split_subcortical_baseline') ) > 0.0).mean()\n",
    "\n",
    "    print(roi, p)"
   ]
  },
  {
   "cell_type": "code",
   "execution_count": 174,
   "metadata": {},
   "outputs": [
    {
     "data": {
      "text/html": [
       "<div>\n",
       "<style scoped>\n",
       "    .dataframe tbody tr th:only-of-type {\n",
       "        vertical-align: middle;\n",
       "    }\n",
       "\n",
       "    .dataframe tbody tr th {\n",
       "        vertical-align: top;\n",
       "    }\n",
       "\n",
       "    .dataframe thead th {\n",
       "        text-align: right;\n",
       "    }\n",
       "</style>\n",
       "<table border=\"1\" class=\"dataframe\">\n",
       "  <thead>\n",
       "    <tr style=\"text-align: right;\">\n",
       "      <th></th>\n",
       "      <th></th>\n",
       "      <th>gamma</th>\n",
       "    </tr>\n",
       "    <tr>\n",
       "      <th>roi</th>\n",
       "      <th>median_split_subcortical_baseline</th>\n",
       "      <th></th>\n",
       "    </tr>\n",
       "  </thead>\n",
       "  <tbody>\n",
       "    <tr>\n",
       "      <th rowspan=\"2\" valign=\"top\">dmidbrain</th>\n",
       "      <th>High subcortical activation</th>\n",
       "      <td>1.892257</td>\n",
       "    </tr>\n",
       "    <tr>\n",
       "      <th>Low subcortical activation</th>\n",
       "      <td>1.866211</td>\n",
       "    </tr>\n",
       "    <tr>\n",
       "      <th rowspan=\"2\" valign=\"top\">lc</th>\n",
       "      <th>High subcortical activation</th>\n",
       "      <td>1.952065</td>\n",
       "    </tr>\n",
       "    <tr>\n",
       "      <th>Low subcortical activation</th>\n",
       "      <td>1.809448</td>\n",
       "    </tr>\n",
       "    <tr>\n",
       "      <th rowspan=\"2\" valign=\"top\">meynert</th>\n",
       "      <th>High subcortical activation</th>\n",
       "      <td>1.808227</td>\n",
       "    </tr>\n",
       "    <tr>\n",
       "      <th>Low subcortical activation</th>\n",
       "      <td>1.962108</td>\n",
       "    </tr>\n",
       "    <tr>\n",
       "      <th rowspan=\"2\" valign=\"top\">sncv2</th>\n",
       "      <th>High subcortical activation</th>\n",
       "      <td>1.908814</td>\n",
       "    </tr>\n",
       "    <tr>\n",
       "      <th>Low subcortical activation</th>\n",
       "      <td>1.871459</td>\n",
       "    </tr>\n",
       "    <tr>\n",
       "      <th rowspan=\"2\" valign=\"top\">vtav2</th>\n",
       "      <th>High subcortical activation</th>\n",
       "      <td>1.882790</td>\n",
       "    </tr>\n",
       "    <tr>\n",
       "      <th>Low subcortical activation</th>\n",
       "      <td>1.882891</td>\n",
       "    </tr>\n",
       "  </tbody>\n",
       "</table>\n",
       "</div>"
      ],
      "text/plain": [
       "                                                gamma\n",
       "roi       median_split_subcortical_baseline          \n",
       "dmidbrain High subcortical activation        1.892257\n",
       "          Low subcortical activation         1.866211\n",
       "lc        High subcortical activation        1.952065\n",
       "          Low subcortical activation         1.809448\n",
       "meynert   High subcortical activation        1.808227\n",
       "          Low subcortical activation         1.962108\n",
       "sncv2     High subcortical activation        1.908814\n",
       "          Low subcortical activation         1.871459\n",
       "vtav2     High subcortical activation        1.882790\n",
       "          Low subcortical activation         1.882891"
      ]
     },
     "execution_count": 174,
     "metadata": {},
     "output_type": "execute_result"
    }
   ],
   "source": [
    "gamma.groupby(['roi', 'median_split_subcortical_baseline']).mean()"
   ]
  },
  {
   "cell_type": "markdown",
   "metadata": {},
   "source": [
    "## risky first x median split"
   ]
  },
  {
   "cell_type": "code",
   "execution_count": 146,
   "metadata": {},
   "outputs": [
    {
     "name": "stderr",
     "output_type": "stream",
     "text": [
      "100%|██████████| 30/30 [00:01<00:00, 21.86it/s]\n"
     ]
    },
    {
     "name": "stdout",
     "output_type": "stream",
     "text": [
      "Running with PCA!\n",
      "                                    rt  uncertainty  z_uncertainty  \\\n",
      "subject session run trial_nr                                         \n",
      "02      7t2     1   1         1.544193          3.0       1.190537   \n",
      "                    2         0.890433          3.0       1.190537   \n",
      "                    3         1.707715          3.0       1.190537   \n",
      "                    4         0.689762          2.0      -0.101466   \n",
      "                    5         1.306945          2.0      -0.101466   \n",
      "...                                ...          ...            ...   \n",
      "32      7t2     8   188       0.574373          1.0      -0.535805   \n",
      "                    189       0.424887          2.0       1.856628   \n",
      "                    190       0.508297          1.0      -0.535805   \n",
      "                    191       0.508506          1.0      -0.535805   \n",
      "                    192       0.542275          2.0       1.856628   \n",
      "\n",
      "                             median_split_uncertainty    n1    n2  prob1  \\\n",
      "subject session run trial_nr                                               \n",
      "02      7t2     1   1                high uncertainty  19.0  10.0   0.55   \n",
      "                    2                high uncertainty  98.0  28.0   0.55   \n",
      "                    3                high uncertainty  52.0  20.0   0.55   \n",
      "                    4                 low uncertainty  66.0  28.0   0.55   \n",
      "                    5                 low uncertainty  17.0  10.0   0.55   \n",
      "...                                               ...   ...   ...    ...   \n",
      "32      7t2     8   188               low uncertainty  26.0  10.0   0.55   \n",
      "                    189              high uncertainty  15.0   7.0   0.55   \n",
      "                    190               low uncertainty  34.0  28.0   0.55   \n",
      "                    191               low uncertainty  34.0  28.0   0.55   \n",
      "                    192              high uncertainty  28.0   7.0   0.55   \n",
      "\n",
      "                              prob2    p1   p2  ...  risky_first  chose_risky  \\\n",
      "subject session run trial_nr                    ...                             \n",
      "02      7t2     1   1           1.0  0.55  1.0  ...         True        False   \n",
      "                    2           1.0  0.55  1.0  ...         True         True   \n",
      "                    3           1.0  0.55  1.0  ...         True         True   \n",
      "                    4           1.0  0.55  1.0  ...         True         True   \n",
      "                    5           1.0  0.55  1.0  ...         True         True   \n",
      "...                             ...   ...  ...  ...          ...          ...   \n",
      "32      7t2     8   188         1.0  0.55  1.0  ...         True        False   \n",
      "                    189         1.0  0.55  1.0  ...         True        False   \n",
      "                    190         1.0  0.55  1.0  ...         True        False   \n",
      "                    191         1.0  0.55  1.0  ...         True        False   \n",
      "                    192         1.0  0.55  1.0  ...         True        False   \n",
      "\n",
      "                                    Order  n_risky  n_safe      frac  \\\n",
      "subject session run trial_nr                                           \n",
      "02      7t2     1   1         Risky first     19.0    10.0  1.900000   \n",
      "                    2         Risky first     98.0    28.0  3.500000   \n",
      "                    3         Risky first     52.0    20.0  2.600000   \n",
      "                    4         Risky first     66.0    28.0  2.357143   \n",
      "                    5         Risky first     17.0    10.0  1.700000   \n",
      "...                                   ...      ...     ...       ...   \n",
      "32      7t2     8   188       Risky first     26.0    10.0  2.600000   \n",
      "                    189       Risky first     15.0     7.0  2.142857   \n",
      "                    190       Risky first     34.0    28.0  1.214286   \n",
      "                    191       Risky first     34.0    28.0  1.214286   \n",
      "                    192       Risky first     28.0     7.0  4.000000   \n",
      "\n",
      "                             log(risky/safe)  bin(risky/safe)   log(n1)  \\\n",
      "subject session run trial_nr                                              \n",
      "02      7t2     1   1               0.641854              2.0  2.944439   \n",
      "                    2               1.252763              6.0  4.584967   \n",
      "                    3               0.955511              4.0  3.951244   \n",
      "                    4               0.857450              3.0  4.189655   \n",
      "                    5               0.530628              1.0  2.833213   \n",
      "...                                      ...              ...       ...   \n",
      "32      7t2     8   188             0.955511              4.0  3.258097   \n",
      "                    189             0.762140              4.0  2.708050   \n",
      "                    190             0.194156              2.0  3.526361   \n",
      "                    191             0.194156              2.0  3.526361   \n",
      "                    192             1.386294              6.0  3.332205   \n",
      "\n",
      "                                     x  \n",
      "subject session run trial_nr            \n",
      "02      7t2     1   1         0.641854  \n",
      "                    2         1.252763  \n",
      "                    3         0.955511  \n",
      "                    4         0.857450  \n",
      "                    5         0.530628  \n",
      "...                                ...  \n",
      "32      7t2     8   188       0.955511  \n",
      "                    189       0.762140  \n",
      "                    190       0.194156  \n",
      "                    191       0.194156  \n",
      "                    192       1.386294  \n",
      "\n",
      "[5760 rows x 24 columns]\n",
      "                         sncv2\n",
      "subject run trial_nr          \n",
      "02      1   1         0.094933\n",
      "            2        -2.981389\n",
      "            3         0.899968\n",
      "            4         0.495779\n",
      "            5        -1.516173\n",
      "...                        ...\n",
      "32      8   188      -0.005574\n",
      "            189      -0.002429\n",
      "            190       0.014627\n",
      "            191      -0.009825\n",
      "            192      -0.004737\n",
      "\n",
      "[5760 rows x 1 columns]\n"
     ]
    },
    {
     "name": "stderr",
     "output_type": "stream",
     "text": [
      "100%|██████████| 30/30 [00:00<00:00, 30.84it/s]\n"
     ]
    },
    {
     "name": "stdout",
     "output_type": "stream",
     "text": [
      "Running with PCA!\n",
      "                                    rt  uncertainty  z_uncertainty  \\\n",
      "subject session run trial_nr                                         \n",
      "02      7t2     1   1         1.544193          3.0       1.190537   \n",
      "                    2         0.890433          3.0       1.190537   \n",
      "                    3         1.707715          3.0       1.190537   \n",
      "                    4         0.689762          2.0      -0.101466   \n",
      "                    5         1.306945          2.0      -0.101466   \n",
      "...                                ...          ...            ...   \n",
      "32      7t2     8   188       0.574373          1.0      -0.535805   \n",
      "                    189       0.424887          2.0       1.856628   \n",
      "                    190       0.508297          1.0      -0.535805   \n",
      "                    191       0.508506          1.0      -0.535805   \n",
      "                    192       0.542275          2.0       1.856628   \n",
      "\n",
      "                             median_split_uncertainty    n1    n2  prob1  \\\n",
      "subject session run trial_nr                                               \n",
      "02      7t2     1   1                high uncertainty  19.0  10.0   0.55   \n",
      "                    2                high uncertainty  98.0  28.0   0.55   \n",
      "                    3                high uncertainty  52.0  20.0   0.55   \n",
      "                    4                 low uncertainty  66.0  28.0   0.55   \n",
      "                    5                 low uncertainty  17.0  10.0   0.55   \n",
      "...                                               ...   ...   ...    ...   \n",
      "32      7t2     8   188               low uncertainty  26.0  10.0   0.55   \n",
      "                    189              high uncertainty  15.0   7.0   0.55   \n",
      "                    190               low uncertainty  34.0  28.0   0.55   \n",
      "                    191               low uncertainty  34.0  28.0   0.55   \n",
      "                    192              high uncertainty  28.0   7.0   0.55   \n",
      "\n",
      "                              prob2    p1   p2  ...  risky_first  chose_risky  \\\n",
      "subject session run trial_nr                    ...                             \n",
      "02      7t2     1   1           1.0  0.55  1.0  ...         True        False   \n",
      "                    2           1.0  0.55  1.0  ...         True         True   \n",
      "                    3           1.0  0.55  1.0  ...         True         True   \n",
      "                    4           1.0  0.55  1.0  ...         True         True   \n",
      "                    5           1.0  0.55  1.0  ...         True         True   \n",
      "...                             ...   ...  ...  ...          ...          ...   \n",
      "32      7t2     8   188         1.0  0.55  1.0  ...         True        False   \n",
      "                    189         1.0  0.55  1.0  ...         True        False   \n",
      "                    190         1.0  0.55  1.0  ...         True        False   \n",
      "                    191         1.0  0.55  1.0  ...         True        False   \n",
      "                    192         1.0  0.55  1.0  ...         True        False   \n",
      "\n",
      "                                    Order  n_risky  n_safe      frac  \\\n",
      "subject session run trial_nr                                           \n",
      "02      7t2     1   1         Risky first     19.0    10.0  1.900000   \n",
      "                    2         Risky first     98.0    28.0  3.500000   \n",
      "                    3         Risky first     52.0    20.0  2.600000   \n",
      "                    4         Risky first     66.0    28.0  2.357143   \n",
      "                    5         Risky first     17.0    10.0  1.700000   \n",
      "...                                   ...      ...     ...       ...   \n",
      "32      7t2     8   188       Risky first     26.0    10.0  2.600000   \n",
      "                    189       Risky first     15.0     7.0  2.142857   \n",
      "                    190       Risky first     34.0    28.0  1.214286   \n",
      "                    191       Risky first     34.0    28.0  1.214286   \n",
      "                    192       Risky first     28.0     7.0  4.000000   \n",
      "\n",
      "                             log(risky/safe)  bin(risky/safe)   log(n1)  \\\n",
      "subject session run trial_nr                                              \n",
      "02      7t2     1   1               0.641854              2.0  2.944439   \n",
      "                    2               1.252763              6.0  4.584967   \n",
      "                    3               0.955511              4.0  3.951244   \n",
      "                    4               0.857450              3.0  4.189655   \n",
      "                    5               0.530628              1.0  2.833213   \n",
      "...                                      ...              ...       ...   \n",
      "32      7t2     8   188             0.955511              4.0  3.258097   \n",
      "                    189             0.762140              4.0  2.708050   \n",
      "                    190             0.194156              2.0  3.526361   \n",
      "                    191             0.194156              2.0  3.526361   \n",
      "                    192             1.386294              6.0  3.332205   \n",
      "\n",
      "                                     x  \n",
      "subject session run trial_nr            \n",
      "02      7t2     1   1         0.641854  \n",
      "                    2         1.252763  \n",
      "                    3         0.955511  \n",
      "                    4         0.857450  \n",
      "                    5         0.530628  \n",
      "...                                ...  \n",
      "32      7t2     8   188       0.955511  \n",
      "                    189       0.762140  \n",
      "                    190       0.194156  \n",
      "                    191       0.194156  \n",
      "                    192       1.386294  \n",
      "\n",
      "[5760 rows x 24 columns]\n",
      "                         vtav2\n",
      "subject run trial_nr          \n",
      "02      1   1        -0.150865\n",
      "            2        -1.462667\n",
      "            3         2.866468\n",
      "            4         0.697120\n",
      "            5        -0.842703\n",
      "...                        ...\n",
      "32      8   188       0.038531\n",
      "            189       0.036100\n",
      "            190      -0.021192\n",
      "            191       0.038517\n",
      "            192       0.035251\n",
      "\n",
      "[5760 rows x 1 columns]\n"
     ]
    },
    {
     "name": "stderr",
     "output_type": "stream",
     "text": [
      "100%|██████████| 30/30 [00:00<00:00, 30.98it/s]\n"
     ]
    },
    {
     "name": "stdout",
     "output_type": "stream",
     "text": [
      "Running with PCA!\n",
      "                                    rt  uncertainty  z_uncertainty  \\\n",
      "subject session run trial_nr                                         \n",
      "02      7t2     1   1         1.544193          3.0       1.190537   \n",
      "                    2         0.890433          3.0       1.190537   \n",
      "                    3         1.707715          3.0       1.190537   \n",
      "                    4         0.689762          2.0      -0.101466   \n",
      "                    5         1.306945          2.0      -0.101466   \n",
      "...                                ...          ...            ...   \n",
      "32      7t2     8   188       0.574373          1.0      -0.535805   \n",
      "                    189       0.424887          2.0       1.856628   \n",
      "                    190       0.508297          1.0      -0.535805   \n",
      "                    191       0.508506          1.0      -0.535805   \n",
      "                    192       0.542275          2.0       1.856628   \n",
      "\n",
      "                             median_split_uncertainty    n1    n2  prob1  \\\n",
      "subject session run trial_nr                                               \n",
      "02      7t2     1   1                high uncertainty  19.0  10.0   0.55   \n",
      "                    2                high uncertainty  98.0  28.0   0.55   \n",
      "                    3                high uncertainty  52.0  20.0   0.55   \n",
      "                    4                 low uncertainty  66.0  28.0   0.55   \n",
      "                    5                 low uncertainty  17.0  10.0   0.55   \n",
      "...                                               ...   ...   ...    ...   \n",
      "32      7t2     8   188               low uncertainty  26.0  10.0   0.55   \n",
      "                    189              high uncertainty  15.0   7.0   0.55   \n",
      "                    190               low uncertainty  34.0  28.0   0.55   \n",
      "                    191               low uncertainty  34.0  28.0   0.55   \n",
      "                    192              high uncertainty  28.0   7.0   0.55   \n",
      "\n",
      "                              prob2    p1   p2  ...  risky_first  chose_risky  \\\n",
      "subject session run trial_nr                    ...                             \n",
      "02      7t2     1   1           1.0  0.55  1.0  ...         True        False   \n",
      "                    2           1.0  0.55  1.0  ...         True         True   \n",
      "                    3           1.0  0.55  1.0  ...         True         True   \n",
      "                    4           1.0  0.55  1.0  ...         True         True   \n",
      "                    5           1.0  0.55  1.0  ...         True         True   \n",
      "...                             ...   ...  ...  ...          ...          ...   \n",
      "32      7t2     8   188         1.0  0.55  1.0  ...         True        False   \n",
      "                    189         1.0  0.55  1.0  ...         True        False   \n",
      "                    190         1.0  0.55  1.0  ...         True        False   \n",
      "                    191         1.0  0.55  1.0  ...         True        False   \n",
      "                    192         1.0  0.55  1.0  ...         True        False   \n",
      "\n",
      "                                    Order  n_risky  n_safe      frac  \\\n",
      "subject session run trial_nr                                           \n",
      "02      7t2     1   1         Risky first     19.0    10.0  1.900000   \n",
      "                    2         Risky first     98.0    28.0  3.500000   \n",
      "                    3         Risky first     52.0    20.0  2.600000   \n",
      "                    4         Risky first     66.0    28.0  2.357143   \n",
      "                    5         Risky first     17.0    10.0  1.700000   \n",
      "...                                   ...      ...     ...       ...   \n",
      "32      7t2     8   188       Risky first     26.0    10.0  2.600000   \n",
      "                    189       Risky first     15.0     7.0  2.142857   \n",
      "                    190       Risky first     34.0    28.0  1.214286   \n",
      "                    191       Risky first     34.0    28.0  1.214286   \n",
      "                    192       Risky first     28.0     7.0  4.000000   \n",
      "\n",
      "                             log(risky/safe)  bin(risky/safe)   log(n1)  \\\n",
      "subject session run trial_nr                                              \n",
      "02      7t2     1   1               0.641854              2.0  2.944439   \n",
      "                    2               1.252763              6.0  4.584967   \n",
      "                    3               0.955511              4.0  3.951244   \n",
      "                    4               0.857450              3.0  4.189655   \n",
      "                    5               0.530628              1.0  2.833213   \n",
      "...                                      ...              ...       ...   \n",
      "32      7t2     8   188             0.955511              4.0  3.258097   \n",
      "                    189             0.762140              4.0  2.708050   \n",
      "                    190             0.194156              2.0  3.526361   \n",
      "                    191             0.194156              2.0  3.526361   \n",
      "                    192             1.386294              6.0  3.332205   \n",
      "\n",
      "                                     x  \n",
      "subject session run trial_nr            \n",
      "02      7t2     1   1         0.641854  \n",
      "                    2         1.252763  \n",
      "                    3         0.955511  \n",
      "                    4         0.857450  \n",
      "                    5         0.530628  \n",
      "...                                ...  \n",
      "32      7t2     8   188       0.955511  \n",
      "                    189       0.762140  \n",
      "                    190       0.194156  \n",
      "                    191       0.194156  \n",
      "                    192       1.386294  \n",
      "\n",
      "[5760 rows x 24 columns]\n",
      "                            lc\n",
      "subject run trial_nr          \n",
      "02      1   1         0.657931\n",
      "            2         0.979357\n",
      "            3        -0.685843\n",
      "            4         0.300332\n",
      "            5         0.724014\n",
      "...                        ...\n",
      "32      8   188       0.199783\n",
      "            189       0.320220\n",
      "            190      -0.399029\n",
      "            191       0.679334\n",
      "            192       0.363609\n",
      "\n",
      "[5760 rows x 1 columns]\n"
     ]
    },
    {
     "name": "stderr",
     "output_type": "stream",
     "text": [
      "100%|██████████| 30/30 [00:00<00:00, 31.52it/s]\n"
     ]
    },
    {
     "name": "stdout",
     "output_type": "stream",
     "text": [
      "Running with PCA!\n",
      "                                    rt  uncertainty  z_uncertainty  \\\n",
      "subject session run trial_nr                                         \n",
      "02      7t2     1   1         1.544193          3.0       1.190537   \n",
      "                    2         0.890433          3.0       1.190537   \n",
      "                    3         1.707715          3.0       1.190537   \n",
      "                    4         0.689762          2.0      -0.101466   \n",
      "                    5         1.306945          2.0      -0.101466   \n",
      "...                                ...          ...            ...   \n",
      "32      7t2     8   188       0.574373          1.0      -0.535805   \n",
      "                    189       0.424887          2.0       1.856628   \n",
      "                    190       0.508297          1.0      -0.535805   \n",
      "                    191       0.508506          1.0      -0.535805   \n",
      "                    192       0.542275          2.0       1.856628   \n",
      "\n",
      "                             median_split_uncertainty    n1    n2  prob1  \\\n",
      "subject session run trial_nr                                               \n",
      "02      7t2     1   1                high uncertainty  19.0  10.0   0.55   \n",
      "                    2                high uncertainty  98.0  28.0   0.55   \n",
      "                    3                high uncertainty  52.0  20.0   0.55   \n",
      "                    4                 low uncertainty  66.0  28.0   0.55   \n",
      "                    5                 low uncertainty  17.0  10.0   0.55   \n",
      "...                                               ...   ...   ...    ...   \n",
      "32      7t2     8   188               low uncertainty  26.0  10.0   0.55   \n",
      "                    189              high uncertainty  15.0   7.0   0.55   \n",
      "                    190               low uncertainty  34.0  28.0   0.55   \n",
      "                    191               low uncertainty  34.0  28.0   0.55   \n",
      "                    192              high uncertainty  28.0   7.0   0.55   \n",
      "\n",
      "                              prob2    p1   p2  ...  risky_first  chose_risky  \\\n",
      "subject session run trial_nr                    ...                             \n",
      "02      7t2     1   1           1.0  0.55  1.0  ...         True        False   \n",
      "                    2           1.0  0.55  1.0  ...         True         True   \n",
      "                    3           1.0  0.55  1.0  ...         True         True   \n",
      "                    4           1.0  0.55  1.0  ...         True         True   \n",
      "                    5           1.0  0.55  1.0  ...         True         True   \n",
      "...                             ...   ...  ...  ...          ...          ...   \n",
      "32      7t2     8   188         1.0  0.55  1.0  ...         True        False   \n",
      "                    189         1.0  0.55  1.0  ...         True        False   \n",
      "                    190         1.0  0.55  1.0  ...         True        False   \n",
      "                    191         1.0  0.55  1.0  ...         True        False   \n",
      "                    192         1.0  0.55  1.0  ...         True        False   \n",
      "\n",
      "                                    Order  n_risky  n_safe      frac  \\\n",
      "subject session run trial_nr                                           \n",
      "02      7t2     1   1         Risky first     19.0    10.0  1.900000   \n",
      "                    2         Risky first     98.0    28.0  3.500000   \n",
      "                    3         Risky first     52.0    20.0  2.600000   \n",
      "                    4         Risky first     66.0    28.0  2.357143   \n",
      "                    5         Risky first     17.0    10.0  1.700000   \n",
      "...                                   ...      ...     ...       ...   \n",
      "32      7t2     8   188       Risky first     26.0    10.0  2.600000   \n",
      "                    189       Risky first     15.0     7.0  2.142857   \n",
      "                    190       Risky first     34.0    28.0  1.214286   \n",
      "                    191       Risky first     34.0    28.0  1.214286   \n",
      "                    192       Risky first     28.0     7.0  4.000000   \n",
      "\n",
      "                             log(risky/safe)  bin(risky/safe)   log(n1)  \\\n",
      "subject session run trial_nr                                              \n",
      "02      7t2     1   1               0.641854              2.0  2.944439   \n",
      "                    2               1.252763              6.0  4.584967   \n",
      "                    3               0.955511              4.0  3.951244   \n",
      "                    4               0.857450              3.0  4.189655   \n",
      "                    5               0.530628              1.0  2.833213   \n",
      "...                                      ...              ...       ...   \n",
      "32      7t2     8   188             0.955511              4.0  3.258097   \n",
      "                    189             0.762140              4.0  2.708050   \n",
      "                    190             0.194156              2.0  3.526361   \n",
      "                    191             0.194156              2.0  3.526361   \n",
      "                    192             1.386294              6.0  3.332205   \n",
      "\n",
      "                                     x  \n",
      "subject session run trial_nr            \n",
      "02      7t2     1   1         0.641854  \n",
      "                    2         1.252763  \n",
      "                    3         0.955511  \n",
      "                    4         0.857450  \n",
      "                    5         0.530628  \n",
      "...                                ...  \n",
      "32      7t2     8   188       0.955511  \n",
      "                    189       0.762140  \n",
      "                    190       0.194156  \n",
      "                    191       0.194156  \n",
      "                    192       1.386294  \n",
      "\n",
      "[5760 rows x 24 columns]\n",
      "                       meynert\n",
      "subject run trial_nr          \n",
      "02      1   1        -2.490014\n",
      "            2        -2.268312\n",
      "            3         2.140565\n",
      "            4         0.394223\n",
      "            5        -0.640652\n",
      "...                        ...\n",
      "32      8   188       0.433927\n",
      "            189       0.023681\n",
      "            190      -0.594520\n",
      "            191       0.277992\n",
      "            192       0.528000\n",
      "\n",
      "[5760 rows x 1 columns]\n"
     ]
    },
    {
     "name": "stderr",
     "output_type": "stream",
     "text": [
      "100%|██████████| 30/30 [00:00<00:00, 30.10it/s]\n"
     ]
    },
    {
     "name": "stdout",
     "output_type": "stream",
     "text": [
      "Running with PCA!\n",
      "                                    rt  uncertainty  z_uncertainty  \\\n",
      "subject session run trial_nr                                         \n",
      "02      7t2     1   1         1.544193          3.0       1.190537   \n",
      "                    2         0.890433          3.0       1.190537   \n",
      "                    3         1.707715          3.0       1.190537   \n",
      "                    4         0.689762          2.0      -0.101466   \n",
      "                    5         1.306945          2.0      -0.101466   \n",
      "...                                ...          ...            ...   \n",
      "32      7t2     8   188       0.574373          1.0      -0.535805   \n",
      "                    189       0.424887          2.0       1.856628   \n",
      "                    190       0.508297          1.0      -0.535805   \n",
      "                    191       0.508506          1.0      -0.535805   \n",
      "                    192       0.542275          2.0       1.856628   \n",
      "\n",
      "                             median_split_uncertainty    n1    n2  prob1  \\\n",
      "subject session run trial_nr                                               \n",
      "02      7t2     1   1                high uncertainty  19.0  10.0   0.55   \n",
      "                    2                high uncertainty  98.0  28.0   0.55   \n",
      "                    3                high uncertainty  52.0  20.0   0.55   \n",
      "                    4                 low uncertainty  66.0  28.0   0.55   \n",
      "                    5                 low uncertainty  17.0  10.0   0.55   \n",
      "...                                               ...   ...   ...    ...   \n",
      "32      7t2     8   188               low uncertainty  26.0  10.0   0.55   \n",
      "                    189              high uncertainty  15.0   7.0   0.55   \n",
      "                    190               low uncertainty  34.0  28.0   0.55   \n",
      "                    191               low uncertainty  34.0  28.0   0.55   \n",
      "                    192              high uncertainty  28.0   7.0   0.55   \n",
      "\n",
      "                              prob2    p1   p2  ...  risky_first  chose_risky  \\\n",
      "subject session run trial_nr                    ...                             \n",
      "02      7t2     1   1           1.0  0.55  1.0  ...         True        False   \n",
      "                    2           1.0  0.55  1.0  ...         True         True   \n",
      "                    3           1.0  0.55  1.0  ...         True         True   \n",
      "                    4           1.0  0.55  1.0  ...         True         True   \n",
      "                    5           1.0  0.55  1.0  ...         True         True   \n",
      "...                             ...   ...  ...  ...          ...          ...   \n",
      "32      7t2     8   188         1.0  0.55  1.0  ...         True        False   \n",
      "                    189         1.0  0.55  1.0  ...         True        False   \n",
      "                    190         1.0  0.55  1.0  ...         True        False   \n",
      "                    191         1.0  0.55  1.0  ...         True        False   \n",
      "                    192         1.0  0.55  1.0  ...         True        False   \n",
      "\n",
      "                                    Order  n_risky  n_safe      frac  \\\n",
      "subject session run trial_nr                                           \n",
      "02      7t2     1   1         Risky first     19.0    10.0  1.900000   \n",
      "                    2         Risky first     98.0    28.0  3.500000   \n",
      "                    3         Risky first     52.0    20.0  2.600000   \n",
      "                    4         Risky first     66.0    28.0  2.357143   \n",
      "                    5         Risky first     17.0    10.0  1.700000   \n",
      "...                                   ...      ...     ...       ...   \n",
      "32      7t2     8   188       Risky first     26.0    10.0  2.600000   \n",
      "                    189       Risky first     15.0     7.0  2.142857   \n",
      "                    190       Risky first     34.0    28.0  1.214286   \n",
      "                    191       Risky first     34.0    28.0  1.214286   \n",
      "                    192       Risky first     28.0     7.0  4.000000   \n",
      "\n",
      "                             log(risky/safe)  bin(risky/safe)   log(n1)  \\\n",
      "subject session run trial_nr                                              \n",
      "02      7t2     1   1               0.641854              2.0  2.944439   \n",
      "                    2               1.252763              6.0  4.584967   \n",
      "                    3               0.955511              4.0  3.951244   \n",
      "                    4               0.857450              3.0  4.189655   \n",
      "                    5               0.530628              1.0  2.833213   \n",
      "...                                      ...              ...       ...   \n",
      "32      7t2     8   188             0.955511              4.0  3.258097   \n",
      "                    189             0.762140              4.0  2.708050   \n",
      "                    190             0.194156              2.0  3.526361   \n",
      "                    191             0.194156              2.0  3.526361   \n",
      "                    192             1.386294              6.0  3.332205   \n",
      "\n",
      "                                     x  \n",
      "subject session run trial_nr            \n",
      "02      7t2     1   1         0.641854  \n",
      "                    2         1.252763  \n",
      "                    3         0.955511  \n",
      "                    4         0.857450  \n",
      "                    5         0.530628  \n",
      "...                                ...  \n",
      "32      7t2     8   188       0.955511  \n",
      "                    189       0.762140  \n",
      "                    190       0.194156  \n",
      "                    191       0.194156  \n",
      "                    192       1.386294  \n",
      "\n",
      "[5760 rows x 24 columns]\n",
      "                      dmidbrain\n",
      "subject run trial_nr           \n",
      "02      1   1         -0.392558\n",
      "            2         -2.355602\n",
      "            3          2.374544\n",
      "            4          0.917844\n",
      "            5         -1.116782\n",
      "...                         ...\n",
      "32      8   188        0.619712\n",
      "            189        0.497588\n",
      "            190       -0.884158\n",
      "            191        0.836073\n",
      "            192        0.759156\n",
      "\n",
      "[5760 rows x 1 columns]\n"
     ]
    }
   ],
   "source": [
    "rois = ['sncv2', 'vtav2', 'lc', 'meynert', 'dmidbrain']\n",
    "\n",
    "rnps = []\n",
    "gammas = []\n",
    "\n",
    "for roi in rois:\n",
    "    df, model, idata = load('probit_subcortical_prestim.pca', '7t2', roi=roi)\n",
    "    intercept, gamma = extract_intercept_gamma(idata, model, df, group=True)\n",
    "    rnp = np.exp(intercept['intercept']/gamma['gamma']).stack([-2, -1]).to_frame('rnp')\n",
    "    rnp = rnp[(rnp['rnp'] > 0.0) & (rnp['rnp'] < 1.0)]\n",
    "    rnp.index = rnp.index.set_levels(rnp.index.levels[1].astype(int), level=1)\n",
    "\n",
    "    gamma = gamma.stack([-2, -1])\n",
    "\n",
    "    rnps.append(rnp)\n",
    "    gammas.append(gamma)"
   ]
  },
  {
   "cell_type": "code",
   "execution_count": 147,
   "metadata": {},
   "outputs": [],
   "source": [
    "rnp = pd.concat(rnps, keys=rois, names=['roi'])\n",
    "gamma = pd.concat(gammas, keys=rois, names=['roi'])"
   ]
  },
  {
   "cell_type": "code",
   "execution_count": 148,
   "metadata": {},
   "outputs": [
    {
     "name": "stdout",
     "output_type": "stream",
     "text": [
      "dmidbrain\n"
     ]
    },
    {
     "name": "stderr",
     "output_type": "stream",
     "text": [
      "/Users/gdehol/mambaforge/lib/python3.10/site-packages/seaborn/axisgrid.py:118: UserWarning: Tight layout not applied. The left and right margins cannot be made large enough to accommodate all axes decorations.\n",
      "  self._figure.tight_layout(*args, **kwargs)\n"
     ]
    },
    {
     "name": "stdout",
     "output_type": "stream",
     "text": [
      "0.45925\n",
      "0.06574999999999998\n",
      "0.13425\n",
      "lc\n"
     ]
    },
    {
     "name": "stderr",
     "output_type": "stream",
     "text": [
      "/Users/gdehol/mambaforge/lib/python3.10/site-packages/seaborn/axisgrid.py:118: UserWarning: Tight layout not applied. The left and right margins cannot be made large enough to accommodate all axes decorations.\n",
      "  self._figure.tight_layout(*args, **kwargs)\n"
     ]
    },
    {
     "name": "stdout",
     "output_type": "stream",
     "text": [
      "0.36750000000000005\n",
      "0.18700000000000006\n",
      "0.295\n",
      "meynert\n"
     ]
    },
    {
     "name": "stderr",
     "output_type": "stream",
     "text": [
      "/Users/gdehol/mambaforge/lib/python3.10/site-packages/seaborn/axisgrid.py:118: UserWarning: Tight layout not applied. The left and right margins cannot be made large enough to accommodate all axes decorations.\n",
      "  self._figure.tight_layout(*args, **kwargs)\n"
     ]
    },
    {
     "name": "stdout",
     "output_type": "stream",
     "text": [
      "0.34825\n",
      "0.2445\n",
      "0.376\n",
      "sncv2\n"
     ]
    },
    {
     "name": "stderr",
     "output_type": "stream",
     "text": [
      "/Users/gdehol/mambaforge/lib/python3.10/site-packages/seaborn/axisgrid.py:118: UserWarning: Tight layout not applied. The left and right margins cannot be made large enough to accommodate all axes decorations.\n",
      "  self._figure.tight_layout(*args, **kwargs)\n"
     ]
    },
    {
     "name": "stdout",
     "output_type": "stream",
     "text": [
      "0.26875\n",
      "0.20550000000000002\n",
      "0.13525\n",
      "vtav2\n",
      "0.09424999999999994\n"
     ]
    },
    {
     "name": "stderr",
     "output_type": "stream",
     "text": [
      "/Users/gdehol/mambaforge/lib/python3.10/site-packages/seaborn/axisgrid.py:118: UserWarning: Tight layout not applied. The left and right margins cannot be made large enough to accommodate all axes decorations.\n",
      "  self._figure.tight_layout(*args, **kwargs)\n"
     ]
    },
    {
     "name": "stdout",
     "output_type": "stream",
     "text": [
      "0.49575\n",
      "0.20375\n"
     ]
    },
    {
     "data": {
      "image/png": "[encoded data removed]",
      "text/plain": [
       "<Figure size 188.976x188.976 with 2 Axes>"
      ]
     },
     "metadata": {},
     "output_type": "display_data"
    },
    {
     "data": {
      "image/png": "[encoded data removed]",
      "text/plain": [
       "<Figure size 150x37.5 with 1 Axes>"
      ]
     },
     "metadata": {},
     "output_type": "display_data"
    },
    {
     "data": {
      "image/png": "[encoded data removed]",
      "text/plain": [
       "<Figure size 150x37.5 with 1 Axes>"
      ]
     },
     "metadata": {},
     "output_type": "display_data"
    },
    {
     "data": {
      "image/png": "[encoded data removed]",
      "text/plain": [
       "<Figure size 188.976x188.976 with 2 Axes>"
      ]
     },
     "metadata": {},
     "output_type": "display_data"
    },
    {
     "data": {
      "image/png": "[encoded data removed]",
      "text/plain": [
       "<Figure size 150x37.5 with 1 Axes>"
      ]
     },
     "metadata": {},
     "output_type": "display_data"
    },
    {
     "data": {
      "image/png": "[encoded data removed]",
      "text/plain": [
       "<Figure size 150x37.5 with 1 Axes>"
      ]
     },
     "metadata": {},
     "output_type": "display_data"
    },
    {
     "data": {
      "image/png": "[encoded data removed]",
      "text/plain": [
       "<Figure size 188.976x188.976 with 2 Axes>"
      ]
     },
     "metadata": {},
     "output_type": "display_data"
    },
    {
     "data": {
      "image/png": "[encoded data removed]",
      "text/plain": [
       "<Figure size 150x37.5 with 1 Axes>"
      ]
     },
     "metadata": {},
     "output_type": "display_data"
    },
    {
     "data": {
      "image/png": "[encoded data removed]",
      "text/plain": [
       "<Figure size 150x37.5 with 1 Axes>"
      ]
     },
     "metadata": {},
     "output_type": "display_data"
    },
    {
     "data": {
      "image/png": "[encoded data removed]",
      "text/plain": [
       "<Figure size 188.976x188.976 with 2 Axes>"
      ]
     },
     "metadata": {},
     "output_type": "display_data"
    },
    {
     "data": {
      "image/png": "[encoded data removed]",
      "text/plain": [
       "<Figure size 150x37.5 with 1 Axes>"
      ]
     },
     "metadata": {},
     "output_type": "display_data"
    },
    {
     "data": {
      "image/png": "[encoded data removed]",
      "text/plain": [
       "<Figure size 150x37.5 with 1 Axes>"
      ]
     },
     "metadata": {},
     "output_type": "display_data"
    },
    {
     "data": {
      "image/png": "[encoded data removed]",
      "text/plain": [
       "<Figure size 188.976x188.976 with 2 Axes>"
      ]
     },
     "metadata": {},
     "output_type": "display_data"
    },
    {
     "data": {
      "image/png": "[encoded data removed]",
      "text/plain": [
       "<Figure size 150x37.5 with 1 Axes>"
      ]
     },
     "metadata": {},
     "output_type": "display_data"
    },
    {
     "data": {
      "image/png": "[encoded data removed]",
      "text/plain": [
       "<Figure size 150x37.5 with 1 Axes>"
      ]
     },
     "metadata": {},
     "output_type": "display_data"
    }
   ],
   "source": [
    "rnp['Order'] = rnp.index.get_level_values('risky_first').map({True:'Risky first', False:'Safe first'})\n",
    "rnp['Subcortical response'] = rnp.index.get_level_values('median_split_subcortical_baseline')#.map({True:'Large', False:'Small'})\n",
    "\n",
    "\n",
    "for roi, r in rnp.groupby('roi'):\n",
    "\n",
    "  print(roi)\n",
    "  fac = sns.catplot(data=r.reset_index(), x='Subcortical response', y='rnp', col='Order', kind='point', palette=palette,\n",
    "                    #  order=['Low pupil dilation', 'High pupil dilation'],\n",
    "                    errorbar=get_hdi,\n",
    "                    col_order=['Safe first', 'Risky first'],\n",
    "                    aspect=.5, height=1.5*3.2*cm, legend=False)\n",
    "\n",
    "  fac.set(ylabel=None, xlabel=None, xticks=[], ylim=(0.3, 0.6))\n",
    "  fac.set_titles('{col_name}', y=1.25)\n",
    "  # fac.set(siptit'{col_name}')\n",
    "  # fac.fig.suptitle(roi)\n",
    "  # fac.add_legend()\n",
    "\n",
    "  fac.map(lambda *args, **kwargs: plt.axhline(0.55, c='k', ls='--'))\n",
    "\n",
    "  diff1 = (r.xs(False, 0, 'risky_first').xs('Low subcortical activation', 0, 'median_split_subcortical_baseline')['rnp'] - r.xs(False, 0, 'risky_first').xs('High subcortical activation', 0, 'median_split_subcortical_baseline')['rnp']) \n",
    "\n",
    "  p = (diff1 > 0.0).mean()\n",
    "  print(np.min((p, 1-p)))\n",
    "\n",
    "  plt.savefig(f'/data/ds-risk/derivatives/figures/subcortical_prestim_roi-{roi}_rnp.pdf', bbox_inches='tight')\n",
    "\n",
    "  plt.figure()\n",
    "  sns.kdeplot(diff1, fill=True, color='k')\n",
    "  sns.despine()\n",
    "\n",
    "  plt.axvline(0.0, c='k', ls='--')\n",
    "  sns.despine()\n",
    "  plt.xlabel(None)\n",
    "  plt.ylabel(None)\n",
    "  plt.yticks([])\n",
    "\n",
    "  plt.gcf().set_size_inches(1.5, .375)\n",
    "  plt.savefig(f'/data/ds-risk/derivatives/figures/subcortical_prestim_roi-{roi}_rnp_safe_first_diff.pdf', bbox_inches='tight')\n",
    "\n",
    "  plt.figure()\n",
    "  diff2 = (r.xs(True, 0, 'risky_first').xs('Low subcortical activation', 0, 'median_split_subcortical_baseline')['rnp'] - r.xs(True, 0, 'risky_first').xs('High subcortical activation', 0, 'median_split_subcortical_baseline')['rnp']) \n",
    "\n",
    "  p = (diff2 > 0.0).mean()\n",
    "  print(np.min((p, 1-p)))\n",
    "\n",
    "  sns.kdeplot(diff2, fill=True, color='k')\n",
    "  sns.despine()\n",
    "\n",
    "  plt.axvline(0.0, c='k', ls='--')\n",
    "  sns.despine()\n",
    "  plt.xlabel(None)\n",
    "  plt.ylabel(None)\n",
    "  plt.yticks([])\n",
    "\n",
    "  p = ((diff1 - diff2) > 0.0).mean()\n",
    "  print(np.min((p, 1-p)))\n",
    "\n",
    "  plt.gcf().set_size_inches(1.5, .375)\n",
    "  plt.savefig(f'/data/ds-risk/derivatives/figures/subcortical_prestim_roi-{roi}_rnp_risky_first_diff.pdf', bbox_inches='tight')\n",
    "\n",
    "\n",
    "    # plt.savefig(op.join(bids_folder, 'derivatives', 'figures', 'pupil_n1_pre_rnp.pdf'), bbox_inches='tight')"
   ]
  },
  {
   "cell_type": "code",
   "execution_count": 149,
   "metadata": {},
   "outputs": [
    {
     "name": "stdout",
     "output_type": "stream",
     "text": [
      "dmidbrain\n"
     ]
    },
    {
     "name": "stderr",
     "output_type": "stream",
     "text": [
      "/Users/gdehol/mambaforge/lib/python3.10/site-packages/seaborn/axisgrid.py:118: UserWarning: Tight layout not applied. The left and right margins cannot be made large enough to accommodate all axes decorations.\n",
      "  self._figure.tight_layout(*args, **kwargs)\n"
     ]
    },
    {
     "name": "stdout",
     "output_type": "stream",
     "text": [
      "0.4065\n",
      "0.4625\n",
      "0.41425\n",
      "lc\n"
     ]
    },
    {
     "name": "stderr",
     "output_type": "stream",
     "text": [
      "/Users/gdehol/mambaforge/lib/python3.10/site-packages/seaborn/axisgrid.py:118: UserWarning: Tight layout not applied. The left and right margins cannot be made large enough to accommodate all axes decorations.\n",
      "  self._figure.tight_layout(*args, **kwargs)\n"
     ]
    },
    {
     "name": "stdout",
     "output_type": "stream",
     "text": [
      "0.37\n",
      "0.04975\n",
      "0.16974999999999996\n",
      "meynert\n"
     ]
    },
    {
     "name": "stderr",
     "output_type": "stream",
     "text": [
      "/Users/gdehol/mambaforge/lib/python3.10/site-packages/seaborn/axisgrid.py:118: UserWarning: Tight layout not applied. The left and right margins cannot be made large enough to accommodate all axes decorations.\n",
      "  self._figure.tight_layout(*args, **kwargs)\n"
     ]
    },
    {
     "name": "stdout",
     "output_type": "stream",
     "text": [
      "0.09624999999999995\n",
      "0.279\n",
      "0.31025\n",
      "sncv2\n"
     ]
    },
    {
     "name": "stderr",
     "output_type": "stream",
     "text": [
      "/Users/gdehol/mambaforge/lib/python3.10/site-packages/seaborn/axisgrid.py:118: UserWarning: Tight layout not applied. The left and right margins cannot be made large enough to accommodate all axes decorations.\n",
      "  self._figure.tight_layout(*args, **kwargs)\n"
     ]
    },
    {
     "name": "stdout",
     "output_type": "stream",
     "text": [
      "0.46725000000000005\n",
      "0.28025\n",
      "0.3225\n",
      "vtav2\n"
     ]
    },
    {
     "name": "stderr",
     "output_type": "stream",
     "text": [
      "/Users/gdehol/mambaforge/lib/python3.10/site-packages/seaborn/axisgrid.py:118: UserWarning: Tight layout not applied. The left and right margins cannot be made large enough to accommodate all axes decorations.\n",
      "  self._figure.tight_layout(*args, **kwargs)\n"
     ]
    },
    {
     "name": "stdout",
     "output_type": "stream",
     "text": [
      "0.14675000000000005\n",
      "0.15975\n",
      "0.07025000000000003\n"
     ]
    },
    {
     "data": {
      "image/png": "[encoded data removed]",
      "text/plain": [
       "<Figure size 188.976x188.976 with 2 Axes>"
      ]
     },
     "metadata": {},
     "output_type": "display_data"
    },
    {
     "data": {
      "image/png": "[encoded data removed]",
      "text/plain": [
       "<Figure size 150x37.5 with 1 Axes>"
      ]
     },
     "metadata": {},
     "output_type": "display_data"
    },
    {
     "data": {
      "image/png": "[encoded data removed]",
      "text/plain": [
       "<Figure size 150x37.5 with 1 Axes>"
      ]
     },
     "metadata": {},
     "output_type": "display_data"
    },
    {
     "data": {
      "image/png": "[encoded data removed]",
      "text/plain": [
       "<Figure size 188.976x188.976 with 2 Axes>"
      ]
     },
     "metadata": {},
     "output_type": "display_data"
    },
    {
     "data": {
      "image/png": "[encoded data removed]",
      "text/plain": [
       "<Figure size 150x37.5 with 1 Axes>"
      ]
     },
     "metadata": {},
     "output_type": "display_data"
    },
    {
     "data": {
      "image/png": "[encoded data removed]",
      "text/plain": [
       "<Figure size 150x37.5 with 1 Axes>"
      ]
     },
     "metadata": {},
     "output_type": "display_data"
    },
    {
     "data": {
      "image/png": "[encoded data removed]",
      "text/plain": [
       "<Figure size 188.976x188.976 with 2 Axes>"
      ]
     },
     "metadata": {},
     "output_type": "display_data"
    },
    {
     "data": {
      "image/png": "[encoded data removed]",
      "text/plain": [
       "<Figure size 150x37.5 with 1 Axes>"
      ]
     },
     "metadata": {},
     "output_type": "display_data"
    },
    {
     "data": {
      "image/png": "[encoded data removed]",
      "text/plain": [
       "<Figure size 150x37.5 with 1 Axes>"
      ]
     },
     "metadata": {},
     "output_type": "display_data"
    },
    {
     "data": {
      "image/png": "[encoded data removed]",
      "text/plain": [
       "<Figure size 188.976x188.976 with 2 Axes>"
      ]
     },
     "metadata": {},
     "output_type": "display_data"
    },
    {
     "data": {
      "image/png": "[encoded data removed]",
      "text/plain": [
       "<Figure size 150x37.5 with 1 Axes>"
      ]
     },
     "metadata": {},
     "output_type": "display_data"
    },
    {
     "data": {
      "image/png": "[encoded data removed]",
      "text/plain": [
       "<Figure size 150x37.5 with 1 Axes>"
      ]
     },
     "metadata": {},
     "output_type": "display_data"
    },
    {
     "data": {
      "image/png": "[encoded data removed]",
      "text/plain": [
       "<Figure size 188.976x188.976 with 2 Axes>"
      ]
     },
     "metadata": {},
     "output_type": "display_data"
    },
    {
     "data": {
      "image/png": "[encoded data removed]",
      "text/plain": [
       "<Figure size 150x37.5 with 1 Axes>"
      ]
     },
     "metadata": {},
     "output_type": "display_data"
    },
    {
     "data": {
      "image/png": "[encoded data removed]",
      "text/plain": [
       "<Figure size 150x37.5 with 1 Axes>"
      ]
     },
     "metadata": {},
     "output_type": "display_data"
    }
   ],
   "source": [
    "gamma['Order'] = gamma.index.get_level_values('risky_first').map({True:'Risky first', False:'Safe first'})\n",
    "gamma['Subcortical response'] = gamma.index.get_level_values('median_split_subcortical_baseline')#.map({True:'Large', False:'Small'})\n",
    "\n",
    "\n",
    "for roi, g in gamma.groupby('roi'):\n",
    "  print(roi)\n",
    "  fac = sns.catplot(data=g.reset_index(), x='Subcortical response', y='gamma', col='Order', kind='point', palette=palette,\n",
    "                     order=['Low subcortical activation', 'High subcortical activation'],\n",
    "                    errorbar=get_hdi,\n",
    "                    col_order=['Safe first', 'Risky first'],\n",
    "                    aspect=.5, height=1.5*3.2*cm, legend=False)\n",
    "\n",
    "  fac.set(ylabel=None, xlabel=None, xticks=[])\n",
    "  fac.set_titles('{col_name}', y=1.25)\n",
    "\n",
    "  plt.savefig(f'/data/ds-risk/derivatives/figures/subcortical_prestim_roi-{roi}_gamma.pdf', bbox_inches='tight')\n",
    "\n",
    "  diff1 = (g.xs(False, 0, 'risky_first').xs('Low subcortical activation', 0, 'median_split_subcortical_baseline')['gamma'] - g.xs(False, 0, 'risky_first').xs('High subcortical activation', 0, 'median_split_subcortical_baseline')['gamma']) \n",
    "\n",
    "  p = (diff1 > 0.0).mean()\n",
    "  print(np.min((p, 1-p)))\n",
    "\n",
    "  plt.figure()\n",
    "  sns.kdeplot(diff1, fill=True, color='k')\n",
    "  sns.despine()\n",
    "\n",
    "  plt.axvline(0.0, c='k', ls='--')\n",
    "  sns.despine()\n",
    "  plt.gcf().set_size_inches(1.5, .375)\n",
    "  plt.xlabel(None)\n",
    "  plt.ylabel(None)\n",
    "  plt.yticks([])\n",
    "\n",
    "  plt.savefig(f'/data/ds-risk/derivatives/figures/subcortical_prestim_roi-{roi}_gamma_safe_first_diff.pdf', bbox_inches='tight')\n",
    "  # plt.savefig('/data/ds-risk/derivatives/figures/pupil_n1_pre_rnp_safe_first_diff.pdf', bbox_inches='tight')\n",
    "\n",
    "  plt.figure()\n",
    "  diff2 = (g.xs(True, 0, 'risky_first').xs('Low subcortical activation', 0, 'median_split_subcortical_baseline')['gamma'] - g.xs(True, 0, 'risky_first').xs('High subcortical activation', 0, 'median_split_subcortical_baseline')['gamma']) \n",
    "\n",
    "  p = (diff2 > 0.0).mean()\n",
    "  print(np.min((p, 1-p)))\n",
    "\n",
    "  sns.kdeplot(diff2, fill=True, color='k')\n",
    "  sns.despine()\n",
    "\n",
    "  plt.axvline(0.0, c='k', ls='--')\n",
    "  sns.despine()\n",
    "  plt.gcf().set_size_inches(1.5, .375)\n",
    "  plt.xlabel(None)\n",
    "  plt.ylabel(None)\n",
    "  plt.yticks([])\n",
    "\n",
    "  p = ((diff1 - diff2) > 0.0).mean()\n",
    "  print(np.min((p, 1-p)))\n",
    "  plt.savefig(f'/data/ds-risk/derivatives/figures/subcortical_prestim_roi-{roi}_gamma_risky_first_diff.pdf', bbox_inches='tight')"
   ]
  },
  {
   "cell_type": "code",
   "execution_count": 150,
   "metadata": {},
   "outputs": [
    {
     "name": "stderr",
     "output_type": "stream",
     "text": [
      "100%|██████████| 30/30 [00:01<00:00, 29.28it/s]\n"
     ]
    },
    {
     "name": "stdout",
     "output_type": "stream",
     "text": [
      "Running with PCA!\n",
      "                                    rt  uncertainty  z_uncertainty  \\\n",
      "subject session run trial_nr                                         \n",
      "02      7t2     1   1         1.544193          3.0       1.190537   \n",
      "                    2         0.890433          3.0       1.190537   \n",
      "                    3         1.707715          3.0       1.190537   \n",
      "                    4         0.689762          2.0      -0.101466   \n",
      "                    5         1.306945          2.0      -0.101466   \n",
      "...                                ...          ...            ...   \n",
      "32      7t2     8   188       0.574373          1.0      -0.535805   \n",
      "                    189       0.424887          2.0       1.856628   \n",
      "                    190       0.508297          1.0      -0.535805   \n",
      "                    191       0.508506          1.0      -0.535805   \n",
      "                    192       0.542275          2.0       1.856628   \n",
      "\n",
      "                             median_split_uncertainty    n1    n2  prob1  \\\n",
      "subject session run trial_nr                                               \n",
      "02      7t2     1   1                high uncertainty  19.0  10.0   0.55   \n",
      "                    2                high uncertainty  98.0  28.0   0.55   \n",
      "                    3                high uncertainty  52.0  20.0   0.55   \n",
      "                    4                 low uncertainty  66.0  28.0   0.55   \n",
      "                    5                 low uncertainty  17.0  10.0   0.55   \n",
      "...                                               ...   ...   ...    ...   \n",
      "32      7t2     8   188               low uncertainty  26.0  10.0   0.55   \n",
      "                    189              high uncertainty  15.0   7.0   0.55   \n",
      "                    190               low uncertainty  34.0  28.0   0.55   \n",
      "                    191               low uncertainty  34.0  28.0   0.55   \n",
      "                    192              high uncertainty  28.0   7.0   0.55   \n",
      "\n",
      "                              prob2    p1   p2  ...  risky_first  chose_risky  \\\n",
      "subject session run trial_nr                    ...                             \n",
      "02      7t2     1   1           1.0  0.55  1.0  ...         True        False   \n",
      "                    2           1.0  0.55  1.0  ...         True         True   \n",
      "                    3           1.0  0.55  1.0  ...         True         True   \n",
      "                    4           1.0  0.55  1.0  ...         True         True   \n",
      "                    5           1.0  0.55  1.0  ...         True         True   \n",
      "...                             ...   ...  ...  ...          ...          ...   \n",
      "32      7t2     8   188         1.0  0.55  1.0  ...         True        False   \n",
      "                    189         1.0  0.55  1.0  ...         True        False   \n",
      "                    190         1.0  0.55  1.0  ...         True        False   \n",
      "                    191         1.0  0.55  1.0  ...         True        False   \n",
      "                    192         1.0  0.55  1.0  ...         True        False   \n",
      "\n",
      "                                    Order  n_risky  n_safe      frac  \\\n",
      "subject session run trial_nr                                           \n",
      "02      7t2     1   1         Risky first     19.0    10.0  1.900000   \n",
      "                    2         Risky first     98.0    28.0  3.500000   \n",
      "                    3         Risky first     52.0    20.0  2.600000   \n",
      "                    4         Risky first     66.0    28.0  2.357143   \n",
      "                    5         Risky first     17.0    10.0  1.700000   \n",
      "...                                   ...      ...     ...       ...   \n",
      "32      7t2     8   188       Risky first     26.0    10.0  2.600000   \n",
      "                    189       Risky first     15.0     7.0  2.142857   \n",
      "                    190       Risky first     34.0    28.0  1.214286   \n",
      "                    191       Risky first     34.0    28.0  1.214286   \n",
      "                    192       Risky first     28.0     7.0  4.000000   \n",
      "\n",
      "                             log(risky/safe)  bin(risky/safe)   log(n1)  \\\n",
      "subject session run trial_nr                                              \n",
      "02      7t2     1   1               0.641854              2.0  2.944439   \n",
      "                    2               1.252763              6.0  4.584967   \n",
      "                    3               0.955511              4.0  3.951244   \n",
      "                    4               0.857450              3.0  4.189655   \n",
      "                    5               0.530628              1.0  2.833213   \n",
      "...                                      ...              ...       ...   \n",
      "32      7t2     8   188             0.955511              4.0  3.258097   \n",
      "                    189             0.762140              4.0  2.708050   \n",
      "                    190             0.194156              2.0  3.526361   \n",
      "                    191             0.194156              2.0  3.526361   \n",
      "                    192             1.386294              6.0  3.332205   \n",
      "\n",
      "                                     x  \n",
      "subject session run trial_nr            \n",
      "02      7t2     1   1         0.641854  \n",
      "                    2         1.252763  \n",
      "                    3         0.955511  \n",
      "                    4         0.857450  \n",
      "                    5         0.530628  \n",
      "...                                ...  \n",
      "32      7t2     8   188       0.955511  \n",
      "                    189       0.762140  \n",
      "                    190       0.194156  \n",
      "                    191       0.194156  \n",
      "                    192       1.386294  \n",
      "\n",
      "[5760 rows x 24 columns]\n",
      "                         sncv2\n",
      "subject run trial_nr          \n",
      "02      1   1         0.094933\n",
      "            2        -2.981389\n",
      "            3         0.899968\n",
      "            4         0.495779\n",
      "            5        -1.516173\n",
      "...                        ...\n",
      "32      8   188      -0.005574\n",
      "            189      -0.002429\n",
      "            190       0.014627\n",
      "            191      -0.009825\n",
      "            192      -0.004737\n",
      "\n",
      "[5760 rows x 1 columns]\n"
     ]
    },
    {
     "name": "stderr",
     "output_type": "stream",
     "text": [
      "100%|██████████| 30/30 [00:00<00:00, 31.87it/s]\n"
     ]
    },
    {
     "name": "stdout",
     "output_type": "stream",
     "text": [
      "Running with PCA!\n",
      "                                    rt  uncertainty  z_uncertainty  \\\n",
      "subject session run trial_nr                                         \n",
      "02      7t2     1   1         1.544193          3.0       1.190537   \n",
      "                    2         0.890433          3.0       1.190537   \n",
      "                    3         1.707715          3.0       1.190537   \n",
      "                    4         0.689762          2.0      -0.101466   \n",
      "                    5         1.306945          2.0      -0.101466   \n",
      "...                                ...          ...            ...   \n",
      "32      7t2     8   188       0.574373          1.0      -0.535805   \n",
      "                    189       0.424887          2.0       1.856628   \n",
      "                    190       0.508297          1.0      -0.535805   \n",
      "                    191       0.508506          1.0      -0.535805   \n",
      "                    192       0.542275          2.0       1.856628   \n",
      "\n",
      "                             median_split_uncertainty    n1    n2  prob1  \\\n",
      "subject session run trial_nr                                               \n",
      "02      7t2     1   1                high uncertainty  19.0  10.0   0.55   \n",
      "                    2                high uncertainty  98.0  28.0   0.55   \n",
      "                    3                high uncertainty  52.0  20.0   0.55   \n",
      "                    4                 low uncertainty  66.0  28.0   0.55   \n",
      "                    5                 low uncertainty  17.0  10.0   0.55   \n",
      "...                                               ...   ...   ...    ...   \n",
      "32      7t2     8   188               low uncertainty  26.0  10.0   0.55   \n",
      "                    189              high uncertainty  15.0   7.0   0.55   \n",
      "                    190               low uncertainty  34.0  28.0   0.55   \n",
      "                    191               low uncertainty  34.0  28.0   0.55   \n",
      "                    192              high uncertainty  28.0   7.0   0.55   \n",
      "\n",
      "                              prob2    p1   p2  ...  risky_first  chose_risky  \\\n",
      "subject session run trial_nr                    ...                             \n",
      "02      7t2     1   1           1.0  0.55  1.0  ...         True        False   \n",
      "                    2           1.0  0.55  1.0  ...         True         True   \n",
      "                    3           1.0  0.55  1.0  ...         True         True   \n",
      "                    4           1.0  0.55  1.0  ...         True         True   \n",
      "                    5           1.0  0.55  1.0  ...         True         True   \n",
      "...                             ...   ...  ...  ...          ...          ...   \n",
      "32      7t2     8   188         1.0  0.55  1.0  ...         True        False   \n",
      "                    189         1.0  0.55  1.0  ...         True        False   \n",
      "                    190         1.0  0.55  1.0  ...         True        False   \n",
      "                    191         1.0  0.55  1.0  ...         True        False   \n",
      "                    192         1.0  0.55  1.0  ...         True        False   \n",
      "\n",
      "                                    Order  n_risky  n_safe      frac  \\\n",
      "subject session run trial_nr                                           \n",
      "02      7t2     1   1         Risky first     19.0    10.0  1.900000   \n",
      "                    2         Risky first     98.0    28.0  3.500000   \n",
      "                    3         Risky first     52.0    20.0  2.600000   \n",
      "                    4         Risky first     66.0    28.0  2.357143   \n",
      "                    5         Risky first     17.0    10.0  1.700000   \n",
      "...                                   ...      ...     ...       ...   \n",
      "32      7t2     8   188       Risky first     26.0    10.0  2.600000   \n",
      "                    189       Risky first     15.0     7.0  2.142857   \n",
      "                    190       Risky first     34.0    28.0  1.214286   \n",
      "                    191       Risky first     34.0    28.0  1.214286   \n",
      "                    192       Risky first     28.0     7.0  4.000000   \n",
      "\n",
      "                             log(risky/safe)  bin(risky/safe)   log(n1)  \\\n",
      "subject session run trial_nr                                              \n",
      "02      7t2     1   1               0.641854              2.0  2.944439   \n",
      "                    2               1.252763              6.0  4.584967   \n",
      "                    3               0.955511              4.0  3.951244   \n",
      "                    4               0.857450              3.0  4.189655   \n",
      "                    5               0.530628              1.0  2.833213   \n",
      "...                                      ...              ...       ...   \n",
      "32      7t2     8   188             0.955511              4.0  3.258097   \n",
      "                    189             0.762140              4.0  2.708050   \n",
      "                    190             0.194156              2.0  3.526361   \n",
      "                    191             0.194156              2.0  3.526361   \n",
      "                    192             1.386294              6.0  3.332205   \n",
      "\n",
      "                                     x  \n",
      "subject session run trial_nr            \n",
      "02      7t2     1   1         0.641854  \n",
      "                    2         1.252763  \n",
      "                    3         0.955511  \n",
      "                    4         0.857450  \n",
      "                    5         0.530628  \n",
      "...                                ...  \n",
      "32      7t2     8   188       0.955511  \n",
      "                    189       0.762140  \n",
      "                    190       0.194156  \n",
      "                    191       0.194156  \n",
      "                    192       1.386294  \n",
      "\n",
      "[5760 rows x 24 columns]\n",
      "                         vtav2\n",
      "subject run trial_nr          \n",
      "02      1   1        -0.150865\n",
      "            2        -1.462667\n",
      "            3         2.866468\n",
      "            4         0.697120\n",
      "            5        -0.842703\n",
      "...                        ...\n",
      "32      8   188       0.038531\n",
      "            189       0.036100\n",
      "            190      -0.021192\n",
      "            191       0.038517\n",
      "            192       0.035251\n",
      "\n",
      "[5760 rows x 1 columns]\n"
     ]
    },
    {
     "name": "stderr",
     "output_type": "stream",
     "text": [
      "100%|██████████| 30/30 [00:00<00:00, 30.66it/s]\n"
     ]
    },
    {
     "name": "stdout",
     "output_type": "stream",
     "text": [
      "Running with PCA!\n",
      "                                    rt  uncertainty  z_uncertainty  \\\n",
      "subject session run trial_nr                                         \n",
      "02      7t2     1   1         1.544193          3.0       1.190537   \n",
      "                    2         0.890433          3.0       1.190537   \n",
      "                    3         1.707715          3.0       1.190537   \n",
      "                    4         0.689762          2.0      -0.101466   \n",
      "                    5         1.306945          2.0      -0.101466   \n",
      "...                                ...          ...            ...   \n",
      "32      7t2     8   188       0.574373          1.0      -0.535805   \n",
      "                    189       0.424887          2.0       1.856628   \n",
      "                    190       0.508297          1.0      -0.535805   \n",
      "                    191       0.508506          1.0      -0.535805   \n",
      "                    192       0.542275          2.0       1.856628   \n",
      "\n",
      "                             median_split_uncertainty    n1    n2  prob1  \\\n",
      "subject session run trial_nr                                               \n",
      "02      7t2     1   1                high uncertainty  19.0  10.0   0.55   \n",
      "                    2                high uncertainty  98.0  28.0   0.55   \n",
      "                    3                high uncertainty  52.0  20.0   0.55   \n",
      "                    4                 low uncertainty  66.0  28.0   0.55   \n",
      "                    5                 low uncertainty  17.0  10.0   0.55   \n",
      "...                                               ...   ...   ...    ...   \n",
      "32      7t2     8   188               low uncertainty  26.0  10.0   0.55   \n",
      "                    189              high uncertainty  15.0   7.0   0.55   \n",
      "                    190               low uncertainty  34.0  28.0   0.55   \n",
      "                    191               low uncertainty  34.0  28.0   0.55   \n",
      "                    192              high uncertainty  28.0   7.0   0.55   \n",
      "\n",
      "                              prob2    p1   p2  ...  risky_first  chose_risky  \\\n",
      "subject session run trial_nr                    ...                             \n",
      "02      7t2     1   1           1.0  0.55  1.0  ...         True        False   \n",
      "                    2           1.0  0.55  1.0  ...         True         True   \n",
      "                    3           1.0  0.55  1.0  ...         True         True   \n",
      "                    4           1.0  0.55  1.0  ...         True         True   \n",
      "                    5           1.0  0.55  1.0  ...         True         True   \n",
      "...                             ...   ...  ...  ...          ...          ...   \n",
      "32      7t2     8   188         1.0  0.55  1.0  ...         True        False   \n",
      "                    189         1.0  0.55  1.0  ...         True        False   \n",
      "                    190         1.0  0.55  1.0  ...         True        False   \n",
      "                    191         1.0  0.55  1.0  ...         True        False   \n",
      "                    192         1.0  0.55  1.0  ...         True        False   \n",
      "\n",
      "                                    Order  n_risky  n_safe      frac  \\\n",
      "subject session run trial_nr                                           \n",
      "02      7t2     1   1         Risky first     19.0    10.0  1.900000   \n",
      "                    2         Risky first     98.0    28.0  3.500000   \n",
      "                    3         Risky first     52.0    20.0  2.600000   \n",
      "                    4         Risky first     66.0    28.0  2.357143   \n",
      "                    5         Risky first     17.0    10.0  1.700000   \n",
      "...                                   ...      ...     ...       ...   \n",
      "32      7t2     8   188       Risky first     26.0    10.0  2.600000   \n",
      "                    189       Risky first     15.0     7.0  2.142857   \n",
      "                    190       Risky first     34.0    28.0  1.214286   \n",
      "                    191       Risky first     34.0    28.0  1.214286   \n",
      "                    192       Risky first     28.0     7.0  4.000000   \n",
      "\n",
      "                             log(risky/safe)  bin(risky/safe)   log(n1)  \\\n",
      "subject session run trial_nr                                              \n",
      "02      7t2     1   1               0.641854              2.0  2.944439   \n",
      "                    2               1.252763              6.0  4.584967   \n",
      "                    3               0.955511              4.0  3.951244   \n",
      "                    4               0.857450              3.0  4.189655   \n",
      "                    5               0.530628              1.0  2.833213   \n",
      "...                                      ...              ...       ...   \n",
      "32      7t2     8   188             0.955511              4.0  3.258097   \n",
      "                    189             0.762140              4.0  2.708050   \n",
      "                    190             0.194156              2.0  3.526361   \n",
      "                    191             0.194156              2.0  3.526361   \n",
      "                    192             1.386294              6.0  3.332205   \n",
      "\n",
      "                                     x  \n",
      "subject session run trial_nr            \n",
      "02      7t2     1   1         0.641854  \n",
      "                    2         1.252763  \n",
      "                    3         0.955511  \n",
      "                    4         0.857450  \n",
      "                    5         0.530628  \n",
      "...                                ...  \n",
      "32      7t2     8   188       0.955511  \n",
      "                    189       0.762140  \n",
      "                    190       0.194156  \n",
      "                    191       0.194156  \n",
      "                    192       1.386294  \n",
      "\n",
      "[5760 rows x 24 columns]\n",
      "                            lc\n",
      "subject run trial_nr          \n",
      "02      1   1         0.657931\n",
      "            2         0.979357\n",
      "            3        -0.685843\n",
      "            4         0.300332\n",
      "            5         0.724014\n",
      "...                        ...\n",
      "32      8   188       0.199783\n",
      "            189       0.320220\n",
      "            190      -0.399029\n",
      "            191       0.679334\n",
      "            192       0.363609\n",
      "\n",
      "[5760 rows x 1 columns]\n"
     ]
    },
    {
     "name": "stderr",
     "output_type": "stream",
     "text": [
      "100%|██████████| 30/30 [00:01<00:00, 29.38it/s]\n"
     ]
    },
    {
     "name": "stdout",
     "output_type": "stream",
     "text": [
      "Running with PCA!\n",
      "                                    rt  uncertainty  z_uncertainty  \\\n",
      "subject session run trial_nr                                         \n",
      "02      7t2     1   1         1.544193          3.0       1.190537   \n",
      "                    2         0.890433          3.0       1.190537   \n",
      "                    3         1.707715          3.0       1.190537   \n",
      "                    4         0.689762          2.0      -0.101466   \n",
      "                    5         1.306945          2.0      -0.101466   \n",
      "...                                ...          ...            ...   \n",
      "32      7t2     8   188       0.574373          1.0      -0.535805   \n",
      "                    189       0.424887          2.0       1.856628   \n",
      "                    190       0.508297          1.0      -0.535805   \n",
      "                    191       0.508506          1.0      -0.535805   \n",
      "                    192       0.542275          2.0       1.856628   \n",
      "\n",
      "                             median_split_uncertainty    n1    n2  prob1  \\\n",
      "subject session run trial_nr                                               \n",
      "02      7t2     1   1                high uncertainty  19.0  10.0   0.55   \n",
      "                    2                high uncertainty  98.0  28.0   0.55   \n",
      "                    3                high uncertainty  52.0  20.0   0.55   \n",
      "                    4                 low uncertainty  66.0  28.0   0.55   \n",
      "                    5                 low uncertainty  17.0  10.0   0.55   \n",
      "...                                               ...   ...   ...    ...   \n",
      "32      7t2     8   188               low uncertainty  26.0  10.0   0.55   \n",
      "                    189              high uncertainty  15.0   7.0   0.55   \n",
      "                    190               low uncertainty  34.0  28.0   0.55   \n",
      "                    191               low uncertainty  34.0  28.0   0.55   \n",
      "                    192              high uncertainty  28.0   7.0   0.55   \n",
      "\n",
      "                              prob2    p1   p2  ...  risky_first  chose_risky  \\\n",
      "subject session run trial_nr                    ...                             \n",
      "02      7t2     1   1           1.0  0.55  1.0  ...         True        False   \n",
      "                    2           1.0  0.55  1.0  ...         True         True   \n",
      "                    3           1.0  0.55  1.0  ...         True         True   \n",
      "                    4           1.0  0.55  1.0  ...         True         True   \n",
      "                    5           1.0  0.55  1.0  ...         True         True   \n",
      "...                             ...   ...  ...  ...          ...          ...   \n",
      "32      7t2     8   188         1.0  0.55  1.0  ...         True        False   \n",
      "                    189         1.0  0.55  1.0  ...         True        False   \n",
      "                    190         1.0  0.55  1.0  ...         True        False   \n",
      "                    191         1.0  0.55  1.0  ...         True        False   \n",
      "                    192         1.0  0.55  1.0  ...         True        False   \n",
      "\n",
      "                                    Order  n_risky  n_safe      frac  \\\n",
      "subject session run trial_nr                                           \n",
      "02      7t2     1   1         Risky first     19.0    10.0  1.900000   \n",
      "                    2         Risky first     98.0    28.0  3.500000   \n",
      "                    3         Risky first     52.0    20.0  2.600000   \n",
      "                    4         Risky first     66.0    28.0  2.357143   \n",
      "                    5         Risky first     17.0    10.0  1.700000   \n",
      "...                                   ...      ...     ...       ...   \n",
      "32      7t2     8   188       Risky first     26.0    10.0  2.600000   \n",
      "                    189       Risky first     15.0     7.0  2.142857   \n",
      "                    190       Risky first     34.0    28.0  1.214286   \n",
      "                    191       Risky first     34.0    28.0  1.214286   \n",
      "                    192       Risky first     28.0     7.0  4.000000   \n",
      "\n",
      "                             log(risky/safe)  bin(risky/safe)   log(n1)  \\\n",
      "subject session run trial_nr                                              \n",
      "02      7t2     1   1               0.641854              2.0  2.944439   \n",
      "                    2               1.252763              6.0  4.584967   \n",
      "                    3               0.955511              4.0  3.951244   \n",
      "                    4               0.857450              3.0  4.189655   \n",
      "                    5               0.530628              1.0  2.833213   \n",
      "...                                      ...              ...       ...   \n",
      "32      7t2     8   188             0.955511              4.0  3.258097   \n",
      "                    189             0.762140              4.0  2.708050   \n",
      "                    190             0.194156              2.0  3.526361   \n",
      "                    191             0.194156              2.0  3.526361   \n",
      "                    192             1.386294              6.0  3.332205   \n",
      "\n",
      "                                     x  \n",
      "subject session run trial_nr            \n",
      "02      7t2     1   1         0.641854  \n",
      "                    2         1.252763  \n",
      "                    3         0.955511  \n",
      "                    4         0.857450  \n",
      "                    5         0.530628  \n",
      "...                                ...  \n",
      "32      7t2     8   188       0.955511  \n",
      "                    189       0.762140  \n",
      "                    190       0.194156  \n",
      "                    191       0.194156  \n",
      "                    192       1.386294  \n",
      "\n",
      "[5760 rows x 24 columns]\n",
      "                       meynert\n",
      "subject run trial_nr          \n",
      "02      1   1        -2.490014\n",
      "            2        -2.268312\n",
      "            3         2.140565\n",
      "            4         0.394223\n",
      "            5        -0.640652\n",
      "...                        ...\n",
      "32      8   188       0.433927\n",
      "            189       0.023681\n",
      "            190      -0.594520\n",
      "            191       0.277992\n",
      "            192       0.528000\n",
      "\n",
      "[5760 rows x 1 columns]\n"
     ]
    },
    {
     "name": "stderr",
     "output_type": "stream",
     "text": [
      "100%|██████████| 30/30 [00:00<00:00, 31.20it/s]\n"
     ]
    },
    {
     "name": "stdout",
     "output_type": "stream",
     "text": [
      "Running with PCA!\n",
      "                                    rt  uncertainty  z_uncertainty  \\\n",
      "subject session run trial_nr                                         \n",
      "02      7t2     1   1         1.544193          3.0       1.190537   \n",
      "                    2         0.890433          3.0       1.190537   \n",
      "                    3         1.707715          3.0       1.190537   \n",
      "                    4         0.689762          2.0      -0.101466   \n",
      "                    5         1.306945          2.0      -0.101466   \n",
      "...                                ...          ...            ...   \n",
      "32      7t2     8   188       0.574373          1.0      -0.535805   \n",
      "                    189       0.424887          2.0       1.856628   \n",
      "                    190       0.508297          1.0      -0.535805   \n",
      "                    191       0.508506          1.0      -0.535805   \n",
      "                    192       0.542275          2.0       1.856628   \n",
      "\n",
      "                             median_split_uncertainty    n1    n2  prob1  \\\n",
      "subject session run trial_nr                                               \n",
      "02      7t2     1   1                high uncertainty  19.0  10.0   0.55   \n",
      "                    2                high uncertainty  98.0  28.0   0.55   \n",
      "                    3                high uncertainty  52.0  20.0   0.55   \n",
      "                    4                 low uncertainty  66.0  28.0   0.55   \n",
      "                    5                 low uncertainty  17.0  10.0   0.55   \n",
      "...                                               ...   ...   ...    ...   \n",
      "32      7t2     8   188               low uncertainty  26.0  10.0   0.55   \n",
      "                    189              high uncertainty  15.0   7.0   0.55   \n",
      "                    190               low uncertainty  34.0  28.0   0.55   \n",
      "                    191               low uncertainty  34.0  28.0   0.55   \n",
      "                    192              high uncertainty  28.0   7.0   0.55   \n",
      "\n",
      "                              prob2    p1   p2  ...  risky_first  chose_risky  \\\n",
      "subject session run trial_nr                    ...                             \n",
      "02      7t2     1   1           1.0  0.55  1.0  ...         True        False   \n",
      "                    2           1.0  0.55  1.0  ...         True         True   \n",
      "                    3           1.0  0.55  1.0  ...         True         True   \n",
      "                    4           1.0  0.55  1.0  ...         True         True   \n",
      "                    5           1.0  0.55  1.0  ...         True         True   \n",
      "...                             ...   ...  ...  ...          ...          ...   \n",
      "32      7t2     8   188         1.0  0.55  1.0  ...         True        False   \n",
      "                    189         1.0  0.55  1.0  ...         True        False   \n",
      "                    190         1.0  0.55  1.0  ...         True        False   \n",
      "                    191         1.0  0.55  1.0  ...         True        False   \n",
      "                    192         1.0  0.55  1.0  ...         True        False   \n",
      "\n",
      "                                    Order  n_risky  n_safe      frac  \\\n",
      "subject session run trial_nr                                           \n",
      "02      7t2     1   1         Risky first     19.0    10.0  1.900000   \n",
      "                    2         Risky first     98.0    28.0  3.500000   \n",
      "                    3         Risky first     52.0    20.0  2.600000   \n",
      "                    4         Risky first     66.0    28.0  2.357143   \n",
      "                    5         Risky first     17.0    10.0  1.700000   \n",
      "...                                   ...      ...     ...       ...   \n",
      "32      7t2     8   188       Risky first     26.0    10.0  2.600000   \n",
      "                    189       Risky first     15.0     7.0  2.142857   \n",
      "                    190       Risky first     34.0    28.0  1.214286   \n",
      "                    191       Risky first     34.0    28.0  1.214286   \n",
      "                    192       Risky first     28.0     7.0  4.000000   \n",
      "\n",
      "                             log(risky/safe)  bin(risky/safe)   log(n1)  \\\n",
      "subject session run trial_nr                                              \n",
      "02      7t2     1   1               0.641854              2.0  2.944439   \n",
      "                    2               1.252763              6.0  4.584967   \n",
      "                    3               0.955511              4.0  3.951244   \n",
      "                    4               0.857450              3.0  4.189655   \n",
      "                    5               0.530628              1.0  2.833213   \n",
      "...                                      ...              ...       ...   \n",
      "32      7t2     8   188             0.955511              4.0  3.258097   \n",
      "                    189             0.762140              4.0  2.708050   \n",
      "                    190             0.194156              2.0  3.526361   \n",
      "                    191             0.194156              2.0  3.526361   \n",
      "                    192             1.386294              6.0  3.332205   \n",
      "\n",
      "                                     x  \n",
      "subject session run trial_nr            \n",
      "02      7t2     1   1         0.641854  \n",
      "                    2         1.252763  \n",
      "                    3         0.955511  \n",
      "                    4         0.857450  \n",
      "                    5         0.530628  \n",
      "...                                ...  \n",
      "32      7t2     8   188       0.955511  \n",
      "                    189       0.762140  \n",
      "                    190       0.194156  \n",
      "                    191       0.194156  \n",
      "                    192       1.386294  \n",
      "\n",
      "[5760 rows x 24 columns]\n",
      "                      dmidbrain\n",
      "subject run trial_nr           \n",
      "02      1   1         -0.392558\n",
      "            2         -2.355602\n",
      "            3          2.374544\n",
      "            4          0.917844\n",
      "            5         -1.116782\n",
      "...                         ...\n",
      "32      8   188        0.619712\n",
      "            189        0.497588\n",
      "            190       -0.884158\n",
      "            191        0.836073\n",
      "            192        0.759156\n",
      "\n",
      "[5760 rows x 1 columns]\n"
     ]
    },
    {
     "ename": "FileNotFoundError",
     "evalue": "[Errno 2] No such file or directory: b'/data/ds-risk/derivatives/cogmodels/model-probit_subcortical_prestim_complex.pca_ses-7t2_roi-dmidbrain_trace.netcdf'",
     "output_type": "error",
     "traceback": [
      "\u001b[0;31m---------------------------------------------------------------------------\u001b[0m",
      "\u001b[0;31mFileNotFoundError\u001b[0m                         Traceback (most recent call last)",
      "Cell \u001b[0;32mIn[150], line 6\u001b[0m\n\u001b[1;32m      3\u001b[0m gammas \u001b[39m=\u001b[39m []\n\u001b[1;32m      5\u001b[0m \u001b[39mfor\u001b[39;00m roi \u001b[39min\u001b[39;00m rois:\n\u001b[0;32m----> 6\u001b[0m     df, model, idata \u001b[39m=\u001b[39m load(\u001b[39m'\u001b[39;49m\u001b[39mprobit_subcortical_prestim_complex.pca\u001b[39;49m\u001b[39m'\u001b[39;49m, \u001b[39m'\u001b[39;49m\u001b[39m7t2\u001b[39;49m\u001b[39m'\u001b[39;49m, roi\u001b[39m=\u001b[39;49mroi)\n\u001b[1;32m      7\u001b[0m     intercept, gamma \u001b[39m=\u001b[39m extract_intercept_gamma(idata, model, df, group\u001b[39m=\u001b[39m\u001b[39mFalse\u001b[39;00m)\n\u001b[1;32m      8\u001b[0m     rnp \u001b[39m=\u001b[39m np\u001b[39m.\u001b[39mexp(intercept[\u001b[39m'\u001b[39m\u001b[39mintercept\u001b[39m\u001b[39m'\u001b[39m]\u001b[39m/\u001b[39mgamma[\u001b[39m'\u001b[39m\u001b[39mgamma\u001b[39m\u001b[39m'\u001b[39m])\u001b[39m.\u001b[39mstack([\u001b[39m-\u001b[39m\u001b[39m2\u001b[39m, \u001b[39m-\u001b[39m\u001b[39m1\u001b[39m])\u001b[39m.\u001b[39mto_frame(\u001b[39m'\u001b[39m\u001b[39mrnp\u001b[39m\u001b[39m'\u001b[39m)\n",
      "Cell \u001b[0;32mIn[134], line 4\u001b[0m, in \u001b[0;36mload\u001b[0;34m(model_label, session, bids_folder, roi)\u001b[0m\n\u001b[1;32m      2\u001b[0m df \u001b[39m=\u001b[39m get_data(model_label, session, bids_folder, roi\u001b[39m=\u001b[39mroi)\n\u001b[1;32m      3\u001b[0m model \u001b[39m=\u001b[39m build_model(model_label, df, session, bids_folder, roi\u001b[39m=\u001b[39mroi)\n\u001b[0;32m----> 4\u001b[0m idata \u001b[39m=\u001b[39m az\u001b[39m.\u001b[39;49mfrom_netcdf(\u001b[39mf\u001b[39;49m\u001b[39m'\u001b[39;49m\u001b[39m/data/ds-risk/derivatives/cogmodels/model-\u001b[39;49m\u001b[39m{\u001b[39;49;00mmodel_label\u001b[39m}\u001b[39;49;00m\u001b[39m_ses-\u001b[39;49m\u001b[39m{\u001b[39;49;00msession\u001b[39m}\u001b[39;49;00m\u001b[39m_roi-\u001b[39;49m\u001b[39m{\u001b[39;49;00mroi\u001b[39m}\u001b[39;49;00m\u001b[39m_trace.netcdf\u001b[39;49m\u001b[39m'\u001b[39;49m)\n\u001b[1;32m      6\u001b[0m \u001b[39mreturn\u001b[39;00m df, model, idata\n",
      "File \u001b[0;32m~/mambaforge/lib/python3.10/site-packages/arviz/data/io_netcdf.py:34\u001b[0m, in \u001b[0;36mfrom_netcdf\u001b[0;34m(filename, group_kwargs, regex)\u001b[0m\n\u001b[1;32m     32\u001b[0m \u001b[39mif\u001b[39;00m group_kwargs \u001b[39mis\u001b[39;00m \u001b[39mNone\u001b[39;00m:\n\u001b[1;32m     33\u001b[0m     group_kwargs \u001b[39m=\u001b[39m {}\n\u001b[0;32m---> 34\u001b[0m \u001b[39mreturn\u001b[39;00m InferenceData\u001b[39m.\u001b[39;49mfrom_netcdf(filename, group_kwargs, regex)\n",
      "File \u001b[0;32m~/mambaforge/lib/python3.10/site-packages/arviz/data/inference_data.py:402\u001b[0m, in \u001b[0;36mInferenceData.from_netcdf\u001b[0;34m(filename, group_kwargs, regex)\u001b[0m\n\u001b[1;32m    391\u001b[0m \u001b[39mif\u001b[39;00m err\u001b[39m.\u001b[39merrno \u001b[39m==\u001b[39m \u001b[39m-\u001b[39m\u001b[39m101\u001b[39m:\n\u001b[1;32m    392\u001b[0m     \u001b[39mraise\u001b[39;00m \u001b[39mtype\u001b[39m(err)(\n\u001b[1;32m    393\u001b[0m         \u001b[39mstr\u001b[39m(err)\n\u001b[1;32m    394\u001b[0m         \u001b[39m+\u001b[39m (\n\u001b[0;32m   (...)\u001b[0m\n\u001b[1;32m    400\u001b[0m         )\n\u001b[1;32m    401\u001b[0m     ) \u001b[39mfrom\u001b[39;00m \u001b[39merr\u001b[39;00m\n\u001b[0;32m--> 402\u001b[0m \u001b[39mraise\u001b[39;00m err\n",
      "File \u001b[0;32m~/mambaforge/lib/python3.10/site-packages/arviz/data/inference_data.py:369\u001b[0m, in \u001b[0;36mInferenceData.from_netcdf\u001b[0;34m(filename, group_kwargs, regex)\u001b[0m\n\u001b[1;32m    366\u001b[0m attrs \u001b[39m=\u001b[39m {}\n\u001b[1;32m    368\u001b[0m \u001b[39mtry\u001b[39;00m:\n\u001b[0;32m--> 369\u001b[0m     \u001b[39mwith\u001b[39;00m nc\u001b[39m.\u001b[39;49mDataset(filename, mode\u001b[39m=\u001b[39;49m\u001b[39m\"\u001b[39;49m\u001b[39mr\u001b[39;49m\u001b[39m\"\u001b[39;49m) \u001b[39mas\u001b[39;00m data:\n\u001b[1;32m    370\u001b[0m         data_groups \u001b[39m=\u001b[39m \u001b[39mlist\u001b[39m(data\u001b[39m.\u001b[39mgroups)\n\u001b[1;32m    372\u001b[0m     \u001b[39mfor\u001b[39;00m group \u001b[39min\u001b[39;00m data_groups:\n",
      "File \u001b[0;32msrc/netCDF4/_netCDF4.pyx:2463\u001b[0m, in \u001b[0;36mnetCDF4._netCDF4.Dataset.__init__\u001b[0;34m()\u001b[0m\n",
      "File \u001b[0;32msrc/netCDF4/_netCDF4.pyx:2026\u001b[0m, in \u001b[0;36mnetCDF4._netCDF4._ensure_nc_success\u001b[0;34m()\u001b[0m\n",
      "\u001b[0;31mFileNotFoundError\u001b[0m: [Errno 2] No such file or directory: b'/data/ds-risk/derivatives/cogmodels/model-probit_subcortical_prestim_complex.pca_ses-7t2_roi-dmidbrain_trace.netcdf'"
     ]
    }
   ],
   "source": [
    "order = ['Low subcortical activation', 'High subcortical activation']\n",
    "rnps = []\n",
    "gammas = []\n",
    "\n",
    "for roi in rois:\n",
    "    df, model, idata = load('probit_subcortical_prestim_complex.pca', '7t2', roi=roi)\n",
    "    intercept, gamma = extract_intercept_gamma(idata, model, df, group=False)\n",
    "    rnp = np.exp(intercept['intercept']/gamma['gamma']).stack([-2, -1]).to_frame('rnp')\n",
    "    rnp.index = rnp.index.set_levels(rnp.index.levels[1].astype(int), level=1)\n",
    "    rnp = rnp[(rnp['rnp'] > 0.0) & (rnp['rnp'] < 1.0)]\n",
    "\n",
    "    gamma = gamma.stack([-2, -1])\n",
    "\n",
    "    rnps.append(rnp)\n",
    "    gammas.append(gamma)\n",
    "\n",
    "\n",
    "rnp = pd.concat(rnps, keys=rois, names=['roi'])\n",
    "gamma = pd.concat(gammas, keys=rois, names=['roi'])\n",
    "\n",
    "rnp['Order'] = rnp.index.get_level_values('risky_first').map({True:'Risky first', False:'Safe first'})\n",
    "rnp['Subcortical response'] = rnp.index.get_level_values('median_split_subcortical_baseline')#.map({True:'Large', False:'Small'})\n",
    "rnp['distance_to_risk_neutral'] = (rnp['rnp'] - .55).abs()\n",
    "\n",
    "\n",
    "for roi, r in rnp.groupby('roi'):\n",
    "\n",
    "    tmp = r.groupby(['chain', 'draw', 'Subcortical response']).mean()\n",
    "\n",
    "    fac = sns.FacetGrid(tmp.reset_index(), hue='Subcortical response', palette=palette,\n",
    "                       height=1.5*3.2*cm,\n",
    "                       hue_order=order)\n",
    "    \n",
    "    fac.map(sns.kdeplot, 'distance_to_risk_neutral', fill=True)\n",
    "\n",
    "    fac.set(xlabel=None, ylabel=None, yticks=[])\n",
    "    split = tmp['distance_to_risk_neutral'].unstack('Subcortical response')\n",
    "    print(roi, (split[order[0]] < split[order[1]]).mean())\n",
    "    plt.savefig(op.join(bids_folder, 'derivatives', 'figures', f'model-rnp_subcortical_prestim_roi-{roi}_rnp_distance.pdf'), bbox_inches='tight')"
   ]
  },
  {
   "cell_type": "code",
   "execution_count": null,
   "metadata": {},
   "outputs": [
    {
     "data": {
      "image/png": "[encoded data removed]",
      "text/plain": [
       "<Figure size 640x480 with 1 Axes>"
      ]
     },
     "metadata": {},
     "output_type": "display_data"
    }
   ],
   "source": [
    "from matplotlib.lines import Line2D\n",
    "from matplotlib.patches import Patch\n",
    "\n",
    "\n",
    "fig = plt.gcf()\n",
    "\n",
    "legend_elements = [Patch(facecolor=palette[0], label='Low baseline activation'),\n",
    "                   Patch(facecolor=palette[1], label='High baseline activation') ]\n",
    "\n",
    "\n",
    "legend = plt.legend(handles=legend_elements, loc='center')\n",
    "plt.axis('off')\n",
    "\n",
    "bbox  = legend.get_window_extent().transformed(fig.dpi_scale_trans.inverted())\n",
    "# fig.savefig(filename, dpi=\"figure\", bbox_inches=bbox)\n",
    "\n",
    "plt.savefig('/data/ds-risk/derivatives/figures/subcortical_prestim_legend.pdf', bbox_inches=bbox)"
   ]
  },
  {
   "cell_type": "code",
   "execution_count": null,
   "metadata": {},
   "outputs": [],
   "source": []
  }
 ],
 "metadata": {
  "kernelspec": {
   "display_name": "base",
   "language": "python",
   "name": "python3"
  },
  "language_info": {
   "codemirror_mode": {
    "name": "ipython",
    "version": 3
   },
   "file_extension": ".py",
   "mimetype": "text/x-python",
   "name": "python",
   "nbconvert_exporter": "python",
   "pygments_lexer": "ipython3",
   "version": "3.10.6"
  },
  "orig_nbformat": 4,
  "vscode": {
   "interpreter": {
    "hash": "a128080c8c39cf33963eaaa0fee95f5610fd25c7c34c91613760903d9a2a0b15"
   }
  }
 },
 "nbformat": 4,
 "nbformat_minor": 2
}
