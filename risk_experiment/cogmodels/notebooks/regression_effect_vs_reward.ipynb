{
 "cells": [
  {
   "cell_type": "code",
   "execution_count": 1,
   "metadata": {},
   "outputs": [
    {
     "name": "stderr",
     "output_type": "stream",
     "text": [
      "/Users/gdehol/mambaforge/lib/python3.10/site-packages/nilearn/glm/__init__.py:55: FutureWarning: The nilearn.glm module is experimental. It may change in any future release of Nilearn.\n",
      "  warn('The nilearn.glm module is experimental. '\n",
      "WARNING (aesara.tensor.blas): Using NumPy C-API based implementation for BLAS functions.\n"
     ]
    }
   ],
   "source": [
    "import arviz as az\n",
    "import pandas as pd\n",
    "import seaborn as sns\n",
    "import matplotlib.pyplot as plt\n",
    "sns.set_theme('paper', 'white', font='helvetica', font_scale=1.25, palette='tab10')\n",
    "import os.path as op\n",
    "from risk_experiment.cogmodels.fit_model import build_model, get_data\n",
    "bids_folder = '/data/ds-risk'"
   ]
  },
  {
   "cell_type": "code",
   "execution_count": 14,
   "metadata": {},
   "outputs": [],
   "source": [
    "def load_data(session):\n",
    "    model_label = 'neural3'\n",
    "    bids_folder = '/data/ds-risk'\n",
    "    roi = 'npcr'\n",
    "\n",
    "    df = get_data(model_label, session, bids_folder, roi)\n",
    "    model = build_model(model_label, df, roi)\n",
    "    if session is None:\n",
    "        idata = az.from_netcdf(op.join(bids_folder, 'derivatives', 'cogmodels', f'model-neural33_trace.netcdf'))\n",
    "    else:\n",
    "        idata = az.from_netcdf(op.join(bids_folder, 'derivatives', 'cogmodels', f'ses-{session}_model-neural3_trace.netcdf'))\n",
    "\n",
    "    return df, model, idata\n",
    "\n",
    "\n",
    "def get_pars(session):\n",
    "\n",
    "    df, model, idata = load_data(session)\n",
    "    mean_risky_prior_shift = idata['posterior']['risky_prior_std'].to_dataframe().xs('sd', 0, -1).groupby('subject').mean()\n",
    "    mean_safe_prior_shift = idata['posterior']['safe_prior_std'].to_dataframe().xs('sd', 0, -1).groupby('subject').mean()\n",
    "    n1_evidence_sd = idata['posterior']['n1_evidence_sd'].to_dataframe().xs('sd', 0, -1).groupby('subject').mean()\n",
    "\n",
    "    pars = mean_safe_prior_shift.join(mean_risky_prior_shift).join(n1_evidence_sd)\n",
    "\n",
    "    df['EV1'] = df['prob1']*df['n1']\n",
    "    df['EV2'] = df['prob2']*df['n2']\n",
    "\n",
    "    df.loc[df.choice == 1.0, 'EV(choice)'] = df['EV1']\n",
    "    df.loc[df.choice == 2.0, 'EV(choice)'] = df['EV2']\n",
    "    tmp = df.groupby(['subject', 'median_split(sd)']).mean()[['EV(choice)']]\n",
    "\n",
    "    loss = tmp.unstack('median_split(sd)').droplevel(0, axis=1)\n",
    "    loss = loss['Low neural uncertainty'] - loss['High neural uncertainty']\n",
    "    pars['mean_prior_shift'] = pars[['risky_prior_std', 'safe_prior_std']].mean(1)\n",
    "    pars['loss'] = loss\n",
    "    \n",
    "\n",
    "    return pars"
   ]
  },
  {
   "cell_type": "code",
   "execution_count": 20,
   "metadata": {},
   "outputs": [
    {
     "name": "stderr",
     "output_type": "stream",
     "text": [
      "100%|██████████| 30/30 [00:01<00:00, 28.84it/s]\n",
      "/var/folders/d4/cpqhwlbn301clph1qk64k01nmjkty3/T/ipykernel_70946/1008591576.py:30: FutureWarning: The default value of numeric_only in DataFrameGroupBy.mean is deprecated. In a future version, numeric_only will default to False. Either specify numeric_only or select only columns which should be valid for the function.\n",
      "  tmp = df.groupby(['subject', 'median_split(sd)']).mean()[['EV(choice)']]\n",
      "100%|██████████| 30/30 [00:00<00:00, 32.39it/s]\n",
      "/var/folders/d4/cpqhwlbn301clph1qk64k01nmjkty3/T/ipykernel_70946/1008591576.py:30: FutureWarning: The default value of numeric_only in DataFrameGroupBy.mean is deprecated. In a future version, numeric_only will default to False. Either specify numeric_only or select only columns which should be valid for the function.\n",
      "  tmp = df.groupby(['subject', 'median_split(sd)']).mean()[['EV(choice)']]\n",
      "100%|██████████| 30/30 [00:01<00:00, 23.54it/s]\n",
      "/var/folders/d4/cpqhwlbn301clph1qk64k01nmjkty3/T/ipykernel_70946/1008591576.py:30: FutureWarning: The default value of numeric_only in DataFrameGroupBy.mean is deprecated. In a future version, numeric_only will default to False. Either specify numeric_only or select only columns which should be valid for the function.\n",
      "  tmp = df.groupby(['subject', 'median_split(sd)']).mean()[['EV(choice)']]\n"
     ]
    }
   ],
   "source": [
    "sessions = ['3t2', '7t2', None]\n",
    "\n",
    "pars = []\n",
    "\n",
    "for session in sessions:\n",
    "    pars.append(get_pars(session))\n",
    "\n",
    "sessions = ['3t2', '7t2', 'both']\n",
    "\n",
    "pars = pd.concat(pars, keys=sessions, names=['session'])"
   ]
  },
  {
   "cell_type": "code",
   "execution_count": 22,
   "metadata": {},
   "outputs": [
    {
     "name": "stdout",
     "output_type": "stream",
     "text": [
      "safe_prior_std      0.158939\n",
      "risky_prior_std     0.064477\n",
      "n1_evidence_sd      0.026310\n",
      "mean_prior_shift    0.217644\n",
      "loss                1.000000\n",
      "Name: loss, dtype: float64\n",
      "safe_prior_std      0.008790\n",
      "risky_prior_std     0.112403\n",
      "n1_evidence_sd     -0.254255\n",
      "mean_prior_shift    0.110698\n",
      "loss                1.000000\n",
      "Name: loss, dtype: float64\n",
      "safe_prior_std      0.130259\n",
      "risky_prior_std     0.062436\n",
      "n1_evidence_sd     -0.128839\n",
      "mean_prior_shift    0.147990\n",
      "loss                1.000000\n",
      "Name: loss, dtype: float64\n"
     ]
    }
   ],
   "source": [
    "for session, p in pars.groupby('session'):\n",
    "    print(p.corr().loc['loss'])"
   ]
  },
  {
   "cell_type": "code",
   "execution_count": 31,
   "metadata": {},
   "outputs": [],
   "source": [
    "import seaborn as sns\n",
    "import numpy as np"
   ]
  },
  {
   "cell_type": "code",
   "execution_count": 33,
   "metadata": {},
   "outputs": [
    {
     "data": {
      "text/plain": [
       "<seaborn.axisgrid.FacetGrid at 0x2bb4069b0>"
      ]
     },
     "execution_count": 33,
     "metadata": {},
     "output_type": "execute_result"
    },
    {
     "data": {
      "image/png": "[encoded data removed]",
      "text/plain": [
       "<Figure size 900x300 with 3 Axes>"
      ]
     },
     "metadata": {},
     "output_type": "display_data"
    }
   ],
   "source": [
    "fac = sns.FacetGrid(pars.reset_index(), hue='session', col='session')\n",
    "fac.map(sns.histplot, 'loss', fill=True, bins=np.arange(-10, 5))"
   ]
  },
  {
   "cell_type": "code",
   "execution_count": null,
   "metadata": {},
   "outputs": [],
   "source": []
  }
 ],
 "metadata": {
  "kernelspec": {
   "display_name": "base",
   "language": "python",
   "name": "python3"
  },
  "language_info": {
   "codemirror_mode": {
    "name": "ipython",
    "version": 3
   },
   "file_extension": ".py",
   "mimetype": "text/x-python",
   "name": "python",
   "nbconvert_exporter": "python",
   "pygments_lexer": "ipython3",
   "version": "3.10.6"
  },
  "orig_nbformat": 4
 },
 "nbformat": 4,
 "nbformat_minor": 2
}
